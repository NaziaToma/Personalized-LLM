{
 "cells": [
  {
   "cell_type": "code",
   "execution_count": 0,
   "metadata": {
    "application/vnd.databricks.v1+cell": {
     "cellMetadata": {
      "byteLimit": 2048000,
      "rowLimit": 10000
     },
     "inputWidgets": {},
     "nuid": "104fe739-8fe4-4407-9f7a-493fac7a6767",
     "showTitle": false,
     "tableResultSettingsMap": {},
     "title": ""
    }
   },
   "outputs": [
    {
     "name": "stdout",
     "output_type": "stream",
     "text": [
      "Requirement already satisfied: mlflow==2.10.2 in /local_disk0/.ephemeral_nfs/envs/pythonEnv-2b379d70-7987-4d0b-9e53-cffdb7c39cc3/lib/python3.12/site-packages (2.10.2)\n",
      "Collecting transformers==4.41.0\n",
      "  Downloading transformers-4.41.0-py3-none-any.whl.metadata (43 kB)\n",
      "\u001b[?25l     \u001b[90m━━━━━━━━━━━━━━━━━━━━━━━━━━━━━━━━━━━━━━━━\u001b[0m \u001b[32m0.0/43.8 kB\u001b[0m \u001b[31m?\u001b[0m eta \u001b[36m-:--:--\u001b[0m\n",
      "\u001b[2K     \u001b[90m━━━━━━━━━━━━━━━━━━━━━━━━━━━━━━━━━━━━━━━━\u001b[0m \u001b[32m43.8/43.8 kB\u001b[0m \u001b[31m1.8 MB/s\u001b[0m eta \u001b[36m0:00:00\u001b[0m\n",
      "\u001b[?25hRequirement already satisfied: langchain==0.1.20 in /local_disk0/.ephemeral_nfs/envs/pythonEnv-2b379d70-7987-4d0b-9e53-cffdb7c39cc3/lib/python3.12/site-packages (0.1.20)\n",
      "Requirement already satisfied: databricks-vectorsearch==0.22 in /local_disk0/.ephemeral_nfs/envs/pythonEnv-2b379d70-7987-4d0b-9e53-cffdb7c39cc3/lib/python3.12/site-packages (0.22)\n",
      "Requirement already satisfied: databricks-sdk==0.20.0 in /local_disk0/.ephemeral_nfs/envs/pythonEnv-2b379d70-7987-4d0b-9e53-cffdb7c39cc3/lib/python3.12/site-packages (0.20.0)\n",
      "Requirement already satisfied: markdownify in /local_disk0/.ephemeral_nfs/envs/pythonEnv-2b379d70-7987-4d0b-9e53-cffdb7c39cc3/lib/python3.12/site-packages (1.1.0)\n",
      "Requirement already satisfied: lxml==4.9.3 in /local_disk0/.ephemeral_nfs/envs/pythonEnv-2b379d70-7987-4d0b-9e53-cffdb7c39cc3/lib/python3.12/site-packages (4.9.3)\n",
      "Requirement already satisfied: huggingface-hub in /local_disk0/.ephemeral_nfs/envs/pythonEnv-2b379d70-7987-4d0b-9e53-cffdb7c39cc3/lib/python3.12/site-packages (0.30.1)\n",
      "Requirement already satisfied: click<9,>=7.0 in /databricks/python3/lib/python3.12/site-packages (from mlflow==2.10.2) (8.1.7)\n",
      "Requirement already satisfied: cloudpickle<4 in /databricks/python3/lib/python3.12/site-packages (from mlflow==2.10.2) (2.2.1)\n",
      "Requirement already satisfied: entrypoints<1 in /databricks/python3/lib/python3.12/site-packages (from mlflow==2.10.2) (0.4)\n",
      "Requirement already satisfied: gitpython<4,>=2.1.0 in /databricks/python3/lib/python3.12/site-packages (from mlflow==2.10.2) (3.1.37)\n",
      "Requirement already satisfied: pyyaml<7,>=5.1 in /databricks/python3/lib/python3.12/site-packages (from mlflow==2.10.2) (6.0.1)\n",
      "Requirement already satisfied: protobuf<5,>=3.12.0 in /databricks/python3/lib/python3.12/site-packages (from mlflow==2.10.2) (4.24.1)\n",
      "Requirement already satisfied: pytz<2024 in /local_disk0/.ephemeral_nfs/envs/pythonEnv-2b379d70-7987-4d0b-9e53-cffdb7c39cc3/lib/python3.12/site-packages (from mlflow==2.10.2) (2023.4)\n",
      "Requirement already satisfied: requests<3,>=2.17.3 in /databricks/python3/lib/python3.12/site-packages (from mlflow==2.10.2) (2.32.2)\n",
      "Requirement already satisfied: packaging<24 in /local_disk0/.ephemeral_nfs/envs/pythonEnv-2b379d70-7987-4d0b-9e53-cffdb7c39cc3/lib/python3.12/site-packages (from mlflow==2.10.2) (23.2)\n",
      "Requirement already satisfied: importlib-metadata!=4.7.0,<8,>=3.7.0 in /databricks/python3/lib/python3.12/site-packages (from mlflow==2.10.2) (6.0.0)\n",
      "Requirement already satisfied: sqlparse<1,>=0.4.0 in /databricks/python3/lib/python3.12/site-packages (from mlflow==2.10.2) (0.4.2)\n",
      "Requirement already satisfied: alembic!=1.10.0,<2 in /databricks/python3/lib/python3.12/site-packages (from mlflow==2.10.2) (1.14.1)\n",
      "Requirement already satisfied: docker<8,>=4.0.0 in /local_disk0/.ephemeral_nfs/envs/pythonEnv-2b379d70-7987-4d0b-9e53-cffdb7c39cc3/lib/python3.12/site-packages (from mlflow==2.10.2) (7.1.0)\n",
      "Requirement already satisfied: Flask<4 in /databricks/python3/lib/python3.12/site-packages (from mlflow==2.10.2) (2.2.5)\n",
      "Requirement already satisfied: numpy<2 in /databricks/python3/lib/python3.12/site-packages (from mlflow==2.10.2) (1.26.4)\n",
      "Requirement already satisfied: scipy<2 in /databricks/python3/lib/python3.12/site-packages (from mlflow==2.10.2) (1.13.1)\n",
      "Requirement already satisfied: pandas<3 in /databricks/python3/lib/python3.12/site-packages (from mlflow==2.10.2) (1.5.3)\n",
      "Requirement already satisfied: querystring-parser<2 in /local_disk0/.ephemeral_nfs/envs/pythonEnv-2b379d70-7987-4d0b-9e53-cffdb7c39cc3/lib/python3.12/site-packages (from mlflow==2.10.2) (1.2.4)\n",
      "Requirement already satisfied: sqlalchemy<3,>=1.4.0 in /databricks/python3/lib/python3.12/site-packages (from mlflow==2.10.2) (2.0.30)\n",
      "Requirement already satisfied: scikit-learn<2 in /databricks/python3/lib/python3.12/site-packages (from mlflow==2.10.2) (1.4.2)\n",
      "Requirement already satisfied: pyarrow<16,>=4.0.0 in /databricks/python3/lib/python3.12/site-packages (from mlflow==2.10.2) (15.0.2)\n",
      "Requirement already satisfied: markdown<4,>=3.3 in /databricks/python3/lib/python3.12/site-packages (from mlflow==2.10.2) (3.4.1)\n",
      "Requirement already satisfied: matplotlib<4 in /databricks/python3/lib/python3.12/site-packages (from mlflow==2.10.2) (3.8.4)\n",
      "Requirement already satisfied: gunicorn<22 in /databricks/python3/lib/python3.12/site-packages (from mlflow==2.10.2) (20.1.0)\n",
      "Requirement already satisfied: Jinja2<4,>=2.11 in /databricks/python3/lib/python3.12/site-packages (from mlflow==2.10.2) (3.1.4)\n",
      "Requirement already satisfied: filelock in /databricks/python3/lib/python3.12/site-packages (from transformers==4.41.0) (3.13.1)\n",
      "Requirement already satisfied: regex!=2019.12.17 in /databricks/python3/lib/python3.12/site-packages (from transformers==4.41.0) (2023.10.3)\n",
      "Collecting tokenizers<0.20,>=0.19 (from transformers==4.41.0)\n",
      "  Downloading tokenizers-0.19.1-cp312-cp312-manylinux_2_17_x86_64.manylinux2014_x86_64.whl.metadata (6.7 kB)\n",
      "Requirement already satisfied: safetensors>=0.4.1 in /databricks/python3/lib/python3.12/site-packages (from transformers==4.41.0) (0.4.4)\n",
      "Requirement already satisfied: tqdm>=4.27 in /databricks/python3/lib/python3.12/site-packages (from transformers==4.41.0) (4.66.4)\n",
      "Requirement already satisfied: aiohttp<4.0.0,>=3.8.3 in /databricks/python3/lib/python3.12/site-packages (from langchain==0.1.20) (3.9.5)\n",
      "Requirement already satisfied: dataclasses-json<0.7,>=0.5.7 in /local_disk0/.ephemeral_nfs/envs/pythonEnv-2b379d70-7987-4d0b-9e53-cffdb7c39cc3/lib/python3.12/site-packages (from langchain==0.1.20) (0.6.7)\n",
      "Requirement already satisfied: langchain-community<0.1,>=0.0.38 in /local_disk0/.ephemeral_nfs/envs/pythonEnv-2b379d70-7987-4d0b-9e53-cffdb7c39cc3/lib/python3.12/site-packages (from langchain==0.1.20) (0.0.38)\n",
      "Requirement already satisfied: langchain-core<0.2.0,>=0.1.52 in /local_disk0/.ephemeral_nfs/envs/pythonEnv-2b379d70-7987-4d0b-9e53-cffdb7c39cc3/lib/python3.12/site-packages (from langchain==0.1.20) (0.1.53)\n",
      "Requirement already satisfied: langchain-text-splitters<0.1,>=0.0.1 in /local_disk0/.ephemeral_nfs/envs/pythonEnv-2b379d70-7987-4d0b-9e53-cffdb7c39cc3/lib/python3.12/site-packages (from langchain==0.1.20) (0.0.2)\n",
      "Requirement already satisfied: langsmith<0.2.0,>=0.1.17 in /databricks/python3/lib/python3.12/site-packages (from langchain==0.1.20) (0.1.133)\n",
      "Requirement already satisfied: pydantic<3,>=1 in /databricks/python3/lib/python3.12/site-packages (from langchain==0.1.20) (2.8.2)\n",
      "Requirement already satisfied: tenacity<9.0.0,>=8.1.0 in /databricks/python3/lib/python3.12/site-packages (from langchain==0.1.20) (8.2.2)\n",
      "Requirement already satisfied: mlflow-skinny<3,>=2.4.0 in /databricks/python3/lib/python3.12/site-packages (from databricks-vectorsearch==0.22) (2.15.1)\n",
      "Requirement already satisfied: google-auth~=2.0 in /databricks/python3/lib/python3.12/site-packages (from databricks-sdk==0.20.0) (2.21.0)\n",
      "Requirement already satisfied: beautifulsoup4<5,>=4.9 in /databricks/python3/lib/python3.12/site-packages (from markdownify) (4.12.3)\n",
      "Requirement already satisfied: six<2,>=1.15 in /usr/lib/python3/dist-packages (from markdownify) (1.16.0)\n",
      "Requirement already satisfied: fsspec>=2023.5.0 in /databricks/python3/lib/python3.12/site-packages (from huggingface-hub) (2023.5.0)\n",
      "Requirement already satisfied: typing-extensions>=3.7.4.3 in /databricks/python3/lib/python3.12/site-packages (from huggingface-hub) (4.11.0)\n",
      "Requirement already satisfied: aiosignal>=1.1.2 in /databricks/python3/lib/python3.12/site-packages (from aiohttp<4.0.0,>=3.8.3->langchain==0.1.20) (1.2.0)\n",
      "Requirement already satisfied: attrs>=17.3.0 in /databricks/python3/lib/python3.12/site-packages (from aiohttp<4.0.0,>=3.8.3->langchain==0.1.20) (23.1.0)\n",
      "Requirement already satisfied: frozenlist>=1.1.1 in /databricks/python3/lib/python3.12/site-packages (from aiohttp<4.0.0,>=3.8.3->langchain==0.1.20) (1.4.0)\n",
      "Requirement already satisfied: multidict<7.0,>=4.5 in /databricks/python3/lib/python3.12/site-packages (from aiohttp<4.0.0,>=3.8.3->langchain==0.1.20) (6.0.4)\n",
      "Requirement already satisfied: yarl<2.0,>=1.0 in /databricks/python3/lib/python3.12/site-packages (from aiohttp<4.0.0,>=3.8.3->langchain==0.1.20) (1.9.3)\n",
      "Requirement already satisfied: Mako in /databricks/python3/lib/python3.12/site-packages (from alembic!=1.10.0,<2->mlflow==2.10.2) (1.2.0)\n",
      "Requirement already satisfied: soupsieve>1.2 in /databricks/python3/lib/python3.12/site-packages (from beautifulsoup4<5,>=4.9->markdownify) (2.5)\n",
      "Requirement already satisfied: marshmallow<4.0.0,>=3.18.0 in /local_disk0/.ephemeral_nfs/envs/pythonEnv-2b379d70-7987-4d0b-9e53-cffdb7c39cc3/lib/python3.12/site-packages (from dataclasses-json<0.7,>=0.5.7->langchain==0.1.20) (3.26.1)\n",
      "Requirement already satisfied: typing-inspect<1,>=0.4.0 in /local_disk0/.ephemeral_nfs/envs/pythonEnv-2b379d70-7987-4d0b-9e53-cffdb7c39cc3/lib/python3.12/site-packages (from dataclasses-json<0.7,>=0.5.7->langchain==0.1.20) (0.9.0)\n",
      "Requirement already satisfied: urllib3>=1.26.0 in /databricks/python3/lib/python3.12/site-packages (from docker<8,>=4.0.0->mlflow==2.10.2) (1.26.16)\n",
      "Requirement already satisfied: Werkzeug>=2.2.2 in /databricks/python3/lib/python3.12/site-packages (from Flask<4->mlflow==2.10.2) (3.0.3)\n",
      "Requirement already satisfied: itsdangerous>=2.0 in /databricks/python3/lib/python3.12/site-packages (from Flask<4->mlflow==2.10.2) (2.2.0)\n",
      "Requirement already satisfied: gitdb<5,>=4.0.1 in /databricks/python3/lib/python3.12/site-packages (from gitpython<4,>=2.1.0->mlflow==2.10.2) (4.0.11)\n",
      "Requirement already satisfied: cachetools<6.0,>=2.0.0 in /databricks/python3/lib/python3.12/site-packages (from google-auth~=2.0->databricks-sdk==0.20.0) (5.3.3)\n",
      "Requirement already satisfied: pyasn1-modules>=0.2.1 in /databricks/python3/lib/python3.12/site-packages (from google-auth~=2.0->databricks-sdk==0.20.0) (0.2.8)\n",
      "Requirement already satisfied: rsa<5,>=3.1.4 in /databricks/python3/lib/python3.12/site-packages (from google-auth~=2.0->databricks-sdk==0.20.0) (4.9)\n",
      "Requirement already satisfied: setuptools>=3.0 in /usr/local/lib/python3.12/dist-packages (from gunicorn<22->mlflow==2.10.2) (74.0.0)\n",
      "Requirement already satisfied: zipp>=0.5 in /databricks/python3/lib/python3.12/site-packages (from importlib-metadata!=4.7.0,<8,>=3.7.0->mlflow==2.10.2) (3.17.0)\n",
      "Requirement already satisfied: MarkupSafe>=2.0 in /databricks/python3/lib/python3.12/site-packages (from Jinja2<4,>=2.11->mlflow==2.10.2) (2.1.3)\n",
      "Requirement already satisfied: jsonpatch<2.0,>=1.33 in /databricks/python3/lib/python3.12/site-packages (from langchain-core<0.2.0,>=0.1.52->langchain==0.1.20) (1.33)\n",
      "Requirement already satisfied: httpx<1,>=0.23.0 in /databricks/python3/lib/python3.12/site-packages (from langsmith<0.2.0,>=0.1.17->langchain==0.1.20) (0.28.1)\n",
      "Requirement already satisfied: orjson<4.0.0,>=3.9.14 in /databricks/python3/lib/python3.12/site-packages (from langsmith<0.2.0,>=0.1.17->langchain==0.1.20) (3.10.15)\n",
      "Requirement already satisfied: requests-toolbelt<2.0.0,>=1.0.0 in /databricks/python3/lib/python3.12/site-packages (from langsmith<0.2.0,>=0.1.17->langchain==0.1.20) (1.0.0)\n",
      "Requirement already satisfied: contourpy>=1.0.1 in /databricks/python3/lib/python3.12/site-packages (from matplotlib<4->mlflow==2.10.2) (1.2.0)\n",
      "Requirement already satisfied: cycler>=0.10 in /databricks/python3/lib/python3.12/site-packages (from matplotlib<4->mlflow==2.10.2) (0.11.0)\n",
      "Requirement already satisfied: fonttools>=4.22.0 in /databricks/python3/lib/python3.12/site-packages (from matplotlib<4->mlflow==2.10.2) (4.51.0)\n",
      "Requirement already satisfied: kiwisolver>=1.3.1 in /databricks/python3/lib/python3.12/site-packages (from matplotlib<4->mlflow==2.10.2) (1.4.4)\n",
      "Requirement already satisfied: pillow>=8 in /databricks/python3/lib/python3.12/site-packages (from matplotlib<4->mlflow==2.10.2) (10.3.0)\n",
      "Requirement already satisfied: pyparsing>=2.3.1 in /databricks/python3/lib/python3.12/site-packages (from matplotlib<4->mlflow==2.10.2) (3.0.9)\n",
      "Requirement already satisfied: python-dateutil>=2.7 in /databricks/python3/lib/python3.12/site-packages (from matplotlib<4->mlflow==2.10.2) (2.9.0.post0)\n",
      "Requirement already satisfied: opentelemetry-api<3,>=1.9.0 in /databricks/python3/lib/python3.12/site-packages (from mlflow-skinny<3,>=2.4.0->databricks-vectorsearch==0.22) (1.30.0)\n",
      "Requirement already satisfied: opentelemetry-sdk<3,>=1.9.0 in /databricks/python3/lib/python3.12/site-packages (from mlflow-skinny<3,>=2.4.0->databricks-vectorsearch==0.22) (1.30.0)\n",
      "Requirement already satisfied: annotated-types>=0.4.0 in /databricks/python3/lib/python3.12/site-packages (from pydantic<3,>=1->langchain==0.1.20) (0.7.0)\n",
      "Requirement already satisfied: pydantic-core==2.20.1 in /databricks/python3/lib/python3.12/site-packages (from pydantic<3,>=1->langchain==0.1.20) (2.20.1)\n",
      "Requirement already satisfied: charset-normalizer<4,>=2 in /databricks/python3/lib/python3.12/site-packages (from requests<3,>=2.17.3->mlflow==2.10.2) (2.0.4)\n",
      "Requirement already satisfied: idna<4,>=2.5 in /databricks/python3/lib/python3.12/site-packages (from requests<3,>=2.17.3->mlflow==2.10.2) (3.7)\n",
      "Requirement already satisfied: certifi>=2017.4.17 in /databricks/python3/lib/python3.12/site-packages (from requests<3,>=2.17.3->mlflow==2.10.2) (2024.6.2)\n",
      "Requirement already satisfied: joblib>=1.2.0 in /databricks/python3/lib/python3.12/site-packages (from scikit-learn<2->mlflow==2.10.2) (1.4.2)\n",
      "Requirement already satisfied: threadpoolctl>=2.0.0 in /databricks/python3/lib/python3.12/site-packages (from scikit-learn<2->mlflow==2.10.2) (2.2.0)\n",
      "Requirement already satisfied: greenlet!=0.4.17 in /databricks/python3/lib/python3.12/site-packages (from sqlalchemy<3,>=1.4.0->mlflow==2.10.2) (3.0.1)\n",
      "Requirement already satisfied: smmap<6,>=3.0.1 in /databricks/python3/lib/python3.12/site-packages (from gitdb<5,>=4.0.1->gitpython<4,>=2.1.0->mlflow==2.10.2) (5.0.0)\n",
      "Requirement already satisfied: anyio in /databricks/python3/lib/python3.12/site-packages (from httpx<1,>=0.23.0->langsmith<0.2.0,>=0.1.17->langchain==0.1.20) (4.2.0)\n",
      "Requirement already satisfied: httpcore==1.* in /databricks/python3/lib/python3.12/site-packages (from httpx<1,>=0.23.0->langsmith<0.2.0,>=0.1.17->langchain==0.1.20) (1.0.7)\n",
      "Requirement already satisfied: h11<0.15,>=0.13 in /databricks/python3/lib/python3.12/site-packages (from httpcore==1.*->httpx<1,>=0.23.0->langsmith<0.2.0,>=0.1.17->langchain==0.1.20) (0.14.0)\n",
      "Requirement already satisfied: jsonpointer>=1.9 in /databricks/python3/lib/python3.12/site-packages (from jsonpatch<2.0,>=1.33->langchain-core<0.2.0,>=0.1.52->langchain==0.1.20) (3.0.0)\n",
      "Requirement already satisfied: deprecated>=1.2.6 in /databricks/python3/lib/python3.12/site-packages (from opentelemetry-api<3,>=1.9.0->mlflow-skinny<3,>=2.4.0->databricks-vectorsearch==0.22) (1.2.18)\n",
      "Requirement already satisfied: opentelemetry-semantic-conventions==0.51b0 in /databricks/python3/lib/python3.12/site-packages (from opentelemetry-sdk<3,>=1.9.0->mlflow-skinny<3,>=2.4.0->databricks-vectorsearch==0.22) (0.51b0)\n",
      "Requirement already satisfied: pyasn1<0.5.0,>=0.4.6 in /databricks/python3/lib/python3.12/site-packages (from pyasn1-modules>=0.2.1->google-auth~=2.0->databricks-sdk==0.20.0) (0.4.8)\n",
      "Requirement already satisfied: mypy-extensions>=0.3.0 in /databricks/python3/lib/python3.12/site-packages (from typing-inspect<1,>=0.4.0->dataclasses-json<0.7,>=0.5.7->langchain==0.1.20) (1.0.0)\n",
      "Requirement already satisfied: wrapt<2,>=1.10 in /databricks/python3/lib/python3.12/site-packages (from deprecated>=1.2.6->opentelemetry-api<3,>=1.9.0->mlflow-skinny<3,>=2.4.0->databricks-vectorsearch==0.22) (1.14.1)\n",
      "Requirement already satisfied: sniffio>=1.1 in /databricks/python3/lib/python3.12/site-packages (from anyio->httpx<1,>=0.23.0->langsmith<0.2.0,>=0.1.17->langchain==0.1.20) (1.3.0)\n",
      "Downloading transformers-4.41.0-py3-none-any.whl (9.1 MB)\n",
      "\u001b[?25l   \u001b[90m━━━━━━━━━━━━━━━━━━━━━━━━━━━━━━━━━━━━━━━━\u001b[0m \u001b[32m0.0/9.1 MB\u001b[0m \u001b[31m?\u001b[0m eta \u001b[36m-:--:--\u001b[0m\n",
      "\u001b[2K   \u001b[91m━━━━━━━━━━━━━━━━━━━\u001b[0m\u001b[91m╸\u001b[0m\u001b[90m━━━━━━━━━━━━━━━━━━━━\u001b[0m \u001b[32m4.5/9.1 MB\u001b[0m \u001b[31m134.5 MB/s\u001b[0m eta \u001b[36m0:00:01\u001b[0m\n",
      "\u001b[2K   \u001b[91m━━━━━━━━━━━━━━━━━━━━━━━━━━━━━━━━━━━━━━━\u001b[0m\u001b[91m╸\u001b[0m \u001b[32m9.1/9.1 MB\u001b[0m \u001b[31m154.7 MB/s\u001b[0m eta \u001b[36m0:00:01\u001b[0m\n",
      "\u001b[2K   \u001b[91m━━━━━━━━━━━━━━━━━━━━━━━━━━━━━━━━━━━━━━━\u001b[0m\u001b[91m╸\u001b[0m \u001b[32m9.1/9.1 MB\u001b[0m \u001b[31m154.7 MB/s\u001b[0m eta \u001b[36m0:00:01\u001b[0m\n",
      "\u001b[2K   \u001b[90m━━━━━━━━━━━━━━━━━━━━━━━━━━━━━━━━━━━━━━━━\u001b[0m \u001b[32m9.1/9.1 MB\u001b[0m \u001b[31m77.9 MB/s\u001b[0m eta \u001b[36m0:00:00\u001b[0m\n",
      "\u001b[?25hDownloading tokenizers-0.19.1-cp312-cp312-manylinux_2_17_x86_64.manylinux2014_x86_64.whl (3.6 MB)\n",
      "\u001b[?25l   \u001b[90m━━━━━━━━━━━━━━━━━━━━━━━━━━━━━━━━━━━━━━━━\u001b[0m \u001b[32m0.0/3.6 MB\u001b[0m \u001b[31m?\u001b[0m eta \u001b[36m-:--:--\u001b[0m\n",
      "\u001b[2K   \u001b[91m━━━━━━━━━━━━━━━━━━━━━━━━━━━━━━━━━━━━━━━\u001b[0m\u001b[91m╸\u001b[0m \u001b[32m3.6/3.6 MB\u001b[0m \u001b[31m225.9 MB/s\u001b[0m eta \u001b[36m0:00:01\u001b[0m\n",
      "\u001b[2K   \u001b[90m━━━━━━━━━━━━━━━━━━━━━━━━━━━━━━━━━━━━━━━━\u001b[0m \u001b[32m3.6/3.6 MB\u001b[0m \u001b[31m99.9 MB/s\u001b[0m eta \u001b[36m0:00:00\u001b[0m\n",
      "\u001b[?25hInstalling collected packages: tokenizers, transformers\n",
      "  Attempting uninstall: tokenizers\n",
      "    Found existing installation: tokenizers 0.15.2\n",
      "    Uninstalling tokenizers-0.15.2:\n",
      "      Successfully uninstalled tokenizers-0.15.2\n",
      "  Attempting uninstall: transformers\n",
      "    Found existing installation: transformers 4.37.2\n",
      "    Uninstalling transformers-4.37.2:\n",
      "      Successfully uninstalled transformers-4.37.2\n",
      "Successfully installed tokenizers-0.19.1 transformers-4.41.0\n",
      "\u001b[43mNote: you may need to restart the kernel using %restart_python or dbutils.library.restartPython() to use updated packages.\u001b[0m\n"
     ]
    }
   ],
   "source": [
    "%pip install --upgrade \\\n",
    "    mlflow==2.10.2 \\\n",
    "    transformers==4.41.0 \\\n",
    "    langchain==0.1.20 \\\n",
    "    databricks-vectorsearch==0.22 \\\n",
    "    databricks-sdk==0.20.0 \\\n",
    "    markdownify \\\n",
    "    lxml==4.9.3 \\\n",
    "    huggingface-hub\n",
    "\n",
    "dbutils.library.restartPython()"
   ]
  },
  {
   "cell_type": "code",
   "execution_count": 0,
   "metadata": {
    "application/vnd.databricks.v1+cell": {
     "cellMetadata": {
      "byteLimit": 2048000,
      "rowLimit": 10000
     },
     "inputWidgets": {},
     "nuid": "c56f279a-2d74-4a0e-88fc-0785f48fcd1d",
     "showTitle": false,
     "tableResultSettingsMap": {},
     "title": ""
    }
   },
   "outputs": [
    {
     "data": {
      "application/vnd.jupyter.widget-view+json": {
       "model_id": "652ff4fb8fc5482181ed07906c12b6ae",
       "version_major": 2,
       "version_minor": 0
      },
      "text/plain": [
       "VBox(children=(HTML(value='<center> <img\\nsrc=https://huggingface.co/front/assets/huggingface_logo-noborder.sv…"
      ]
     },
     "metadata": {},
     "output_type": "display_data"
    }
   ],
   "source": [
    "from huggingface_hub import login\n",
    "login()"
   ]
  },
  {
   "cell_type": "code",
   "execution_count": 0,
   "metadata": {
    "application/vnd.databricks.v1+cell": {
     "cellMetadata": {
      "byteLimit": 2048000,
      "rowLimit": 10000
     },
     "inputWidgets": {},
     "nuid": "6e078109-340e-456f-873f-a1992c66507d",
     "showTitle": false,
     "tableResultSettingsMap": {},
     "title": ""
    }
   },
   "outputs": [],
   "source": [
    "import os\n",
    "import requests\n",
    "from requests.adapters import HTTPAdapter\n",
    "import xml.etree.ElementTree as ET\n",
    "from concurrent.futures import ThreadPoolExecutor\n",
    "from urllib3.util.retry import Retry\n",
    "import pandas as pd\n",
    "import pyspark.sql.functions as F\n",
    "from pyspark.sql.functions import col, udf, length, lit, pandas_udf\n",
    "from pyspark.sql.types import StringType\n",
    "import mlflow\n",
    "import langchain"
   ]
  },
  {
   "cell_type": "code",
   "execution_count": 0,
   "metadata": {
    "application/vnd.databricks.v1+cell": {
     "cellMetadata": {
      "byteLimit": 2048000,
      "rowLimit": 10000
     },
     "inputWidgets": {},
     "nuid": "dbfba2e3-1d9d-4e14-90cc-416209089347",
     "showTitle": false,
     "tableResultSettingsMap": {},
     "title": ""
    }
   },
   "outputs": [],
   "source": [
    "##-- PAT Configuration\n",
    "'''\n",
    "If you're supplying the PAT as a Notebook Variable, edit the line \n",
    "below to add your PAT token. E.g.: \n",
    "If you've added the PAT as a secret, do not edit this cell.\n",
    "'''\n",
    "token_param = \"\""
   ]
  },
  {
   "cell_type": "code",
   "execution_count": 0,
   "metadata": {
    "application/vnd.databricks.v1+cell": {
     "cellMetadata": {
      "byteLimit": 2048000,
      "implicitDf": true,
      "rowLimit": 10000
     },
     "inputWidgets": {},
     "nuid": "0ac8f668-2ff5-4dea-a9c2-838a23fb196c",
     "showTitle": false,
     "tableResultSettingsMap": {},
     "title": ""
    }
   },
   "outputs": [
    {
     "data": {
      "text/html": [
       "<style scoped>\n",
       "  .table-result-container {\n",
       "    max-height: 300px;\n",
       "    overflow: auto;\n",
       "  }\n",
       "  table, th, td {\n",
       "    border: 1px solid black;\n",
       "    border-collapse: collapse;\n",
       "  }\n",
       "  th, td {\n",
       "    padding: 5px;\n",
       "  }\n",
       "  th {\n",
       "    text-align: left;\n",
       "  }\n",
       "</style><div class='table-result-container'><table class='table-result'><thead style='background-color: white'><tr><th>catalog</th></tr></thead><tbody><tr><td>__databricks_internal</td></tr><tr><td>dsa_quiz_generator</td></tr><tr><td>hive_metastore</td></tr><tr><td>samples</td></tr><tr><td>system</td></tr></tbody></table></div>"
      ]
     },
     "metadata": {
      "application/vnd.databricks.v1+output": {
       "addedWidgets": {},
       "aggData": [],
       "aggError": "",
       "aggOverflow": false,
       "aggSchema": [],
       "aggSeriesLimitReached": false,
       "aggType": "",
       "arguments": {},
       "columnCustomDisplayInfos": {},
       "data": [
        [
         "__databricks_internal"
        ],
        [
         "dsa_quiz_generator"
        ],
        [
         "hive_metastore"
        ],
        [
         "samples"
        ],
        [
         "system"
        ]
       ],
       "datasetInfos": [],
       "dbfsResultPath": null,
       "isJsonSchema": true,
       "metadata": {
        "createTempViewForImplicitDf": true,
        "dataframeName": "_sqldf",
        "executionCount": 26
       },
       "overflow": false,
       "plotOptions": {
        "customPlotOptions": {},
        "displayType": "table",
        "pivotAggregation": null,
        "pivotColumns": null,
        "xColumns": null,
        "yColumns": null
       },
       "removedWidgets": [],
       "schema": [
        {
         "metadata": "{}",
         "name": "catalog",
         "type": "\"string\""
        }
       ],
       "type": "table"
      }
     },
     "output_type": "display_data"
    }
   ],
   "source": [
    "%sql\n",
    "\n",
    "SHOW CATALOGS"
   ]
  },
  {
   "cell_type": "code",
   "execution_count": 0,
   "metadata": {
    "application/vnd.databricks.v1+cell": {
     "cellMetadata": {
      "byteLimit": 2048000,
      "rowLimit": 10000
     },
     "inputWidgets": {},
     "nuid": "667ba163-d339-46d6-b76c-1c2417498fbe",
     "showTitle": false,
     "tableResultSettingsMap": {},
     "title": ""
    }
   },
   "outputs": [],
   "source": [
    "##-- Unity Catalog Configuration\n",
    "'''\n",
    "Add the name of your catalog below\n",
    "E.g.: catalog = \"my_catalog\"\n",
    "'''\n",
    "catalog = \"dsa_quiz_generator\""
   ]
  },
  {
   "cell_type": "code",
   "execution_count": 0,
   "metadata": {
    "application/vnd.databricks.v1+cell": {
     "cellMetadata": {
      "byteLimit": 2048000,
      "rowLimit": 10000
     },
     "inputWidgets": {},
     "nuid": "7e1f29a7-eb22-4d06-9cd0-af613dc1c9ad",
     "showTitle": false,
     "tableResultSettingsMap": {},
     "title": ""
    }
   },
   "outputs": [],
   "source": [
    "##-- Get Databricks username to prepend demo artifacts\n",
    "email_param = spark.sql('select current_user() as user').collect()[0]['user']\n",
    "username_param = email_param.split('@')[0].replace('.', '_')\n",
    "\n",
    "##-- Unity Catalog Locations\n",
    "db = f\"{username_param}_docs_rag_demo\"\n",
    "\n",
    "##-- Pre/Post Processed Data Tables\n",
    "cloud_platform = \"db_v3\"\n",
    "bronze_data_table, silver_data_table = f\"{cloud_platform}_docs_bronze_data\", f\"{cloud_platform}_docs_silver_data\"\n",
    "vs_index_table = silver_data_table + f\"_{username_param}_index\"\n",
    "quiz_questions_table = f\"{cloud_platform}_quiz_questions_bronze_data\"\n",
    "##-- Table Paths\n",
    "bronze_data_table_path, silver_data_table_path, vs_index_table_path, quiz_questions_table_path = f\"{catalog}.{db}.{bronze_data_table}\", f\"{catalog}.{db}.{silver_data_table}\", f\"{catalog}.{db}.{vs_index_table}\", f\"{catalog}.{db}.{quiz_questions_table}\"\n",
    "\n",
    "##-- Vector Search Table Configuration\n",
    "endpoint_model_name = f\"{username_param}_{cloud_platform}_docs_rag_vs_endpoint\"\n",
    "\n",
    "##-- Embedding Configurations\n",
    "embedding_model_endpoint = \"databricks-bge-large-en\"\n",
    "embedding_text_data = \"content\"\n",
    "\n",
    "##-- Endpoint Configurations\n",
    "foundation_endpoint = \"databricks-mixtral-8x7b-instruct\"\n",
    "# foundation_endpoint = \"databricks-dbrx-instruct\"\n",
    "# NOTE TODO: I believe this is a gated model, and may have issues being accessed if someone doesn't auth to HF first with an acct.\n",
    "hf_tokenizer_repo = \"mistralai/Mixtral-8x7B-v0.1\"\n",
    "\n",
    "##-- Model Configurations\n",
    "run_name = \"db_quiz_generator_docs_rag_v3\"\n",
    "model_name = f\"{catalog}.{db}.{run_name}\"\n",
    "\n",
    "##-- Databricks Host for authentication\n",
    "domain_param = spark.conf.get(\"spark.databricks.workspaceUrl\")\n",
    "host_param = \"https://\" + domain_param\n",
    "\n",
    "#-- Retrieve the Hugging Face API token from Databricks secrets\n",
    "# huggingface_token = dbutils.secrets.get(scope=\"huggingface\", key=\"api_token\")\n",
    "huggingface_token = 'null'\n"
   ]
  },
  {
   "cell_type": "code",
   "execution_count": 0,
   "metadata": {
    "application/vnd.databricks.v1+cell": {
     "cellMetadata": {
      "byteLimit": 2048000,
      "rowLimit": 10000
     },
     "inputWidgets": {},
     "nuid": "b8aca7f2-be8e-477f-beb2-70f77d54ba2c",
     "showTitle": false,
     "tableResultSettingsMap": {},
     "title": ""
    }
   },
   "outputs": [
    {
     "name": "stdout",
     "output_type": "stream",
     "text": [
      "PAT authentication succeeded for workspace 353131026936360!\n"
     ]
    }
   ],
   "source": [
    "from databricks.sdk.errors.platform import PermissionDenied\n",
    "\n",
    "##-- Retrieve secret token if exists\n",
    "secret_scope, secret_key = \"rag_demo\", \"pat\"\n",
    "\n",
    "if secret_scope in (s.name for s in dbutils.secrets.listScopes()):\n",
    "  if secret_key in (s.key for s in dbutils.secrets.list(secret_scope)):\n",
    "    print('set token')\n",
    "    token_param = dbutils.secrets.get(secret_scope, secret_key)\n",
    "\n",
    "##-- Test Token is supplied correctly\n",
    "from databricks.sdk import WorkspaceClient\n",
    "w = WorkspaceClient(\n",
    "  host=host_param,\n",
    "  token=token_param\n",
    ")\n",
    "try:\n",
    "  wid = w.get_workspace_id()\n",
    "except PermissionDenied as e:\n",
    "  print(\"ERROR: The credentials you provided aren't working.\")\n",
    "  print(\"Please review the instructions above in the \\\"Configuration\\\" section and retry.\")\n",
    "  raise e\n",
    "\n",
    "print(f\"PAT authentication succeeded for workspace {wid}!\")"
   ]
  },
  {
   "cell_type": "code",
   "execution_count": 0,
   "metadata": {
    "application/vnd.databricks.v1+cell": {
     "cellMetadata": {
      "byteLimit": 2048000,
      "rowLimit": 10000
     },
     "inputWidgets": {},
     "nuid": "d69a9357-bb38-418b-b3d8-567832aa411a",
     "showTitle": false,
     "tableResultSettingsMap": {},
     "title": ""
    }
   },
   "outputs": [
    {
     "data": {
      "text/plain": [
       "DataFrame[]"
      ]
     },
     "execution_count": 30,
     "metadata": {},
     "output_type": "execute_result"
    }
   ],
   "source": [
    "##-- Create Schemas and Tables\n",
    "spark.sql(f'''\n",
    "USE CATALOG {catalog}\n",
    "''')\n",
    "\n",
    "spark.sql(f'''\n",
    "CREATE SCHEMA IF NOT EXISTS {db} \n",
    "''')"
   ]
  },
  {
   "cell_type": "code",
   "execution_count": 0,
   "metadata": {
    "application/vnd.databricks.v1+cell": {
     "cellMetadata": {
      "byteLimit": 2048000,
      "rowLimit": 10000
     },
     "inputWidgets": {},
     "nuid": "1f9e4847-b3c3-407e-b414-b2d6da3fe813",
     "showTitle": false,
     "tableResultSettingsMap": {},
     "title": ""
    }
   },
   "outputs": [
    {
     "name": "stdout",
     "output_type": "stream",
     "text": [
      "['https://www.geeksforgeeks.org/introduction-to-arrays-data-structure-and-algorithm-tutorials/', 'https://www.geeksforgeeks.org/introduction-to-hashing-2/', 'https://www.geeksforgeeks.org/singly-linked-list-tutorial/', 'https://www.geeksforgeeks.org/doubly-linked-list/', 'https://www.geeksforgeeks.org/circular-linked-list/', 'https://origin.geeksforgeeks.org/introduction-to-stack-data-structure-and-algorithm-tutorials', 'https://www.geeksforgeeks.org/implement-stack-using-array/', 'https://www.geeksforgeeks.org/implement-a-stack-using-singly-linked-list/', 'https://www.geeksforgeeks.org/introduction-to-recursion-2/', 'https://www.geeksforgeeks.org/types-of-recursions/', 'https://www.geeksforgeeks.org/insertion-sort-algorithm/', 'https://www.geeksforgeeks.org/merge-sort/', 'https://www.geeksforgeeks.org/quick-sort-algorithm/', 'https://www.geeksforgeeks.org/bubble-sort-algorithm/', 'https://www.geeksforgeeks.org/bucket-sort-2/', 'https://www.geeksforgeeks.org/binary-search/', 'https://www.geeksforgeeks.org/introduction-to-binary-tree/', 'https://www.geeksforgeeks.org/dfs-traversal-of-a-tree-using-recursion/', 'https://www.geeksforgeeks.org/level-order-tree-traversal/', 'https://www.geeksforgeeks.org/introduction-to-backtracking-2/', 'https://www.geeksforgeeks.org/building-heap-from-array/', 'https://www.geeksforgeeks.org/graph-and-its-representations/', 'https://www.geeksforgeeks.org/breadth-first-search-or-bfs-for-a-graph/', 'https://www.geeksforgeeks.org/depth-first-search-or-dfs-for-a-graph/', 'https://www.geeksforgeeks.org/detect-cycle-in-a-graph/', 'https://www.geeksforgeeks.org/detect-cycle-undirected-graph/', 'https://www.geeksforgeeks.org/depth-first-traversal-dfs-on-a-2d-array/', 'https://www.geeksforgeeks.org/breadth-first-traversal-bfs-on-a-2d-array/', 'https://www.geeksforgeeks.org/adjacency-list-meaning-definition-in-dsa/', 'https://www.geeksforgeeks.org/rabin-karp-algorithm-for-pattern-searching/']\n"
     ]
    }
   ],
   "source": [
    "# URLs for my DSA topics from GeekforGeeks\n",
    "urls = []\n",
    "links = open(\"/Workspace/Users/tomanm@mail.uc.edu/GFG Links - Sheet1.csv\", \"r\")\n",
    "\n",
    "for x in links:\n",
    "    urls.append(x.strip())\n",
    "\n",
    "print(urls)"
   ]
  },
  {
   "cell_type": "code",
   "execution_count": 0,
   "metadata": {
    "application/vnd.databricks.v1+cell": {
     "cellMetadata": {
      "byteLimit": 2048000,
      "rowLimit": 10000
     },
     "inputWidgets": {},
     "nuid": "a405018c-a31c-43ec-8b05-cd0115baef90",
     "showTitle": false,
     "tableResultSettingsMap": {},
     "title": ""
    }
   },
   "outputs": [],
   "source": [
    "from bs4 import BeautifulSoup\n",
    "from pyspark.sql.types import StringType\n",
    "from pyspark.sql.functions import pandas_udf\n",
    "from requests.adapters import HTTPAdapter\n",
    "from urllib3.util.retry import Retry\n",
    "from concurrent.futures import ThreadPoolExecutor\n",
    "import pandas as pd\n",
    "import requests\n",
    "\n",
    "# Retry logic for handling 429 and other transient errors\n",
    "retries = Retry(\n",
    "    total=3,\n",
    "    backoff_factor=3,\n",
    "    status_forcelist=[429],\n",
    ")\n",
    "\n",
    "# Create a DataFrame of URLs\n",
    "df_urls = spark.createDataFrame(urls, StringType()).toDF(\"url\").repartition(10)\n",
    "\n",
    "# UDF to fetch HTML content\n",
    "@pandas_udf(\"string\")\n",
    "def fetch_html_udf(urls: pd.Series) -> pd.Series:\n",
    "    adapter = HTTPAdapter(max_retries=retries)\n",
    "    http = requests.Session()\n",
    "    http.mount(\"http://\", adapter)\n",
    "    http.mount(\"https://\", adapter)\n",
    "\n",
    "    def fetch_html(url):\n",
    "        try:\n",
    "            response = http.get(url)\n",
    "            if response.status_code == 200:\n",
    "                return response.content\n",
    "        except requests.RequestException:\n",
    "            return None\n",
    "        return None\n",
    "\n",
    "    with ThreadPoolExecutor(max_workers=200) as executor:\n",
    "        results = list(executor.map(fetch_html, urls))\n",
    "    return pd.Series(results)\n",
    "\n",
    "    # UDF to extract clean text from GFG HTML\n",
    "@pandas_udf(\"string\")\n",
    "def extract_gfg_text_udf(html_contents: pd.Series) -> pd.Series:\n",
    "    def extract_text(html_content):\n",
    "        if html_content:\n",
    "            soup = BeautifulSoup(html_content, \"html.parser\")\n",
    "\n",
    "            # GeeksforGeeks article container\n",
    "            main = soup.find(\"div\", class_=\"content\")\n",
    "            if main:\n",
    "                return main.get_text(separator=\"\\n\", strip=True)\n",
    "\n",
    "            # Fallback to <p> tags\n",
    "            paragraphs = soup.find_all(\"p\")\n",
    "            if paragraphs:\n",
    "                return \"\\n\".join(p.get_text(strip=True) for p in paragraphs)\n",
    "        return None\n",
    "\n",
    "    return html_contents.apply(extract_text)\n",
    "\n",
    "    "
   ]
  },
  {
   "cell_type": "code",
   "execution_count": 0,
   "metadata": {
    "application/vnd.databricks.v1+cell": {
     "cellMetadata": {
      "byteLimit": 2048000,
      "rowLimit": 10000
     },
     "inputWidgets": {},
     "nuid": "493a7035-22c3-4e21-b1b1-f4001f8d99f8",
     "showTitle": false,
     "tableResultSettingsMap": {},
     "title": ""
    }
   },
   "outputs": [
    {
     "name": "stdout",
     "output_type": "stream",
     "text": [
      "✅ Bronze table saved to dsa_quiz_generator.tomanm_docs_rag_demo.db_v3_docs_bronze_data\n"
     ]
    }
   ],
   "source": [
    "# Apply UDFs\n",
    "df_with_html = df_urls.withColumn(\"html_content\", fetch_html_udf(\"url\"))\n",
    "final_df = df_with_html.withColumn(\"text\", extract_gfg_text_udf(\"html_content\"))\n",
    "\n",
    "# Filter successful pages\n",
    "final_df = final_df.select(\"url\", \"text\").filter(\"text IS NOT NULL\").cache()\n",
    "\n",
    "# Safety check\n",
    "if final_df.isEmpty():\n",
    "    raise Exception(\"No text extracted from GFG pages. Please check the URLs or HTML structure.\")\n",
    "\n",
    "# Save to Delta table\n",
    "(final_df.write\n",
    "    .format(\"delta\")\n",
    "    .mode('overwrite')\n",
    "    .option(\"overwriteSchema\", \"true\")\n",
    "    .saveAsTable(bronze_data_table_path))\n",
    "\n",
    "print(f\"✅ Bronze table saved to {bronze_data_table_path}\")\n"
   ]
  },
  {
   "cell_type": "code",
   "execution_count": 0,
   "metadata": {
    "application/vnd.databricks.v1+cell": {
     "cellMetadata": {
      "byteLimit": 2048000,
      "rowLimit": 10000
     },
     "inputWidgets": {},
     "nuid": "269dca9f-3668-43b2-ba28-3f7a7327accc",
     "showTitle": false,
     "tableResultSettingsMap": {},
     "title": ""
    }
   },
   "outputs": [
    {
     "name": "stderr",
     "output_type": "stream",
     "text": [
      "2025-04-04 19:16:50.034407: I external/local_xla/xla/tsl/cuda/cudart_stub.cc:32] Could not find cuda drivers on your machine, GPU will not be used.\n",
      "2025-04-04 19:16:50.038118: I external/local_xla/xla/tsl/cuda/cudart_stub.cc:32] Could not find cuda drivers on your machine, GPU will not be used.\n",
      "2025-04-04 19:16:50.050068: E external/local_xla/xla/stream_executor/cuda/cuda_fft.cc:477] Unable to register cuFFT factory: Attempting to register factory for plugin cuFFT when one has already been registered\n",
      "WARNING: All log messages before absl::InitializeLog() is called are written to STDERR\n",
      "E0000 00:00:1743794210.070235    8273 cuda_dnn.cc:8310] Unable to register cuDNN factory: Attempting to register factory for plugin cuDNN when one has already been registered\n",
      "E0000 00:00:1743794210.076250    8273 cuda_blas.cc:1418] Unable to register cuBLAS factory: Attempting to register factory for plugin cuBLAS when one has already been registered\n",
      "2025-04-04 19:16:50.096702: I tensorflow/core/platform/cpu_feature_guard.cc:210] This TensorFlow binary is optimized to use available CPU instructions in performance-critical operations.\n",
      "To enable the following instructions: AVX2 FMA, in other operations, rebuild TensorFlow with the appropriate compiler flags.\n"
     ]
    }
   ],
   "source": [
    "from markdownify import markdownify as md\n",
    "from bs4 import BeautifulSoup\n",
    "from langchain.text_splitter import RecursiveCharacterTextSplitter, MarkdownHeaderTextSplitter\n",
    "from transformers import AutoTokenizer\n",
    "import base64\n",
    "\n",
    "max_chunk_size, min_chunk_size = 500, 20"
   ]
  },
  {
   "cell_type": "code",
   "execution_count": 0,
   "metadata": {
    "application/vnd.databricks.v1+cell": {
     "cellMetadata": {
      "byteLimit": 2048000,
      "rowLimit": 10000
     },
     "inputWidgets": {},
     "nuid": "1a146312-bac1-4002-ad19-4317fa78876a",
     "showTitle": false,
     "tableResultSettingsMap": {},
     "title": ""
    }
   },
   "outputs": [
    {
     "data": {
      "application/vnd.jupyter.widget-view+json": {
       "model_id": "d35ad7977491428db1c7969abde59aeb",
       "version_major": 2,
       "version_minor": 0
      },
      "text/plain": [
       "tokenizer_config.json:   0%|          | 0.00/25.0 [00:00<?, ?B/s]"
      ]
     },
     "metadata": {},
     "output_type": "display_data"
    },
    {
     "data": {
      "application/vnd.jupyter.widget-view+json": {
       "model_id": "21215b6dd071487081740c8188852872",
       "version_major": 2,
       "version_minor": 0
      },
      "text/plain": [
       "vocab.json:   0%|          | 0.00/816k [00:00<?, ?B/s]"
      ]
     },
     "metadata": {},
     "output_type": "display_data"
    },
    {
     "data": {
      "application/vnd.jupyter.widget-view+json": {
       "model_id": "e744be93327e4362acea70cefb80ec49",
       "version_major": 2,
       "version_minor": 0
      },
      "text/plain": [
       "merges.txt:   0%|          | 0.00/458k [00:00<?, ?B/s]"
      ]
     },
     "metadata": {},
     "output_type": "display_data"
    },
    {
     "data": {
      "application/vnd.jupyter.widget-view+json": {
       "model_id": "579292033aef4fb588c0bc3ce3232c09",
       "version_major": 2,
       "version_minor": 0
      },
      "text/plain": [
       "tokenizer.json:   0%|          | 0.00/1.27M [00:00<?, ?B/s]"
      ]
     },
     "metadata": {},
     "output_type": "display_data"
    },
    {
     "name": "stderr",
     "output_type": "stream",
     "text": [
      "/local_disk0/.ephemeral_nfs/envs/pythonEnv-2b379d70-7987-4d0b-9e53-cffdb7c39cc3/lib/python3.12/site-packages/huggingface_hub/file_download.py:896: FutureWarning: `resume_download` is deprecated and will be removed in version 1.0.0. Downloads always resume when possible. If you want to force a new download, use `force_download=True`.\n",
      "  warnings.warn(\n"
     ]
    },
    {
     "data": {
      "application/vnd.jupyter.widget-view+json": {
       "model_id": "7acd174d552c480aa89e2c9c729e525a",
       "version_major": 2,
       "version_minor": 0
      },
      "text/plain": [
       "config.json:   0%|          | 0.00/656 [00:00<?, ?B/s]"
      ]
     },
     "metadata": {},
     "output_type": "display_data"
    },
    {
     "name": "stderr",
     "output_type": "stream",
     "text": [
      "ftfy or spacy is not installed using BERT BasicTokenizer instead of SpaCy & ftfy.\n"
     ]
    }
   ],
   "source": [
    "from langchain.text_splitter import HTMLHeaderTextSplitter, RecursiveCharacterTextSplitter\n",
    "from transformers import AutoTokenizer, OpenAIGPTTokenizer\n",
    "\n",
    "max_chunk_size = 500\n",
    "\n",
    "tokenizer = OpenAIGPTTokenizer.from_pretrained(\"openai-gpt\")\n",
    "text_splitter = RecursiveCharacterTextSplitter.from_huggingface_tokenizer(tokenizer, chunk_size=max_chunk_size, chunk_overlap=50)\n",
    "html_splitter = HTMLHeaderTextSplitter(headers_to_split_on=[(\"h2\", \"header2\")])\n",
    "\n",
    "# Split on H2, but merge small h2 chunks together to avoid too small. \n",
    "def split_html_on_h2(html, min_chunk_size = 20, max_chunk_size=500):\n",
    "  if not html:\n",
    "      return []\n",
    "  h2_chunks = html_splitter.split_text(html)\n",
    "  chunks = []\n",
    "  previous_chunk = \"\"\n",
    "  # Merge chunks together to add text before h2 and avoid too small docs.\n",
    "  for c in h2_chunks:\n",
    "    # Concat the h2 (note: we could remove the previous chunk to avoid duplicate h2)\n",
    "    content = c.metadata.get('header2', \"\") + \"\\n\" + c.page_content\n",
    "    if len(tokenizer.encode(previous_chunk + content)) <= max_chunk_size/2:\n",
    "        previous_chunk += content + \"\\n\"\n",
    "    else:\n",
    "        chunks.extend(text_splitter.split_text(previous_chunk.strip()))\n",
    "        previous_chunk = content + \"\\n\"\n",
    "  if previous_chunk:\n",
    "      chunks.extend(text_splitter.split_text(previous_chunk.strip()))\n",
    "  # Discard too small chunks\n",
    "  return [c for c in chunks if len(tokenizer.encode(c)) > min_chunk_size]"
   ]
  },
  {
   "cell_type": "code",
   "execution_count": 0,
   "metadata": {
    "application/vnd.databricks.v1+cell": {
     "cellMetadata": {
      "byteLimit": 2048000,
      "rowLimit": 10000
     },
     "inputWidgets": {},
     "nuid": "f6745f4e-88c3-497d-add4-0102d96a2164",
     "showTitle": false,
     "tableResultSettingsMap": {},
     "title": ""
    }
   },
   "outputs": [
    {
     "name": "stderr",
     "output_type": "stream",
     "text": [
      "Token indices sequence length is longer than the specified maximum sequence length for this model (1694 > 512). Running this sequence through the model will result in indexing errors\n"
     ]
    }
   ],
   "source": [
    "html_df = spark.table(bronze_data_table_path)\n",
    "html_list = [row[0] for row in html_df[[\"text\"]].collect()]\n",
    "\n",
    "chunks = []\n",
    "\n",
    "##-- split each page we downloaded into text chunks\n",
    "for page in html_list:\n",
    "  chunks += split_html_on_h2(page)"
   ]
  },
  {
   "cell_type": "code",
   "execution_count": 0,
   "metadata": {
    "application/vnd.databricks.v1+cell": {
     "cellMetadata": {
      "byteLimit": 2048000,
      "rowLimit": 10000
     },
     "inputWidgets": {},
     "nuid": "6dbbb4b2-294b-480a-96d9-7ece4d99e3f7",
     "showTitle": false,
     "tableResultSettingsMap": {},
     "title": ""
    }
   },
   "outputs": [
    {
     "data": {
      "text/html": [
       "<style scoped>\n",
       "  .table-result-container {\n",
       "    max-height: 300px;\n",
       "    overflow: auto;\n",
       "  }\n",
       "  table, th, td {\n",
       "    border: 1px solid black;\n",
       "    border-collapse: collapse;\n",
       "  }\n",
       "  th, td {\n",
       "    padding: 5px;\n",
       "  }\n",
       "  th {\n",
       "    text-align: left;\n",
       "  }\n",
       "</style><div class='table-result-container'><table class='table-result'><thead style='background-color: white'><tr><th>url</th><th>content</th></tr></thead><tbody><tr><td>https://www.geeksforgeeks.org/doubly-linked-list/</td><td>A doubly linked list is a more complex data structure than a singly linked list, but it offers several advantages. The main advantage of a doubly linked list is that it allows for efficient traversal of the list in both directions. This is because each node in the list contains a pointer to the previous node and a pointer to the next node. This allows for quick and easy insertion and deletion of nodes from the list, as well as efficient traversal of the list in both directions. In a data structure, a doubly linked list is represented using nodes that have three fields: Here is how a node in a Doubly Linked List is typically represented: Each node in aDoubly Linked Listcontains thedatait holds, a pointer to thenextnode in the list, and a pointer to thepreviousnode in the list. By linking these nodes together through thenextandprevpointers, we can traverse the list in both directions (forward and backward), which is a key feature of a Doubly Linked List. Table of Content Traversal in aDoubly Linked Listinvolves visiting each node, processing its data, and moving to the next or previous node using the forward (next) and backward (prev) pointers. Step-by-Step Approach for Traversal: Traversal is useful for displaying or processing all nodes in a doubly linked list. To read more about Traversal Operation Refer,Traversal in Doubly Linked List A Doubly Linked List (DLL) is a type of linked list where each node has two pointers: To find the length of a doubly linked list, we need to traverse the list while counting the nodes. Step-by-Step Approach for finding length: To read more about Finding Length of DLL Refer,Program to find size of Doubly Linked List Insertionin aDoubly Linked List (DLL)involves adding a new node at a specific position while maintaining the connections between nodes. Since each node contains a pointer to both the previous and next node, insertion requires adjusting these pointers carefully. There are three primary types of insertion in a DLL: 1. Insertion at the Beginning Read more about Insertion at the Beginning Refer,Insert a Node at Front/Beginning of Doubly Linked List 2. Insertion at the End Read more about Insertion at the End Refer,Insert a Node at the end of Doubly Linked</td></tr><tr><td>https://www.geeksforgeeks.org/doubly-linked-list/</td><td>Beginning Read more about Insertion at the Beginning Refer,Insert a Node at Front/Beginning of Doubly Linked List 2. Insertion at the End Read more about Insertion at the End Refer,Insert a Node at the end of Doubly Linked List 3. Insertion at a Specific Position Read more about Insertion at a specific position Refer,Insert a Node at a specific position in Doubly Linked List Deletionin aDoubly Linked List (DLL)involves removing a node while maintaining the integrity of the list. Since each node contains pointers to both its previous and next nodes, deletion requires careful pointer adjustments to ensure no broken links occur. Types of Deletion in a Doubly Linked List 1. Deletion at the Beginning Read more about Deletion at the Beginning Refer,Deletion at beginning (Removal of first node) in a Doubly Linked List 2. Deletion at the End Read more about Deletion at the End Refer,Deletion at end (Removal of last node) in a Doubly Linked List 3. Deletion at a Specific Position Read more about Deletion at a specific position Refer,Delete a Doubly Linked List node at a given position Practice Questions on Doubly Linked ListMCQs on Linked List H</td></tr><tr><td>https://www.geeksforgeeks.org/types-of-recursions/</td><td>What isRecursion?The process in which a function calls itself directly or indirectly is called recursion and the corresponding function is called a recursive function. Using recursive algorithm, certain problems can be solved quite easily. Examples of such problems areTowers of Hanoi (TOH),Inorder/Preorder/Postorder Tree Traversals,DFS of Graph, etc. Types ofRecursions:Recursion are mainly oftwo typesdepending on whethera function calls itself from within itselformore than one function call one another mutually.The first one is calleddirect recursionand another one is calledindirect recursion. Thus, the two types of recursion are: 1. Direct Recursion: These can be further categorized intofour types: Let’s understand the example bytracing tree of recursive function.That is how the calls are made and how the outputs are produced. Time Complexity For Tail Recursion : O(n)Space Complexity For Tail Recursion : O(n)Note:Time & Space Complexity is given for this specific example. It may vary for another example. Let’s now converting Tail Recursion into Loop and compare each other in terms of Time & Space Complexity and decide which is more efficient. Time Complexity: O(n)Space Complexity: O(1) Note:Time & Space Complexity is given for this specific example. It may vary for another example.So it was seen that in case of loop the Space Complexity is O(1) so it was better to write code in loop instead of tail recursion in terms of Space Complexity which is more efficient than tail recursion. Why space complexity is less in case of loop ?Before explaining this I am assuming that you are familiar with the knowledge that’s how the data stored in main memory during execution of a program. In brief,when the program executes,the main memory divided into three parts. One part for code section, the second one is heap memory and another one is stack memory.Remember that the program can directly access only the stack memory, it can’t directly access the heap memory so we need the help of pointer to access the heap memory. Let’s now understand why space complexity is less in case of loop ?In case of loop when function “(void fun(int y))” executes there only one activation record created in stack memory(activation record created for only</td></tr><tr><td>https://www.geeksforgeeks.org/types-of-recursions/</td><td>Let’s now understand why space complexity is less in case of loop ?In case of loop when function “(void fun(int y))” executes there only one activation record created in stack memory(activation record created for only ‘y’ variable) so it takes only ‘one’ unit of memory inside stack so it’s space complexity is O(1) but in case of recursive function every time it calls itself for each call a separate activation record created in stack.So if there’s ‘n’ no of call then it takes ‘n’ unit of memory inside stack so it’s space complexity is O(n). Let’s understand the example bytracing tree of recursive function.That is how the calls are made and how the outputs are produced. Time Complexity For Head Recursion: O(n)Space Complexity For Head Recursion: O(n) Note:Time & Space Complexity is given for this specific example. It may vary for another example.Note:Head recursion can’t easily convert into loop as Tail Recursion but it can. Let’s convert the above code into the loop. Program for tree recursion Let’s understand the example bytracing tree of recursive function.That is how the calls are made and how the outputs are produced. Time Complexity For Tree Recursion: O(2^n)Space Complexity For Tree Recursion: O(n)Note:Time & Space Complexity is given for this specific example. It may vary for another example. Let’s understand the example bytracing tree of recursive function.That is how the calls are made and how the outputs are produced. 2. Indirect Recursion: In this recursion, there may be more than one functions and they are calling one another in a circular manner. From the above diagram fun(A) is calling for fun(B), fun(B) is calling for fun(C) and fun(C) is calling for fun(A) and thus it makes a cycle. Example: Let’s understand the example bytracing tree of recursive function.That is how the calls are made and how the outputs are produced. A</td></tr><tr><td>https://www.geeksforgeeks.org/introduction-to-binary-tree/</td><td>Binary Treeis anon-linearandhierarchicaldata structure where each node has at most two children referred to as theleft childand theright child.  The topmost node in a binary tree is called theroot, and the bottom-most nodes are calledleaves. Introduction to Binary Tree Each node in a Binary Tree has three parts: Binary Tree Representation Syntax to declare a Node of Binary Tree in different languages: Here’s an example of creating a Binary Tree with four nodes (2, 3, 4, 5) Creating a Binary Tree having three nodes In the above code, we have created four tree nodesfirstNode,secondNode,thirdNodeandfourthNodehaving values2,3,4and5respectively. The diagram below shows all these terms in a binary tree. Terminologies in Binary Tree in Data Structure Please referProperties of Binary Treefor more details. Binary Tree can be classified into multiples types based on multiple factors: Following is a list of common operations that can be performed on a binary tree: Traversal in Binary Tree involves visiting all the nodes of the binary tree. Tree Traversal algorithms can be classified broadly into two categories,DFSandBFS: Depth-First Search (DFS) algorithms:DFS explores as far down a branch as possible before backtracking. It is implemented using recursion. The main traversal methods in DFS for binary trees are: Breadth-First Search (BFS) algorithms:BFS explores all nodes at the present depth before moving on to nodes at the next depth level. It is typically implemented using a queue.BFS in a binary tree is commonly referred to asLevel Order Traversal. Below is the implementation of traversals algorithm in binary tree: Inserting elements means add a new node into the binary tree. As we know that there is no such ordering of elements in the binary tree, So we do not have to worry about the ordering of node in the binary tree. We would first creates aroot nodein case of empty tree. Then subsequent insertions involve iteratively searching for an empty place at each level of the tree. When an emptyleftorrightchild is found thennew nodeis</td></tr><tr><td>https://www.geeksforgeeks.org/introduction-to-binary-tree/</td><td>would first creates aroot nodein case of empty tree. Then subsequent insertions involve iteratively searching for an empty place at each level of the tree. When an emptyleftorrightchild is found thennew nodeis inserted there. By convention, insertion always starts with theleftchild node. Insertion in Binary Tree Searchingfor a value in a binary tree means looking through the tree to find a node that has that value. Since binary trees do not have a specific order like binary search trees, we typically use any traversal method to search. The most common methods aredepth-first search (DFS)andbreadth-first search (BFS). InDFS, we start from therootand explore the depth nodes first. In BFS, we explore all the nodes at the present depth level before moving on to the nodes at the next level. We continue this process until we either find the node with the desired value or reach the end of the tree. If the tree is empty or the value isn’t found after exploring all possibilities, we conclude that the value does not exist in the tree. Here is the implementation of searching in a binary tree using Depth-First Search (DFS) Deleting a node from a binary tree means removing a specific node while keeping the tree’s structure. First, we need to find the node that want to delete by traversing through the tree using any traversal method. Then replace the node’s value with the value of the last node in the tree (found by traversing to the rightmost leaf), and then delete that last node. This way, the tree structure won’t be effected. And remember to check for special cases, like trying to delete from an empty tree, to avoid any issues. Note:There is no specific rule of deletion but we always make sure that during deletion the binary tree proper should be preserved. Deletion in Binary Tree Here’s the complexity analysis for specific binary tree operations: Note:We can useMorris Traversalto traverse all the nodes of the binary tree in O(n) time complexity but with O(1) auxiliary space. A binary tree is a non-linear data structure consisting of nodes, where each node has at most two children (left</td></tr><tr><td>https://www.geeksforgeeks.org/introduction-to-binary-tree/</td><td>nodes of the binary tree in O(n) time complexity but with O(1) auxiliary space. A binary tree is a non-linear data structure consisting of nodes, where each node has at most two children (left child and the right child). Binary trees can be classified into various types, including full binary trees, complete binary trees, perfect binary trees, balanced binary trees (such as AVL trees and Red-Black trees), and degenerate (or pathological) binary trees. The height of a binary tree is the length of the longest path from the root node to a leaf node. It represents the number of edges in the longest path from the root node to a leaf node. The depth of a node in a binary tree is the length of the path from the root node to that particular node. The depth of the root node is 0. Tree traversal in a binary tree can be done in different ways: In-order traversal, Pre-order traversal, Post-order traversal, and Level-order traversal (also known as breadth-first traversal). In Inorder traversal, nodes are recursively visited in this order: left child, root, right child. This traversal results in nodes being visited in non-decreasing order in a binary search tree. In Preorder traversal, nodes are recursively visited in this order: root, left child, right child. This traversal results in root node being the first node to be visited. In Postorder traversal, nodes are recursively visited in this order: left child, right child and root. This traversal results in root node being the last node to be visited. A binary tree is a hierarchical data structure where each node has at most two children, whereas a binary search tree is a type of binary tree in which the left child of a node contains values less than the node’s value, and the right child contains values greater than the node’s value. A balanced binary tree is a binary tree in which the height of the left and right subtrees of every node differ by at most one. Balanced trees help maintain efficient operations such as searching, insertion, and deletion with time complexities close to O(log</td></tr><tr><td>https://www.geeksforgeeks.org/introduction-to-binary-tree/</td><td>a binary tree in which the height of the left and right subtrees of every node differ by at most one. Balanced trees help maintain efficient operations such as searching, insertion, and deletion with time complexities close to O(log n). Tree is a hierarchical data structure. Main uses of trees include maintaining hierarchical data, providing moderate access and insert/delete operations. Binary trees are special cases of tree where every node has at most two children.</td></tr><tr><td>https://www.geeksforgeeks.org/rabin-karp-algorithm-for-pattern-searching/</td><td>Given a text T[0. . .n-1]and a pattern P[0. . .m-1], write a function search(char P[], char T[]) that prints all occurrences of P[] present in T[] using Rabin Karp algorithm. You may assume thatn > m. Examples: Input:T[] = “THIS IS A TEST TEXT”, P[] = “TEST”Output:Pattern found at index 10 Input:T[] =  “AABAACAADAABAABA”, P[] =  “AABA”Output:Pattern found at index 0Pattern found at index 9Pattern found at index 12 In theNaive String Matchingalgorithm, we check whether every substring of the text of the pattern’s size is equal to the pattern or not one by one. Like the Naive Algorithm, the Rabin-Karp algorithm also check every substring. But unlike the Naive algorithm, the Rabin Karp algorithm matches thehash valueof thepatternwith thehash valueof the current substring oftext, and if thehash valuesmatch then only it starts matching individual characters. So Rabin Karp algorithm needs to calculate hash values for the following strings. Hash valueis used to efficiently check for potential matches between apatternand substrings of a largertext. The hash value is calculated using arolling hash function, which allows you to update the hash value for a new substring by efficiently removing the contribution of the old character and adding the contribution of the new character. This makes it possible to slide the pattern over thetextand calculate the hash value for each substring without recalculating the entire hash from scratch. Here’s how the hash value is typically calculated in Rabin-Karp: Step 1:Choose a suitablebaseand amodulus: Step 2:Initialize the hash value: Step 3:Calculate the initial hash value for thepattern: Step 4:Slide the pattern over thetext: Step 5:Update the hash value for each subsequent substring: hash = (hash – (text[i – pattern_length] * (bpattern_length – 1)) % p) * b + text[i] Step 6:Compare hash values: Below is the Illustration of above algorithm: Step-by-step approach: Time Complexity:</td></tr><tr><td>https://www.geeksforgeeks.org/rabin-karp-algorithm-for-pattern-searching/</td><td>pattern_length] * (bpattern_length – 1)) % p) * b + text[i] Step 6:Compare hash values: Below is the Illustration of above algorithm: Step-by-step approach: Time Complexity: Auxiliary Space:O(1) Spurious Hit:When the hash value of the pattern matches with the hash value of a window of the text but the window is not the actual pattern then it is called aspurious hit. Spurious hit increases the time complexity of the algorithm. In order to minimize spurious hit, we use goodhash function. It greatly reduces the spurious hit. Related Posts:Searching for Patterns | Set 1 (Naive Pattern Searching)Searching for Patterns | Set 2 (KMP Algorithm)</td></tr><tr><td>https://www.geeksforgeeks.org/implement-stack-using-array/</td><td>Stackis alinear data structurewhich followsLIFOprinciple. To implement a stack using an array, initialize an array and treat its end as the stack’s top. Implementpush(add to end),pop(remove from end), andpeek(check end) operations, handling cases for anemptyor full stack. Step-by-step approach: Here are the following operations of implement stack using array: Adds an item to the stack. If the stack is full, then it is said to be anOverflow condition. Removes an item from the stack. The items are popped in the reversed order in which they are pushed. If the stack is empty, then it is said to be anUnderflow condition. Returns the top element of the stack. Returns true if the stack is empty, else false.= Returns true if the stack is full, else false. In this implementation, we use a fixed sized array. We take capacity as argument when we create a stack. We create an array with size equal to given capacity. If number of elements go beyond capacity, we throw an overflow error. In this implementation, we use a dynamic sized array likevector in C++,ArrayList in Java,List in PythonandArray in JavaScript. This is a simpler implementation but less efficient compared to the previous one if we know capacity in advance. C</td></tr><tr><td>https://www.geeksforgeeks.org/building-heap-from-array/</td><td>Given an array ofnelements. The task is to build a Max Heap from the given array. Examples: Input:arr[] = {4, 10, 3, 5, 1}Output:Corresponding Max-Heap: 10/   \\5     3/  \\4    1 Input: arr[] = {1, 3, 5, 4, 6, 13, 10, 9, 8, 15, 17}Output: Corresponding Max-Heap: 17/      \\15         13/    \\      /  \\9      6    5   10/ \\    /  \\4   8  3    1 Note: The idea is to heapify the complete binary tree formed from the array from the last node to root (in reverse level order traversal manner). We can optimize it by observing the fact that the leaf nodes need not to beheapifiedas they already follow the heap property. So the idea is to find the position of the last non-leaf node and do heapify of each non-leaf node in reverse level order. How do we find the index of the last non-leaf node?Last non-leaf node = parent of last-node.or, Last non-leaf node = parent of node at (n-1)th index.or, Last non-leaf node = Node at index ((n-1) – 1)/2 = (n/2) – 1. Time Complexity Analysis:Heapify a single node takes O(log n) time complexity where n is the total number of Nodes. Therefore, building the entire Heap will take n heapify operations and the total time complexity will beO(n*logn). Note:In reality, building a heap takes O(n) time depending on the implementation which can be seenhere</td></tr><tr><td>https://www.geeksforgeeks.org/graph-and-its-representations/</td><td>AGraphis a non-linear data structure consisting of vertices and edges. The vertices are sometimes also referred to as nodes and the edges are lines or arcs that connect any two nodes in the graph. More formally a Graph is composed of a set of vertices(V) and a set of edges(E). The graph is denoted byG(V, E). Here are the two most common ways to represent a graph : For simplicity, we are going to consider onlyunweighted graphsin this post. An adjacency matrix is a way of representing a graph as a matrix of boolean (0’s and 1’s) Let’s assume there arenvertices in the graph So, create a 2D matrixadjMat[n][n]having dimension n x n. The below figure shows an undirected graph. Initially, the entire Matrix is ​​initialized to0. If there is an edge from source to destination, we insert1to both cases (adjMat[destination]andadjMat[destination])because we can go either way. Undirected Graph to Adjacency Matrix The below figure shows a directed graph. Initially, the entire Matrix is ​​initialized to0. If there is an edge from source to destination, we insert1for that particularadjMat[destination]. Directed Graph to Adjacency Matrix An array of Lists is used to store edges between two vertices. The size of array is equal to the number ofvertices (i.e, n). Each index in this array represents a specific vertex in the graph. The entry at the index i of the array contains a linked list containing the vertices that are adjacent to vertexi. Let’s assume there arenvertices in the graph So, create anarray of listof sizenasadjList[n]. The below undirected graph has 3 vertices. So, an array of list will be created of size 3, where each indices represent the vertices. Now, vertex 0 has two neighbours (i.e, 1 and 2). So, insert vertex 1 and 2 at indices 0 of array. Similarly, For vertex 1, it has two neighbour (i.e, 2 and 0) So, insert vertices 2 and 0 at indices 1 of array. Similarly, for vertex 2, insert its neighbours in</td></tr><tr><td>https://www.geeksforgeeks.org/graph-and-its-representations/</td><td>0 of array. Similarly, For vertex 1, it has two neighbour (i.e, 2 and 0) So, insert vertices 2 and 0 at indices 1 of array. Similarly, for vertex 2, insert its neighbours in array of list. Undirected Graph to Adjacency list The below directed graph has 3 vertices. So, an array of list will be created of size 3, where each indices represent the vertices. Now, vertex 0 has no neighbours. For vertex 1, it has two neighbour (i.e, 0 and 2) So, insert vertices 0 and 2 at indices 1 of array. Similarly, for vertex 2, insert its neighbours in array of list. Directed Graph to Adjacency list</td></tr><tr><td>https://www.geeksforgeeks.org/singly-linked-list-tutorial/</td><td>Asingly linked listis a fundamental data structure, it consists ofnodeswhere each node contains adatafield and areferenceto the next node in the linked list. The next of the last node isnull, indicating the end of the list. Linked Lists support efficient insertion and deletion operations. In a singly linked list, each node consists of two parts: data and a pointer to the next node. This structure allows nodes to be dynamically linked together, forming a chain-like sequence. In this example, the Node class contains an integer data field (data) to store the information and a pointer to another Node (next) to establish the link to the next node in the list. Traversal in a linked list means visiting each node and performing operations like printing or processing data. Step-by-step approach: To read more about Traversal Operation in linked list Refer,Traversal of Singly Linked List Searching in a Singly Linked List refers to the process of looking for a specific element or value within the elements of the linked list. Step-by-step approach: To read more about Searching Operation in linked list Refer,Search an element in a Linked List Finding the length of aSingly Linked Listmeans counting the total number of nodes. Step-by-step approach: To read more about Finding Length of linked list Refer,Find Length of a Linked List Insertionis a fundamental operation in linked lists that involves adding a new node to the list. There are several scenarios for insertion: a. Insertion at the Beginning of Singly Linked List:Insertion at the beginning involves adding a new node before the current head, making it the new head. Step-by-step approach: To read more about Insertion at the Beginning of linked list Refer,Insert a Node at Front/Beginning of a Linked List b. Insertion at the End of Singly Linked List:To insert a node at the end of the list, traverse the list until the last node is reached, and then link the new node to the current last node Step-by-step approach: To read more about Insertion at the end of linked list Refer,Insert Node at the End of a Linked List c. Insertion at a Specific Position of the Singly Linked List:To insert a node at a specific position, traverse the list to the desired position, link the</td></tr><tr><td>https://www.geeksforgeeks.org/singly-linked-list-tutorial/</td><td>end of linked list Refer,Insert Node at the End of a Linked List c. Insertion at a Specific Position of the Singly Linked List:To insert a node at a specific position, traverse the list to the desired position, link the new node to the next node, and update the links accordingly. Step-by-step approach: To read more about Insertion at the specific position of linked list Refer,Insert a node at a specific position in a linked list Deletioninvolves removing a node from the linked list. Similar to insertion, there are different scenarios for deletion: a. Deletion at the Beginning of Singly Linked List:To delete the first node, update the head to point to the second node in the list. Steps-by-step approach: To read more about Deletion at the beginning in linked list Refer,Deletion at beginning (Removal of first node) in a Linked List b. Deletion at the End of Singly Linked List:To delete the last node, traverse the list until the second-to-last node and update its next field to None. Step-by-step approach: To read more about Deletion at the end in linked list Refer,Deletion at end (Removal of last node) in a Linked List c. Deletion at a Specific Position of Singly Linked List:To delete a node at a specific position, traverse the list to the desired position, update the links to bypass the node to be deleted. Step-by-step approach: To read more about Deletion at the specific position in linked list Refer,Delete a Linked List node at a given position Updating in a Singly Linked List means modifying the value of a node at a given position. Step-by-step approach: To read more about Updation Operation in Linked List Refer,Modify contents of Linked List Reversing a singly linked list means changing the direction of pointers so that the last node becomes the new head. Step-by-step approach: To read more about Reversal Operation in Linked List Refer,Reverse a Linked List H</td></tr><tr><td>https://www.geeksforgeeks.org/dfs-traversal-of-a-tree-using-recursion/</td><td>Depth-First Search (DFS) is a method used to explore all the nodes in a tree by going as deep as possible along each branch before moving to the next one. It starts at the root node and visits every node in the tree. Depth-First Search (DFS) can be classified into three main types based on the order in which the nodes are visited: Time Complexity:O(N)Auxiliary Space:O(log N) In the case of binary search trees (BST), Inorder traversal gives nodes in non-decreasing order. To get nodes of BST in non-increasing order, a variation of Inorder traversal where Inorder traversal is reversed can be used. Time Complexity:O(N)Auxiliary Space:O(log N) Preorder traversal is used to create a copy of the tree. Preorder traversal is also used to get prefix expressions of an expression tree. Time Complexity:O(N)Auxiliary Space:O(log N) Postorder traversal is used to delete every node of the tree. Postorder traversal is also useful to get thepostfix expressionof an expression tree Related Article :Breadth First Traversal.</td></tr><tr><td>https://www.geeksforgeeks.org/breadth-first-search-or-bfs-for-a-graph/</td><td>Given aundirected graphrepresented by an adjacency listadj, where eachadj[i]represents the list of vertices connected to vertexi. Perform aBreadth First Search (BFS)traversal starting from vertex0, visiting vertices from left to right according to the adjacency list, and return a list containing the BFS traversal of the graph. Examples: Input:adj = [[1,2], [0,2,3], [0,4], [1,4], [2,3]] Output:[0, 1, 2, 3, 4]Explanation:Starting from 0, the BFS traversal will follow these steps:Visit 0 → Output: [0]Visit 1 (first neighbor of 0) → Output: [0, 1]Visit 2 (next neighbor of 0) → Output: [0, 1, 2]Visit 3 (next neighbor of 1) → Output: [0, 1, 2,3]Visit 4 (neighbor of 2) → Final Output: [0, 1, 2, 3, 4] Input:adj = [[1, 2], [0, 2], [0, 1, 3, 4], [2], [2]]Output:[0, 1, 2, 3, 4]Explanation:Starting from 0, the BFS traversal proceeds as follows:Visit 0 → Output: [0]Visit 1 (the first neighbor of 0) → Output: [0, 1]Visit 2 (the next neighbor of 0) → Output: [0, 1, 2]Visit 3 (the first neighbor of 2 that hasn’t been visited yet) → Output: [0, 1, 2, 3]Visit 4 (the next neighbor of 2) → Final Output: [0, 1, 2, 3, 4] Input:adj = [[2, 4], [3], [0, 4], [1, 4], [0, 2, 3]]Output:[0, 2, 4, 3, 1]Explanation:Starting the BFS from vertex 0:Visit vertex 0 → Output: [0]Visit vertex 2 (neighbor of 0) → Output: [0, 2]Visit vertex 4 (next neighbor of 0) → Output: [0, 2,</td></tr><tr><td>https://www.geeksforgeeks.org/breadth-first-search-or-bfs-for-a-graph/</td><td>from vertex 0:Visit vertex 0 → Output: [0]Visit vertex 2 (neighbor of 0) → Output: [0, 2]Visit vertex 4 (next neighbor of 0) → Output: [0, 2, 4]Visit vertex 3 (unvisited neighbor of 4) → Output: [0, 2, 4, 3]Visit vertex 1 (unvisited neighbor of 3) → Final Output: [0, 2, 4, 3, 1] Table of Content Breadth First Search (BFS)is a fundamentalgraph traversal algorithm.It begins with a node, then first traverses all its adjacent nodes. Once all adjacent are visited, then their adjacent are traversed. The algorithm starts from a given source and explores all reachable vertices from the given source. It is similar to theBreadth-First Traversal of a tree. Like tree, we begin with the given source (in tree, we begin with root) and traverse vertices level by level using a queue data structure. The only catch here is that, unliketrees, graphsmay contain cycles, so we may come to the same node again. To avoid processing a node more than once, we use aBooleanvisitedarray. Follow the below given approach: This algorithm ensures that all nodes in the graph are visited in a breadth-first manner, starting from the starting node. The above implementation takes a source as an input and prints only those vertices that are reachable from the source and would not print all vertices in case of disconnected graph. Let us see the algorithm that prints all vertices without any source and the graph maybe disconnected. The algorithm is simple, instead of calling BFS for a single vertex, we call the above implemented BFS for all not yet visited vertices one by one. Time Complexity: O(V + E),BFS explores all the vertices and edges in the graph. In the worst case, it visits every vertex and edge once. Therefore, the time complexity of BFS is O(V + E), where V and E are the number of vertices and edges in the given graph. Auxiliary Space: O(V),BFS uses a queue to keep track of the vertices that need to be visited. In the worst case, the queue can contain all the</td></tr><tr><td>https://www.geeksforgeeks.org/breadth-first-search-or-bfs-for-a-graph/</td><td>are the number of vertices and edges in the given graph. Auxiliary Space: O(V),BFS uses a queue to keep track of the vertices that need to be visited. In the worst case, the queue can contain all the vertices in the graph. Therefore, the space complexity of BFS is O(V). BFS has various applications in graph theory and computer science, including: Question 1: What is BFS and how does it work? Answer:BFS is a graph traversal algorithm that systematically explores a graph by visiting all the vertices at a given level before moving on to the next level. It starts from a starting vertex, enqueues it into a queue, and marks it as visited. Then, it dequeues a vertex from the queue, visits it, and enqueues all its unvisited neighbors into the queue. This process continues until the queue is empty. Question 2: What are the applications of BFS? Answer:BFS has various applications, including finding the shortest path in an unweighted graph, detecting cycles in a graph, topologically sorting a directed acyclic graph (DAG), finding connected components in a graph, and solving puzzles like mazes and Sudoku. Question 3: What is the time complexity of BFS? Answer:The time complexity of BFS is O(V + E), where V is the number of vertices and E is the number of edges in the graph. Question 4: What is the space complexity of BFS? Answer:The space complexity of BFS is O(V), as it uses a queue to keep track of the vertices that need to be visited. Question 5: What are the advantages of using BFS? Answer:BFS is simple to implement and efficient for finding the shortest path in an unweighted graph. It also guarantees that all the vertices in the graph are visited. Related Articles:</td></tr><tr><td>https://www.geeksforgeeks.org/circular-linked-list/</td><td>Acircular linked list is a data structure where the last node connects back to the first, forming a loop. This structure allows for continuous traversal without any interruptions. Circular linked lists are especially helpful for tasks like scheduling and managing playlists,allowing for smooth navigation. In this tutorial, we’ll cover the basics of circular linked lists, how to work with them, their advantages and disadvantages, and their applications. A circular linked list is a special type of linked list where all the nodes are connected to form a circle. Unlike a regular linked list, which ends with a node pointing to NULL, the last node in a circular linked list points back to the first node. This means that you can keep traversing the list without ever reaching a NULL value. We can create a circular linked list from bothsingly linked listsanddoubly linked lists. So, circular linked lists are basically of two types: In Circular Singly Linked List, each node has just one pointer called the “next” pointer. The next pointer of the last node points back to the first node and this results in forming a circle. In this type of Linked list, we can only move through the list in one direction. Representation of Circular Singly Linked List In circular doubly linked list, each node has two pointers prev and next, similar to doubly linked list. The prev pointer points to the previous node and the next points to the next node. Here, in addition to the last node storing the address of the first node, the first node will also store the address of the last node. Representation of Circular Doubly Linked List Note:In this article, we will use the singly linked list to explain the working of circular linked lists. Let’s take a look on the structure of a circular linked list. Representation of a Circular Singly Linked List Syntax to Declare a Circular Linked List in Different Languages: In the code above, each node hasdataand apointerto the next node. When we create multiple nodes for a circular linked list, we only need to connect the last node back to the first one. Here’s an example of creating a circular linked list with three nodes (2, 3, 4): Created a circular linked list with 3 nodes In the above code, we have created three nodesfirst, second, and last having values 2, 3, and 4</td></tr><tr><td>https://www.geeksforgeeks.org/circular-linked-list/</td><td>a circular linked list with three nodes (2, 3, 4): Created a circular linked list with 3 nodes In the above code, we have created three nodesfirst, second, and last having values 2, 3, and 4 respectively. For the insertion of a node at the beginning, we need to traverse the whole list. Also, for insertion at the end, the whole list has to be traversed. If instead of the start pointer, we take a pointer to the last node, then in both cases there won’t be any need to traverse the whole list. So insertion at the beginning or at the end takes constant time, irrespective of the length of the list. We can do some operations on the circular linked list similar to the singly and doubly linked list which are: 1. Insertion 2. Deletion 3. Searching Insertionis a fundamental operation in linked lists that involves adding a new node to the list. The only extra step is connecting the last node to the first one. In the circular linked list mentioned below, we can insert nodes in four ways: To insert a node in empty circular linked list, creates anew node with the given data, sets its next pointer to point to itself, and updates the last pointer to reference this new node. Insertion in an empty List To read more about insertion in an empty list Refer,Insertion in an empty List in the circular linked list To insert a new node at the beginning of a circular linked list, we create a new node and check if the list is empty. If empty, the new node points to itself. If not, we make the new node’snextpointer point to the current head (last->next) and update the last node’snextto the new node, preserving the circular structure. Insertion at the beginning in circular linked list To read more about Insertion at the beginning Refer,Insertion at the beginning in circular linked list To insert a node at the end of a circular linked list, we create the new node and, if the list is empty, make it point to itself. Otherwise, we update the tail’snextpointer to the new node and then set the tail to the new node, preserving the circular linkage. Insertion at the end in circular linked list To read more about Insertion at the end</td></tr><tr><td>https://www.geeksforgeeks.org/circular-linked-list/</td><td>we update the tail’snextpointer to the new node and then set the tail to the new node, preserving the circular linkage. Insertion at the end in circular linked list To read more about Insertion at the end Refer,Insertion at the end in circular linked list To insert a node at a specific position in a circular linked list, we handle edge cases for an empty list and invalid positions. For valid positions, we traverse the list and adjust the pointers to insert the new node, updating the tail if it’s inserted at the end. Insertion at specific position in circular linked list Deletioninvolves removing a node from the linked list. The main difference is that we need to ensure the list remains circular after the deletion. We can delete a node in a circular linked list in three ways: To delete the first node of a circular linked list, we check if the list is empty or has only one node. If so, we handle those cases by deleting the node and updating the last pointer. For multiple nodes, we update the last node’snextpointer to skip the head and free the head node, returning the updated last pointer. Delete the first node in circular linked list To delete a specific node from a circular linked list, we handle empty list and single node cases. For other nodes, we use two pointers to find the node, update the previous node’snextpointer to skip the target, and delete it, updating the last pointer if needed. Delete a specific node in circular linked list To delete the last node in a circular linked list, we handle the empty and single node cases. For multiple nodes, we traverse to find the second last node, update itsnextpointer to the head, delete the last node, and return the updated last pointer. Deletion at the end of Circular linked list Searching in a circular linked list is similar to searching in a regular linked list. We start at a given node and traverse the list until you either find the target value or return to the starting node. Since the list is circular, make sure to keep track of where you started to avoid an infinite loop. To read more about searching Refer,Searching in Circular Linked list</td></tr><tr><td>https://www.geeksforgeeks.org/introduction-to-backtracking-2/</td><td>Backtracking is like trying different paths, and when you hit a dead end, you backtrack to the last choice and try a different route. In this article, we’ll explore the basics of backtracking, how it works, and how it can help solve all sorts of challenging problems. It’s like a method for finding the right way through a complex choices. Table of Content Backtracking is a problem-solving algorithmic technique that involves finding a solution incrementally by tryingdifferent optionsandundoingthem if they lead to adead end. It is commonly used in situations where you need to explore multiple possibilities to solve a problem, like searching for a path in a maze or solving puzzles like Sudoku. When a dead end is reached, the algorithm backtracks to the previous decision point and explores a different path until a solution is found or all possibilities have been exhausted. Backtracking can be defined as a general algorithmic technique that considers searching every possible combination in order to solve a computational problem. Introduction to Backtracking Problems associated with backtracking can be categorized into 3 categories: As we know backtracking algorithm explores each and every possible path in order to find a valid solution, this exploration of path can be easily understood via given images: As shown in the image, “IS”represents theInitial Statewhere the recursion call starts to find a valid solution.C :it represents differentCheckpointsfor recursive calls TN: it represents theTerminal Nodeswhere no further recursive calls can be made, these nodes act as base case of recursion and we determine whether the current solution is valid or not at this state. At each Checkpoint, our program makes some decisions and move to other checkpoints untill it reaches a terminal Node, after determining whether a solution is valid or not, the program starts to revert back to the checkpoints and try to explore other paths. For example in the above imageTN1…TN5are the terminal node where the solution is not acceptable, whileTN6is the state where we found a valid solution. The back arrows in the images shows backtracking in actions, where we revert the changes made by some checkpoint. Generally every constraint satisfaction problem can be solved using backtracking but, Is it optimal to use backtracking every time? Turns outNO, there are a vast number of problem that can be solved usingGreedyorDynamic</td></tr><tr><td>https://www.geeksforgeeks.org/introduction-to-backtracking-2/</td><td>by some checkpoint. Generally every constraint satisfaction problem can be solved using backtracking but, Is it optimal to use backtracking every time? Turns outNO, there are a vast number of problem that can be solved usingGreedyorDynamic programmingin logarithmic or polynomial time complexity which is far better than exponential complexity of Backtracking. However many problems still exists that can only be solved using Backtracking. To understand whether a problem is Backtracking based or not, let us take a simple problem:Problem:Imagine you have 3 closed boxes, among which 2 are empty and 1 has a gold coin. Your task is to get the gold coin. Why dynamic programming fails to solve this question:Does opening or closing one box has any effect on the other box? Turns out NO, each and every box is independent of each other and opening/closing state of one box can not determine the transition for other boxes. Hence DP fails. Why greedy fails to solve this question:Greedy algorithm chooses a local maxima in order to get global maxima, but in this problem each and every box has equal probability of having a gold coin i.e 1/3 hence there is no criteria to make a greedy choice. Why Backtracking works:As discussed already, backtracking algorithm is simply brute forcing each and every choice, hence we can one by one choose every box to find the gold coin, If a box is found empty we can close it back which acts as a Backtracking step. Technically, for backtracking problems: The best way to implement backtracking is through recursion, and all backtracking code can be summarised as per the given Pseudocode: voidFIND_SOLUTIONS( parameters): if (validsolution): store thesolution Return for (allchoice): if (validchoice): APPLY(choice) FIND_SOLUTIONS(parameters) BACKTRACK(removechoice) Return Since backtracking algorithm is purely brute force therefore in terms of time complexity, it performs very poorly. Generally backtracking can be seen having below mentioned time complexities: These complexities are due to the fact that at each state we have multiple choices due to which the number of paths increases and sub-trees expand rapidly. Recursion and Backtracking are related concepts in computer science and programming, but they are not the same thing. Let’s explore the key differences between them: Recursion</td></tr><tr><td>https://www.geeksforgeeks.org/introduction-to-backtracking-2/</td><td>choices due to which the number of paths increases and sub-trees expand rapidly. Recursion and Backtracking are related concepts in computer science and programming, but they are not the same thing. Let’s explore the key differences between them: Recursion Backtracking Recursion does not always need backtracking Backtracking always uses recursion to solve problems Solving problems by breaking them into smaller, similar subproblems and solving them recursively. Solving problems with multiple choices and exploring options systematically, backtracking when needed. Controlled by function calls and call stack. Managed explicitly with loops and state. Applications of Recursion:Tree and Graph Traversal, Towers of Hanoi, Divide and Conquer Algorithms, Merge Sort, Quick Sort, and Binary Search. Application of Backtracking:N Queen problem, Rat in a Maze problem, Knight’s Tour Problem, Sudoku solver, and Graph coloring problems. For more practice problems:click here</td></tr><tr><td>https://www.geeksforgeeks.org/depth-first-search-or-dfs-for-a-graph/</td><td>In Depth First Search (or DFS) for a graph, we traverse all adjacent vertices one by one. When we traverse an adjacent vertex, we completely finish the traversal of all vertices reachable through that adjacent vertex. This is similar to a tree, where we first completely traverse the left subtree and then move to the right subtree. The key difference is that, unlike trees, graphs may contain cycles (a node may be visited more than once). To avoid processing a node multiple times, we use a boolean visited array. Example: Note :There can be multiple DFS traversals of a graph according to the order in which we pick adjacent vertices. Here we pick vertices as per the insertion order. Input:adj = [[1, 2], [0, 2], [0, 1, 3, 4], [2], [2]] Output: [0 1 2 3 4]Explanation:The source vertex s is 0. We visit it first, then we visit an adjacent.Start at 0: Mark as visited. Output: 0Move to 1: Mark as visited. Output: 1Move to 2: Mark as visited. Output: 2Move to 3: Mark as visited. Output: 3 (backtrack to 2)Move to 4: Mark as visited. Output: 4 (backtrack to 2, then backtrack to 1, then to 0) Not that there can be more than one DFS Traversals of a Graph. For example, after 1, we may pick adjacent 2 instead of 0 and get a different DFS. Here we pick in the insertion order. Input:[[2,3,1], [0], [0,4], [0], [2]] Output:[0 2 4 3 1]Explanation:DFS Steps: Start at 0: Mark as visited. Output: 0Move to 2: Mark as visited. Output: 2Move to 4: Mark as visited. Output: 4 (backtrack to 2, then backtrack to 0)Move to 3: Mark as visited. Output: 3 (backtrack to 0)Move to 1: Mark as visited. Output: 1 (backtrack to 0) Table of Content The algorithm starts from a given source and explores all reachable vertices from the given source. It is similar toPreorder Tree Traversalwhere we visit the</td></tr><tr><td>https://www.geeksforgeeks.org/depth-first-search-or-dfs-for-a-graph/</td><td>Mark as visited. Output: 1 (backtrack to 0) Table of Content The algorithm starts from a given source and explores all reachable vertices from the given source. It is similar toPreorder Tree Traversalwhere we visit the root, then recur for its children. In a graph, there might be loops. So we use an extra visited array to make sure that we do not process a vertex again. Let us understand the working ofDepth First Searchwith the help of the followingIllustration:for thesource as 0. Time complexity:O(V + E), where V is the number of vertices and E is the number of edges in the graph.Auxiliary Space:O(V + E), since an extra visited array of size V is required, And stack size for recursive calls to dfsRec function. Please referComplexity Analysis of Depth First Searchfor details. The above implementation takes a source as an input and prints only those vertices that are reachable from the source and would not print all vertices in case of disconnected graph. Let us now talk about the algorithm that prints all vertices without any source and the graph maybe disconnected. The idea is simple, instead of calling DFS for a single vertex, we call the above implemented DFS for all all non-visited vertices one by one. Time complexity:O(V + E). Note that the time complexity is same here because we visit every vertex at most once and every edge is traversed at most once (in directed) and twice in undirected.Auxiliary Space:O(V + E), since an extra visited array of size V is required, And stack size for recursive calls to dfsRec function. Related Articles:</td></tr><tr><td>https://origin.geeksforgeeks.org/introduction-to-stack-data-structure-and-algorithm-tutorials</td><td>Stackis a linear data structure that followsLIFO (Last In First Out) Principle, the last element inserted is the first to be popped out. It means both insertion and deletion operations happen at one end only. Here are some real world examples of LIFO Stack follows LIFO (Last In First Out) Principle so the element which is pushed last is popped first. In order to make manipulations in a stack, there are certain operations provided to us. To implement stack, we need to maintain reference to the top item. Adds an item to the stack. If the stack is full, then it is said to be anOverflow condition. Algorithm for Push Operation: Removes an item from the stack. The items are popped in the reversed order in which they are pushed. If the stack is empty, then it is said to be anUnderflow condition. Algorithm for Pop Operation: Returns the top element of the stack. Algorithm for Top Operation: Returns true if the stack is empty, else false. Algorithm for isEmpty Operation: Returns true if the stack is full, else false. Algorithm for isFull Operation: The basic operations that can be performed on a stack include push, pop, and peek. There are two ways to implement a stack – Space Complexity O(1) O(1) top() orpeek() O(1) O(1) O(1) O(1) Next Articles:</td></tr><tr><td>https://www.geeksforgeeks.org/insertion-sort-algorithm/</td><td>Insertion sortis a simple sorting algorithm that works by iteratively inserting each element of an unsorted list into its correct position in a sorted portion of the list. It is like sorting playing cards in your hands. You split the cards into two groups: the sorted cards and the unsorted cards. Then, you pick a card from the unsorted group and put it in the right place in the sorted group. arr = {23, 1, 10, 5, 2} Initial: First Pass: Second Pass: Third Pass: Fourth Pass: Final Array: Time Complexity Space Complexity Please referComplexity Analysis of Insertion Sortfor details. Advantages Disadvantages Insertion sort is commonly used in situations where: What are the Boundary Cases of the Insertion Sort algorithm? Insertion sort takes the maximum time to sort if elements are sorted in reverse order. And it takes minimum time (Order of n) when elements are already sorted. What is the Algorithmic Paradigm of the Insertion Sort algorithm? The Insertion Sort algorithm follows an incremental approach. Is Insertion Sort an in-place sorting algorithm? Yes, insertion sort is an in-place sorting algorithm. Is Insertion Sort a stable algorithm? Yes, insertion sort is a stable sorting algorithm. When is the Insertion Sort algorithm used? Insertion sort is used when number of elements is small. It can also be useful when the input array is almost sorted, and only a few elements are misplaced in a complete big array.</td></tr><tr><td>https://www.geeksforgeeks.org/binary-search/</td><td>Binary SearchAlgorithmis asearching algorithmused in a sorted array byrepeatedly dividing the search interval in half. The idea of binary search is to use the information that the array is sorted and reduce the time complexity to O(log N). Binary Search Algorithm To apply Binary Search algorithm: Below is the step-by-step algorithm for Binary Search: To understand the working of binary search, consider the following illustration: Consider an arrayarr[] = {2, 5, 8, 12, 16, 23, 38, 56, 72, 91}, and thetarget = 23. TheBinary Search Algorithmcan be implemented in the following two ways Given below are the pseudocodes for the approaches. Here we use a while loop to continue the process of comparing the key and splitting the search space in two halves. Time Complexity:O(log N)Auxiliary Space:O(1) Create a recursive function and compare the mid of the search space with the key. And based on the result either return the index where the key is found or call the recursive function for the next search space. Please referTime and Space Complexity Analysis of Binary Searchfor more details. Please referApplications, Advantages and Disadvantages of Binary Searchfor more details. Binary search is an efficient algorithm for finding a target value within a sorted array. It works by repeatedly dividing the search interval in half. Binary Search compares the target value to the middle element of the array. If they are equal, the search is successful. If the target is less than the middle element, the search continues in the lower half of the array. If the target is greater, the search continues in the upper half. This process repeats until the target is found or the search interval is empty. The time complexity of binary search is O(log2n), where n is the number of elements in the array. This is because the size of the search interval is halved in each step. Binary search requires that the array is sorted in ascending or descending order. If the array is not sorted, we cannot use Binary Search to search an element in the array. If the array is not sorted, binary search may return incorrect results. It relies on the sorted nature of the array to make decisions about which half of the array to search. Yes, binary search can be applied to</td></tr><tr><td>https://www.geeksforgeeks.org/binary-search/</td><td>in the array. If the array is not sorted, binary search may return incorrect results. It relies on the sorted nature of the array to make decisions about which half of the array to search. Yes, binary search can be applied to non-numeric data as long as there is a defined order for the elements. For example, it can be used to search for strings in alphabetical order. The disadvantage of Binary Search is that the input array needs to be sorted to decide which in which half the target element can lie. Therefore for unsorted arrays, we need to sort the array before applying Binary Search. Binary search should be used when searching for a target value in a sorted array, especially when the size of the array is large. It is particularly efficient for large datasets compared to linear search algorithms. Yes, binary search can be implemented both iteratively and recursively. The recursive implementation often leads to more concise code but may have slightly higher overhead due to recursive stack space or function calls. While binary search is very efficient for searching in sorted arrays, there may be specific cases where other search algorithms are more appropriate, such as when dealing with small datasets or when the array is frequently modified. Related Articles:</td></tr><tr><td>https://www.geeksforgeeks.org/depth-first-traversal-dfs-on-a-2d-array/</td><td>Given a2D arraygrid[][]of dimensionN * M, the task is to perform theDepth – First Searchtraversal on the given2D array. Examples: Input:grid[][] = {{-1, 2, 3}, {0, 9, 8}, {1, 0, 1}}Output:-1 2 3 8 1 0 9 0 1Explanation:The sequence of traversal of matrix elements using DFS is-1, 2, 3, 8, 1, 0, 9, 0, 1. Input:grid[][] = {{1, 2, 3}, {5, 6, 7}, {9, 10, 11}}Output:1 2 3 7 11 10 6 5 9 Approach:The idea is to useStack Data Structureto performDFS Traversalon the2D array. Follow the steps below to solve the given problem: Note:Direction vectors are used to traverse the adjacent cells of a given cell in a given order. For example,(x, y)is a cell whose adjacent cells(x – 1, y), (x, y + 1), (x + 1, y), (x, y – 1)need to be traversed, then it can be done using the direction vectors(-1, 0), (0, 1), (1, 0), (0, -1)in the up, left, down and right order. Below is the implementation of the above approach: Time Complexity:O(N * M)Auxiliary Space:O(N * M )</td></tr><tr><td>https://www.geeksforgeeks.org/introduction-to-hashing-2/</td><td>Hashingrefers to the process of generating a small sized output (that can be used as index in a table) from an input of typically large and variable size. Hashing uses mathematical formulas known as hash functions to do the transformation. This technique determines an index or location for the storage of an item in a data structure called Hash Table. Introduction to Hashing There are majorly three components of hashing: Suppose we have a set of strings {“ab”, “cd”, “efg”} and we would like to store it in a table. The above technique enables us to calculate the location of a given string by using a simple hash function and rapidly find the value that is stored in that location. Therefore the idea of hashing seems like a great way to store (key, value) pairs of the data in a table. Ahash functioncreates a mapping from an input key to an index in hash table, this is done through the use of mathematical formulas known as hash functions. For example: Consider phone numbers as keys and a hash table of size 100. A simple example hash function can be to consider the last two digits of phone numbers so that we have valid array indexes as output. A good hash function should have the following properties: When two or more keys have the same hash value, acollisionhappens. If we consider the above example, the hash function we used is the sum of the letters, but if we examined the hash function closely then the problem can be easily visualised that for different strings same hash value is being generated by the hash function. For example: {“ab”, “ba”} both have the same hash value, and string {“cd”,”be”} also generate the same hash value, etc. This is known ascollisionand it creates problem in searching, insertion, deletion, and updating of value. Collision in Hashing The probability of a hash collision depends on the size of the algorithm, the distribution of hash values and the efficiency of Hash function. To handle this collision, we useCollision Resolution Techniques. Theload factorof the hash table can be defined as the number of items the hash table contains divided by the size of the hash table. Load factor is the decisive parameter that is used when we want to rehash the previous hash function or want to add more elements to the existing hash table. It helps us in determining the</td></tr><tr><td>https://www.geeksforgeeks.org/introduction-to-hashing-2/</td><td>hash table contains divided by the size of the hash table. Load factor is the decisive parameter that is used when we want to rehash the previous hash function or want to add more elements to the existing hash table. It helps us in determining the efficiency of the hash function i.e. it tells whether the hash function which we are using is distributing the keys uniformly or not in the hash table. Load Factor = Total elements in hash table/ Size of hash table As the name suggests,rehashingmeans hashing again. Basically, when the load factor increases to more than its predefined value (the default value of the load factor is 0.75), the complexity increases. So to overcome this, the size of the array is increased (doubled) and all the values are hashed again and stored in the new double-sized array to maintain a low load factor and low complexity. Hash function is a function that takes an input and return a fixed-size string of bytes. The hash function receives the input key and returns the index of an element in an array called a hash table. The index is known as the hash index. Hash collisions occur when two different inputs passed to the hash function produce the same hash value. The lesser the number of hash collisions, the better the hash function is. Hash tables are data structures that use hash functions to map keys to values, allowing for efficient retrieval of data when needed. Hash table maps keys to values using a special function called a hash function. Hash stores the data in an associative manner in an array where each data value has its own unique index. Hashing is used in databases for indexing, disk-based data structures and  data compression algorithms. Hashing is also used to store passwords securely by applying a hash function to the password and storing the hashed result, rather than the plain text password.</td></tr><tr><td>https://www.geeksforgeeks.org/merge-sort/</td><td>Merge sortis a sorting algorithm that follows thedivide-and-conquerapproach. It works by recursively dividing the input array into smaller subarrays and sorting those subarrays then merging them back together to obtain the sorted array. In simple terms, we can say that the process ofmerge sortis to divide the array into two halves, sort each half, and then merge the sorted halves back together. This process is repeated until the entire array is sorted. Merge Sort Algorithm Table of Content Merge sort is a popular sorting algorithm known for its efficiency and stability. It follows thedivide-and-conquerapproach to sort a given array of elements.Here’s a step-by-step explanation of how merge sort works: Let’s sort the array or list[38, 27, 43, 10]using Merge Sort Let’s look at the working of above example: Divide: Conquer: Merge: Therefore, the sorted list is[10, 27, 38, 43]. The recurrence relation of merge sort is:[Tex]T(n) = \\begin{cases} \\Theta(1) & \\text{if } n = 1 \\\\ 2T\\left(\\frac{n}{2}\\right) + \\Theta(n) & \\text{if } n > 1 \\end{cases}[/Tex] Advantages Disadvantages Quick Links:</td></tr><tr><td>https://www.geeksforgeeks.org/level-order-tree-traversal/</td><td>Given a Binary Tree, the task is to find itsLevel Order Traversal. Level Order Traversal technique is a method to traverse a Tree such that all nodes present in the same level are traversed completely before traversing the next level. Example: Input: Output:[[5], [12, 13], [7, 14, 2], [17, 23, 27, 3, 8, 11]]Explanation: Level 0:Start with the root →[5]Level 1:Visit its children →[12, 13]Level 2:Visit children of 3 and 2 →[7, 14, 2]Level 3:Visit children of 4 and 5 →[17, 23, 27, 3, 8, 11] Table of Content Level Order Traversal visits all nodes at a lower level before moving to a higher level. It can be implemented using: The idea is to traverse the treerecursively, passing thecurrent nodeand itslevel, starting with the root at level 0. For each visited node, its value is added to theresultarray, by considering the value of current level as anindexin theresultarray. Looking at the examples, it’s clear that tree nodes need to be traversedlevel by levelfromtop to bottom. Since the tree structure allows us to access nodes starting from the root and moving downward, this process naturally follows aFirst-In-First-Out(FIFO) order. So we can usequeue data structureto perform level order traversal.</td></tr><tr><td>https://www.geeksforgeeks.org/detect-cycle-undirected-graph/</td><td>Given anundirected connected graph, the task is to check if there is acyclein the given graph. Examples: Input:V = 4, edges[][]= [[0, 1], [0, 2], [1, 2], [2, 3]] Undirected Graph with 4 vertices and 4 edges Output:trueExplanation:The diagram clearly shows a cycle 0 → 2 → 1 → 0 Input:V = 4, edges[][] = [[0, 1], [1, 2], [2, 3]] Undirected graph with 4 vertices and 3 edges Output:falseExplanation:There is no cycle in the given graph. Table of Content BFS is useful for cycle detection in anundirected graphbecause it explores level by level, ensuring that each node is visited in the shortest possible way. It efficiently detects cycles using avisited arrayand aqueuewhile avoiding unnecessary recursive calls, making it more memory-efficient than DFS for large graphs. DuringBFS traversal, we maintain avisited arrayand aqueue. We process nodes by popping them one by one from the queue, marking them asvisited, and pushing theirunvisitedadjacent nodes into the queue. A cycle is detected if we encounter a node that has already beenvisited before being dequeued, meaning it has been reached through a different path. This approach ensures that we efficiently detect cycles while maintaining optimal performance. Please referDetect cycle in an undirected graph using BFSfor complete implementation. Depth First Traversalcan be used to detect a cycle in an undirected Graph. If we encounter a visited vertex again, then we say, there is a cycle. But there is a catch in this algorithm, we need to make sure that we do not consider every edge as a cycle because in an undirected graph, an edge from 1 to 2 also means an edge from 2 to 1. To handle this, we keep track of the parent node (the node from which we came to the current node) in the DFS traversal and ignore the parent node from the visited condition. Follow the below steps to implement the above approach: Illustration: Below is the graph showing how to detect cycle in a graph using DFS: Below is the implementation of the above approach: Time</td></tr><tr><td>https://www.geeksforgeeks.org/detect-cycle-undirected-graph/</td><td>and ignore the parent node from the visited condition. Follow the below steps to implement the above approach: Illustration: Below is the graph showing how to detect cycle in a graph using DFS: Below is the implementation of the above approach: Time Complexity:O(V+E) because DFS visits each vertex once (O(V)) and traverses all edges once (O(E))Auxiliary space:O(V) for the visited array and O(V) for the recursive call stack. We do not count the adjacency list in auxiliary space as it is necessary for representing the input graph. Related Articles:</td></tr><tr><td>https://www.geeksforgeeks.org/introduction-to-recursion-2/</td><td>The process in which a function calls itself directly or indirectly is called recursion and the corresponding function is called a recursive function. Need of Recursion Step1 – Define a base case: Identify the simplest (or base) case for which the solution is known or trivial. This is the stopping condition for the recursion, as it prevents the function from infinitely calling itself.Step2 – Define a recursive case: Define the problem in terms of smaller subproblems. Break the problem down into smaller versions of itself, and call the function recursively to solve each subproblem.Step3 – Ensure the recursion terminates: Make sure that the recursive function eventually reaches the base case, and does not enter an infinite loop.Step4 – Combine the solutions: Combine the solutions of the subproblems to solve the original problem. Example 1 : Sum of Natural Numbers Let us consider a problem to find the sum of natural numbers, there are several ways of doing that but the simplest approach is simply to add the numbers starting from 0 to n. So the function simply looks like this, approach(1) – Simply adding one by one f(n) = 0 + 1 + 2 + 3 +……..+ n but there is another mathematical approach of representing this, approach(2) – Recursive adding f(n) = 0                n=0 f(n) = n + f(n-1)    n>=1 What is the base condition in recursion?A recursive program stops at a base condition. There can be more than one base conditions in a recursion. In the above program, the base condition is when n = 1.\\ How a particular problem is solved using recursion?The idea is to represent a problem in terms of one or more smaller problems, and add one or more base conditions that stop the recursion. Example 2 : Factorial of a NumberFactorialof a number n (where n >= 0) is defined as multiplication of numbers from 1 to n. To recursive compute, we compute factorial n if we know the factorial of (n-1). The base case for factorial would be n = 0. We return 1 when n = 0. Illustration of the above code: When does Stack Overflow error occur in recursion?If the base case is not reached or not defined, then the stack overflow problem may arise. Let us take an example to understand</td></tr><tr><td>https://www.geeksforgeeks.org/introduction-to-recursion-2/</td><td>We return 1 when n = 0. Illustration of the above code: When does Stack Overflow error occur in recursion?If the base case is not reached or not defined, then the stack overflow problem may arise. Let us take an example to understand this. If fact(10) is called, it will call fact(9), fact(8), fact(7), and so on but the number will never reach 100. So, the base case is not reached. If the memory is exhausted by these functions on the stack, it will cause a stack overflow error. What is the difference between direct and indirect recursion?A function fun is called direct recursive if it calls the same function fun. A function fun is called indirect recursive if it calls another function say fun_new and fun_new calls fun directly or indirectly. The difference between direct and indirect recursion has been illustrated in Table 1. What is the difference between tailed and non-tailed recursion?A recursive function is tail recursive when a recursive call is the last thing executed by the function. Please refertail recursion articlefor details. How memory is allocated to different function calls in recursion?Recursion uses more memory to store data of every recursive call in an internal function call stack. When any function is called from main(), the memory is allocated to it on the stack. A recursive function calls itself, the memory for a called function is allocated on top of memory allocated to the calling function and a different copy of local variables is created for each function call. When the base case is reached, the function returns its value to the function by whom it is called and memory is de-allocated and the process continues.Let us take the example of how recursion works by taking a simple function. WhenprintFun(3)is called from main(), memory is allocated toprintFun(3)and a local variable test is initialized to 3 and statement 1 to 4 are pushed on the stack as shown in below diagram. It first prints ‘3’. In statement 2,printFun(2)is called and memory is allocated toprintFun(2)and a local variable test is initialized to 2 and statement 1 to 4 are pushed into the stack.</td></tr><tr><td>https://www.geeksforgeeks.org/introduction-to-recursion-2/</td><td>It first prints ‘3’. In statement 2,printFun(2)is called and memory is allocated toprintFun(2)and a local variable test is initialized to 2 and statement 1 to 4 are pushed into the stack. Similarly,printFun(2)callsprintFun(1)andprintFun(1)callsprintFun(0).printFun(0)goes to if statement and it return toprintFun(1). The remaining statements ofprintFun(1)are executed and it returns toprintFun(2)and so on. In the output, values from 3 to 1 are printed and then 1 to 3 are printed. The memory stack has been shown in below diagram. Recursion VS Iteration Example 4 : Fibonacci with RecursionWrite a program and recurrence relation to find theFibonacciseries of n where n >= 0.Mathematical Equation: Recurrence Relation: Recursion Tree for the above Code: Recursion is a powerful technique that has many applications in computer science and programming. Here are some of the common applications of recursion: These are just a few examples of the many applications of recursion in computer science and programming. Recursion is a versatile and powerful tool that can be used to solve many different types of problems. What are the disadvantages of recursive programming over iterative programming?Note every recursive program can be written iteratively and vice versa is also true. What are the advantages of recursive programming over iterative programming? Summary of Recursion: Output based practice problems for beginners:Practice Questions for Recursion | Set 1Practice Questions for Recursion | Set 2Practice Questions for Recursion | Set 3Practice Questions for Recursion | Set 4Practice Questions for Recursion | Set 5Practice Questions for Recursion | Set 6Practice Questions for Recursion | Set 7Quiz on RecursionCoding Practice on Recursion:All Articles on RecursionRecursive Practice Problems with Solutions</td></tr><tr><td>https://www.geeksforgeeks.org/detect-cycle-in-a-graph/</td><td>Given the root of aDirected graph, The task is to check whether the graph contains a cycle or not. Examples: Input:V = 4, E = 6 Output:YesExplanation:The diagram clearly shows a cycle 0 -> 2 -> 0 Input:V = 4, E = 4 Output:NoExplanation:The diagram clearly shows no cycle. The problem can be solved based on the following idea: To find cycle in a directed graph we can use theDepth First Traversal(DFS) technique. It is based on the idea that there is a cycle in a graphonly if there is a back edge[i.e., a node points to one of its ancestors in a DFS tree] present in the graph. To detect a back edge, we need to keep track of the visited nodes that are in the current recursion stack [i.e., the current path that we are visiting]. Please note that all ancestors of a node are present in recursion call stack during DFS. So if there is an edge to an ancestor in DFS, then this is a back edge. Note:If the graph is disconnected then get the DFS forest and check for a cycle in individual graphs by checking back edges. To keep track of vertices that are in recursion call stack, we use a boolean array where we use vertex number as an index. Whenever we begin recursive call for a vertex, we mark its entry as true and whenever the recursion call is about to end, we mark false. Illustration: Below is the graph showing how to detect cycle in a graph using DFS: Below is the implementation of the above approach: Time Complexity:O(V + E), the Time Complexity of this method is the same as the time complexity ofDFS traversalwhich is O(V+E).Auxiliary Space:O(V). To store the visited and recursion stack O(V) space is needed. In the below article, another O(V + E) method is discussed :Detect Cycle in a direct graph using colors Here we are usingKahn’s algorithmfor topological sorting, if it successfully removes all vertices from the graph, it’s a DAG with no cycles. If there are remaining vertices with in-degrees greater than0, it indicates the presence of at least one cycle in the graph. Hence, if</td></tr><tr><td>https://www.geeksforgeeks.org/detect-cycle-in-a-graph/</td><td>if it successfully removes all vertices from the graph, it’s a DAG with no cycles. If there are remaining vertices with in-degrees greater than0, it indicates the presence of at least one cycle in the graph. Hence, if we are not able to get all the vertices in topological sorting then there must be at least one cycle. Below is the implementation of the above approach: Time Complexity:O(V + E), the time complexity of this method is the same as the time complexity of BFS traversal which is O(V+E).Auxiliary Space:O(V)</td></tr><tr><td>https://www.geeksforgeeks.org/quick-sort-algorithm/</td><td>QuickSortis a sorting algorithm based on theDivide and Conquerthat picks an element as a pivot and partitions the given array around the picked pivot by placing the pivot in its correct position in the sorted array. Table of Content QuickSort works on the principle ofdivide and conquer, breaking down the problem into smaller sub-problems. There are mainly three steps in the algorithm: Here’s a basic overview of how the QuickSort algorithm works. There are many different choices for picking pivots. The key process inquickSortis apartition().There are three common algorithms to partition. All these algorithms have O(n) time complexity. The logic is simple, we start from the leftmost element and keep track of the index of smaller (or equal) elements asi. While traversing, if we find a smaller element, we swap the current element witharr[i]. Otherwise, we ignore the current element. Let us understand the working of partition algorithm with the help of the following example: In the previous step, we looked at how thepartitioningprocess rearranges the array based on the chosenpivot. Next, we apply the same method recursively to the smaller sub-arrays on theleftandrightof the pivot. Each time, we select new pivots and partition the arrays again. This process continues until only one element is left, which is always sorted. Once every element is in its correct position, the entire array is sorted. Below image illustrates, how the recursive method calls for the smaller sub-arrays on theleftandrightof thepivot: Quick Sortis a crucial algorithm in the industry, but there are other sorting algorithms that may be more optimal in different cases. Time Complexity: Auxiliary Space:O(n),due torecursive call stack Please referTime and Space Complexity Analysis of Quick Sortfor more details. Please referApplication of Quicksortfor more details.</td></tr><tr><td>https://www.geeksforgeeks.org/implement-a-stack-using-singly-linked-list/</td><td>To implement a stack using a singly linked list, we need to ensure that all operations follow theLIFO(Last In, First Out) principle. This means that the most recently added element is always the first one to be removed. In this approach, we use a singly linked list, where each node contains data and a reference (or link) to the next node. To manage the stack, we maintain atoppointer that always points to the most recent (topmost) node in the stack. The key stack operations—push, pop, and peek can be performed using thistoppointer. In the stack Implementation, a stack contains a top pointer. which is the “head” of the stack where pushing and popping items happens at the head of the list. The first node has a null in the link field and second node-link has the first node address in the link field and so on and the last node address is in the “top” pointer. The main advantage of using a linked list over arrays is that it is possible to implement a stack that can shrink or grow as much as needed. Using an array will put a restriction on the maximum capacity of the array which can lead to stack overflow. Here each new node will be dynamically allocated. so overflow is not possible. Time Complexity:O(1), for all push(), pop(), and peek(), as we are not performing any kind of traversal over the list.Auxiliary Space:O(n), where n is the size of the stack Stacks are used in various real-world scenarios where a last-in, first-out (LIFO) data structure is required. Here are some examples of real-time applications of stacks:</td></tr><tr><td>https://www.geeksforgeeks.org/breadth-first-traversal-bfs-on-a-2d-array/</td><td>Given a matrix of sizeM x Nconsisting of integers, the task is to print the matrix elements usingBreadth-First Searchtraversal. Examples: Input:grid[][] = {{1, 2, 3, 4}, {5, 6, 7, 8}, {9, 10, 11, 12}, {13, 14, 15, 16}}Output:1 2 5 3 6 9 4 7 10 13 8 11 14 12 15 16 Input:grid[][] = {{-1, 0, 0, 1}, {-1, -1, -2, -1}, {-1, -1, -1, -1}, {0, 0, 0, 0}}Output:-1 0 -1 0 -1 -1 1 -2 -1 0 -1 -1 0 -1 0 0 Approach:Follow the steps below to solve the problem: Note:Direction vectors are used to traverse the adjacent cells of a given cell in a given order. For example(x, y)is a cell whose adjacent cells(x – 1, y), (x, y + 1), (x + 1, y), (x, y – 1)need to be traversed, then it can be done using the direction vectors(-1, 0), (0, 1), (1, 0), (0, -1)in the up, left, down and right order. Below is the implementation of the above approach: Time Complexity:O(N * M)Auxiliary Space:O(N * M) R</td></tr><tr><td>https://www.geeksforgeeks.org/introduction-to-arrays-data-structure-and-algorithm-tutorials/</td><td>Arrayis a collection of items of the same variable type that are stored at contiguous memory locations. It is one of the most popular and simple data structures used in programming. In an array, all the elements are stored in contiguous memory locations. So, if we initialize an array, the elements will be allocated sequentially in memory. This allows for efficient access and manipulation of elements. Arrays can be declared in various ways in different languages. For better illustration, below are some language-specific array declarations: Arrays can be initialized in different ways in different languages. Below are some language-specific array initializations: Assume there is a class of five students and if we have to keep records of their marks in examination then, we can do this by declaring five variables individual and keeping track of records but what if the number of students becomes very large, it would be challenging to manipulate and maintain the data. What it means is that, we can use normal variables (v1, v2, v3, ..) when we have a small number of objects. But if we want to store a large number of instances, it becomes difficult to manage them with normal variables. The idea of an array is to represent many instances in one variable. Arrays can be classified in two ways: 1. Fixed Sized Arrays We cannot alter or update the size of this array. Here only a fixed size (i,e. the size that is mentioned in square brackets[]) of memory will be allocated for storage. In case, we don’t know the size of the array then if we declare a larger size and store a lesser number of elements will result in a wastage of memory or we declare a lesser size than the number of elements then we won’t get enough memory to store all the elements. In such cases, static memory allocation is not preferred. 2. Dynamic Sized Arrays The size of the array changes as per user requirements during execution of code so the coders do not have to worry about sizes. They can add and removed the elements as per the need. The memory is mostly dynamically allocated and de-allocated in these arrays. 1. One-dimensional Array(1-D Array):You can imagine a 1d array as a row, where elements are stored one after another. 2. Multi-dimensional Array:A multi-dimensional array is an</td></tr><tr><td>https://www.geeksforgeeks.org/introduction-to-arrays-data-structure-and-algorithm-tutorials/</td><td>these arrays. 1. One-dimensional Array(1-D Array):You can imagine a 1d array as a row, where elements are stored one after another. 2. Multi-dimensional Array:A multi-dimensional array is an array with more than one dimension. We can use multidimensional array to store complex data in the form of tables, etc. We can have 2-D arrays, 3-D arrays, 4-D arrays and so on. To read more about Matrix Refer,Matrix Data Structure To read more about Multidimensional Array Refer,Multidimensional Arrays in C – 2D and 3D Arrays Array traversal refers to the process of accessing and processing each element of an array sequentially. This is one of the most fundamental operations in programming, as arrays are widely used data structures for storing multiple elements in a single variable. How Array Traversal Works? When an array is created, it occupies a contiguous block of memory where elements are stored in an indexed manner. Each element can be accessed using its index, which starts from0in most programming languages. For example, consider an array containing five integers: arr = [10, 20, 30, 40, 50] Here: Array traversal means accessing each element from start to end (or sometimes in reverse order), usually by using a loop. Types of Array Traversal Array traversal can be done in multiple ways based on the requirement: To read more about Array Traversal Refer,Traversal in Array Insertion in an array refers to the process of adding a new element at a specific position while maintaining the order of the existing elements. Since arrays have a fixed size in static implementations, inserting an element often requires shifting existing elements to make space. How Insertion Works in an Array? Arrays are stored in contiguous memory locations, meaning elements are arranged in a sequential block. When inserting a new element, the following happens: For example, if we have the array: arr = [10, 20, 30, 40, 50] and we want to insert25at index2, the new array will be: arr = [10, 20, 25, 30, 40, 50] Here, elements30,40, and50have shifted right to make space. Types of Insertion 1. Insertion at the Beginning (Index 0) 2. Insertion at a</td></tr><tr><td>https://www.geeksforgeeks.org/introduction-to-arrays-data-structure-and-algorithm-tutorials/</td><td>20, 25, 30, 40, 50] Here, elements30,40, and50have shifted right to make space. Types of Insertion 1. Insertion at the Beginning (Index 0) 2. Insertion at a Specific Index 3. Insertion at the End To read more about Insertion in Array Refer,Inserting Elements in an Array – Array Operations Deletion in an array refers to the process of removing an element from a specific position while maintaining the order of the remaining elements. Unlike linked lists, where deletion is efficient, removing an element from an array requires shifting elements to fill the gap. How Deletion Works in an Array? Since arrays have contiguous memory allocation, deleting an element does not reduce the allocated memory size. Instead, it involves: For example, consider the array: arr = [10, 20, 30, 40, 50] If we delete the element30(index2), the new array will be: arr = [10, 20, 40, 50] Here, elements40and50shifted left to fill the gap. Types of Deletion 1. Deletion at the Beginning (Index 0) 2. Deletion at a Specific Index 3. Deletion at the End To read more about Deletion in Array Refer,Deleting Elements in an Array – Array Operations 4. Searching in Array Searching in an array refers to the process of finding a specific element in a given list of elements. The goal is to determine whether the element exists in the array and, if so, find its index (position). Searching is a fundamental operation in programming, as it is used in data retrieval, filtering, and processing. There are two main types of searching techniques in an array: 1. Linear Search (Sequential Search) Consider an array: arr = [10, 20, 30, 40, 50] If we search for30, the algorithm will: 2. Binary Search (Efficient Search for Sorted Arrays) Consider a sorted array: arr = [10, 20, 30, 40, 50] If we search for30: To read more about Searching in Array Refer,Searching Elements in Array Next Read:Applications, Advantages and Disadvantages of Array An array is a collection of items of the same data type stored at contiguous memory locations. Ex. int arr[5] = {1,2,3,4,5};</td></tr><tr><td>https://www.geeksforgeeks.org/introduction-to-arrays-data-structure-and-algorithm-tutorials/</td><td>Advantages and Disadvantages of Array An array is a collection of items of the same data type stored at contiguous memory locations. Ex. int arr[5] = {1,2,3,4,5}; Arrays store elements of the same type, they are classified as homogeneous data structures. They can store numbers, strings, characters, boolean values (true and false), objects, and so on. An array is alinear data structurethat stores similar elements in contiguous memory locations. There are majorly two types of arrays: An array is a collection of items of the same data type stored at contiguous memory locations or says the elements are stored one after another in memory. An array uses an index system starting at0and going to(n-1), wherenis its size. The structure can contain variables of different types but an array only contains variables of the same type. An array is a collection of items of the same data type. That means, in an integer array only integer values can be stored, while in a float array only floating values and character array can have only characters. Thus, no array can have values of two data types. There are multiple advantages of array data structure and some of them are: An array is used when several variables of the same type need to be used, and it can be defined as a sequence of objects of the same type. A multi-dimensional array can be termed as an array of arrays that stores homogeneous data in tabular form. Data inMultidimensional Arraysare stored in row-major order.</td></tr><tr><td>https://www.geeksforgeeks.org/bubble-sort-algorithm/</td><td>Bubble Sortis the simplest sorting algorithm that works by repeatedly swapping the adjacent elements if they are in the wrong order. This algorithm is not suitable for large data sets as its average and worst-case time complexity are quite high. Below is the implementation of the bubble sort. It can be optimized by stopping the algorithm if the inner loop didn’t cause any swap. Time Complexity:O(n2)Auxiliary Space:O(1)Please referComplexity Analysis of Bubble Sortfor details. Bubble sort takes minimum time (Order of n) when elements are already sorted. Hence it is best to check if the array is already sorted or not beforehand, to avoid O(n2) time complexity. Yes, Bubble sort performs the swapping of adjacent pairs without the use of any major data structure. Hence Bubble sort algorithm is an in-place algorithm. Yes, the bubble sort algorithm is stable. Related Articles</td></tr><tr><td>https://www.geeksforgeeks.org/bucket-sort-2/</td><td>Bucket sortis a sorting technique that involves dividing elements into various groups, or buckets. These buckets are formed by uniformly distributing the elements. Once the elements are divided into buckets, they can be sorted using any other sorting algorithm. Finally, the sorted elements are gathered together in an ordered fashion. Createnempty buckets (Or lists) and do the following for every array element arr[i]. To apply bucket sort on the input array[0.78, 0.17, 0.39, 0.26, 0.72, 0.94, 0.21, 0.12, 0.23, 0.68], we follow these steps: Step 1:Create an array of size 10, where each slot represents a bucket. Creating Buckets for sorting Step 2:Insert elements into the buckets from the input array based on their range. Inserting elements into the buckets: Inserting Array elements into respective buckets Step 3:Sort the elements within each bucket. In this example, we use quicksort (or any stable sorting algorithm) to sort the elements within each bucket. Sorting the elements within each bucket: Sorting individual bucket Step 4:Gather the elements from each bucket and put them back into the original array. Gathering elements from each bucket: Inserting buckets in ascending order into the resultant array Step 5:The original array now contains the sorted elements. The final sorted array using bucket sort for the given input is [0.12, 0.17, 0.21, 0.23, 0.26, 0.39, 0.68, 0.72, 0.78, 0.94]. Return the Sorted Array Below is the implementation for the Bucket Sort: Worst Case Time Complexity:O(n2) The worst case happens when one bucket gets all the elements. In this case, we will be running insertion sort on all items which will make the time complexity as O(n2). We can reduce the worst case time complexity to O(n Log n) by using a O(n Log n) algorithm like Merge Sort or Heap Sort to sort the individual buckets, but that will improve the algorithm time for cases when buckets have small number of items as insertion sort works better for small arrays. Best Case Time Complexity :O(n + k) The best case happens when every bucket gets equal number of elements. In this case every call to insertion sort will take constant time as the</td></tr><tr><td>https://www.geeksforgeeks.org/bucket-sort-2/</td><td>as insertion sort works better for small arrays. Best Case Time Complexity :O(n + k) The best case happens when every bucket gets equal number of elements. In this case every call to insertion sort will take constant time as the number of items in every bucket would be constant (Assuming that k is linearly proportional to n). Auxiliary Space:O(n+k)</td></tr><tr><td>https://www.geeksforgeeks.org/adjacency-list-meaning-definition-in-dsa/</td><td>Anadjacency listis a data structure used to represent a graph where each node in the graph stores a list of its neighboring vertices. Table of Content Consider an Directed and Unweighted graphGwith 3verticesand3 edges. For the graph G, the adjacency list would look like: Consider an Undirected and Unweighted graphGwith 3verticesand3 edges. For the graph G, the adjacency list would look like: Consider an Directed and Weighted graphGwith 3verticesand3 edges. For the graph G, the adjacency list would look like: Consider an Undirected and Weighted graphGwith 3verticesand3 edges. For the graph G, the adjacency list would look like:</td></tr></tbody></table></div>"
      ]
     },
     "metadata": {
      "application/vnd.databricks.v1+output": {
       "addedWidgets": {},
       "aggData": [],
       "aggError": "",
       "aggOverflow": false,
       "aggSchema": [],
       "aggSeriesLimitReached": false,
       "aggType": "",
       "arguments": {},
       "columnCustomDisplayInfos": {},
       "data": [
        [
         "https://www.geeksforgeeks.org/doubly-linked-list/",
         "A doubly linked list is a more complex data structure than a singly linked list, but it offers several advantages. The main advantage of a doubly linked list is that it allows for efficient traversal of the list in both directions. This is because each node in the list contains a pointer to the previous node and a pointer to the next node. This allows for quick and easy insertion and deletion of nodes from the list, as well as efficient traversal of the list in both directions. In a data structure, a doubly linked list is represented using nodes that have three fields: Here is how a node in a Doubly Linked List is typically represented: Each node in aDoubly Linked Listcontains thedatait holds, a pointer to thenextnode in the list, and a pointer to thepreviousnode in the list. By linking these nodes together through thenextandprevpointers, we can traverse the list in both directions (forward and backward), which is a key feature of a Doubly Linked List. Table of Content Traversal in aDoubly Linked Listinvolves visiting each node, processing its data, and moving to the next or previous node using the forward (next) and backward (prev) pointers. Step-by-Step Approach for Traversal: Traversal is useful for displaying or processing all nodes in a doubly linked list. To read more about Traversal Operation Refer,Traversal in Doubly Linked List A Doubly Linked List (DLL) is a type of linked list where each node has two pointers: To find the length of a doubly linked list, we need to traverse the list while counting the nodes. Step-by-Step Approach for finding length: To read more about Finding Length of DLL Refer,Program to find size of Doubly Linked List Insertionin aDoubly Linked List (DLL)involves adding a new node at a specific position while maintaining the connections between nodes. Since each node contains a pointer to both the previous and next node, insertion requires adjusting these pointers carefully. There are three primary types of insertion in a DLL: 1. Insertion at the Beginning Read more about Insertion at the Beginning Refer,Insert a Node at Front/Beginning of Doubly Linked List 2. Insertion at the End Read more about Insertion at the End Refer,Insert a Node at the end of Doubly Linked"
        ],
        [
         "https://www.geeksforgeeks.org/doubly-linked-list/",
         "Beginning Read more about Insertion at the Beginning Refer,Insert a Node at Front/Beginning of Doubly Linked List 2. Insertion at the End Read more about Insertion at the End Refer,Insert a Node at the end of Doubly Linked List 3. Insertion at a Specific Position Read more about Insertion at a specific position Refer,Insert a Node at a specific position in Doubly Linked List Deletionin aDoubly Linked List (DLL)involves removing a node while maintaining the integrity of the list. Since each node contains pointers to both its previous and next nodes, deletion requires careful pointer adjustments to ensure no broken links occur. Types of Deletion in a Doubly Linked List 1. Deletion at the Beginning Read more about Deletion at the Beginning Refer,Deletion at beginning (Removal of first node) in a Doubly Linked List 2. Deletion at the End Read more about Deletion at the End Refer,Deletion at end (Removal of last node) in a Doubly Linked List 3. Deletion at a Specific Position Read more about Deletion at a specific position Refer,Delete a Doubly Linked List node at a given position Practice Questions on Doubly Linked ListMCQs on Linked List H"
        ],
        [
         "https://www.geeksforgeeks.org/types-of-recursions/",
         "What isRecursion?The process in which a function calls itself directly or indirectly is called recursion and the corresponding function is called a recursive function. Using recursive algorithm, certain problems can be solved quite easily. Examples of such problems areTowers of Hanoi (TOH),Inorder/Preorder/Postorder Tree Traversals,DFS of Graph, etc. Types ofRecursions:Recursion are mainly oftwo typesdepending on whethera function calls itself from within itselformore than one function call one another mutually.The first one is calleddirect recursionand another one is calledindirect recursion. Thus, the two types of recursion are: 1. Direct Recursion: These can be further categorized intofour types: Let’s understand the example bytracing tree of recursive function.That is how the calls are made and how the outputs are produced. Time Complexity For Tail Recursion : O(n)Space Complexity For Tail Recursion : O(n)Note:Time & Space Complexity is given for this specific example. It may vary for another example. Let’s now converting Tail Recursion into Loop and compare each other in terms of Time & Space Complexity and decide which is more efficient. Time Complexity: O(n)Space Complexity: O(1) Note:Time & Space Complexity is given for this specific example. It may vary for another example.So it was seen that in case of loop the Space Complexity is O(1) so it was better to write code in loop instead of tail recursion in terms of Space Complexity which is more efficient than tail recursion. Why space complexity is less in case of loop ?Before explaining this I am assuming that you are familiar with the knowledge that’s how the data stored in main memory during execution of a program. In brief,when the program executes,the main memory divided into three parts. One part for code section, the second one is heap memory and another one is stack memory.Remember that the program can directly access only the stack memory, it can’t directly access the heap memory so we need the help of pointer to access the heap memory. Let’s now understand why space complexity is less in case of loop ?In case of loop when function “(void fun(int y))” executes there only one activation record created in stack memory(activation record created for only"
        ],
        [
         "https://www.geeksforgeeks.org/types-of-recursions/",
         "Let’s now understand why space complexity is less in case of loop ?In case of loop when function “(void fun(int y))” executes there only one activation record created in stack memory(activation record created for only ‘y’ variable) so it takes only ‘one’ unit of memory inside stack so it’s space complexity is O(1) but in case of recursive function every time it calls itself for each call a separate activation record created in stack.So if there’s ‘n’ no of call then it takes ‘n’ unit of memory inside stack so it’s space complexity is O(n). Let’s understand the example bytracing tree of recursive function.That is how the calls are made and how the outputs are produced. Time Complexity For Head Recursion: O(n)Space Complexity For Head Recursion: O(n) Note:Time & Space Complexity is given for this specific example. It may vary for another example.Note:Head recursion can’t easily convert into loop as Tail Recursion but it can. Let’s convert the above code into the loop. Program for tree recursion Let’s understand the example bytracing tree of recursive function.That is how the calls are made and how the outputs are produced. Time Complexity For Tree Recursion: O(2^n)Space Complexity For Tree Recursion: O(n)Note:Time & Space Complexity is given for this specific example. It may vary for another example. Let’s understand the example bytracing tree of recursive function.That is how the calls are made and how the outputs are produced. 2. Indirect Recursion: In this recursion, there may be more than one functions and they are calling one another in a circular manner. From the above diagram fun(A) is calling for fun(B), fun(B) is calling for fun(C) and fun(C) is calling for fun(A) and thus it makes a cycle. Example: Let’s understand the example bytracing tree of recursive function.That is how the calls are made and how the outputs are produced. A"
        ],
        [
         "https://www.geeksforgeeks.org/introduction-to-binary-tree/",
         "Binary Treeis anon-linearandhierarchicaldata structure where each node has at most two children referred to as theleft childand theright child.  The topmost node in a binary tree is called theroot, and the bottom-most nodes are calledleaves. Introduction to Binary Tree Each node in a Binary Tree has three parts: Binary Tree Representation Syntax to declare a Node of Binary Tree in different languages: Here’s an example of creating a Binary Tree with four nodes (2, 3, 4, 5) Creating a Binary Tree having three nodes In the above code, we have created four tree nodesfirstNode,secondNode,thirdNodeandfourthNodehaving values2,3,4and5respectively. The diagram below shows all these terms in a binary tree. Terminologies in Binary Tree in Data Structure Please referProperties of Binary Treefor more details. Binary Tree can be classified into multiples types based on multiple factors: Following is a list of common operations that can be performed on a binary tree: Traversal in Binary Tree involves visiting all the nodes of the binary tree. Tree Traversal algorithms can be classified broadly into two categories,DFSandBFS: Depth-First Search (DFS) algorithms:DFS explores as far down a branch as possible before backtracking. It is implemented using recursion. The main traversal methods in DFS for binary trees are: Breadth-First Search (BFS) algorithms:BFS explores all nodes at the present depth before moving on to nodes at the next depth level. It is typically implemented using a queue.BFS in a binary tree is commonly referred to asLevel Order Traversal. Below is the implementation of traversals algorithm in binary tree: Inserting elements means add a new node into the binary tree. As we know that there is no such ordering of elements in the binary tree, So we do not have to worry about the ordering of node in the binary tree. We would first creates aroot nodein case of empty tree. Then subsequent insertions involve iteratively searching for an empty place at each level of the tree. When an emptyleftorrightchild is found thennew nodeis"
        ],
        [
         "https://www.geeksforgeeks.org/introduction-to-binary-tree/",
         "would first creates aroot nodein case of empty tree. Then subsequent insertions involve iteratively searching for an empty place at each level of the tree. When an emptyleftorrightchild is found thennew nodeis inserted there. By convention, insertion always starts with theleftchild node. Insertion in Binary Tree Searchingfor a value in a binary tree means looking through the tree to find a node that has that value. Since binary trees do not have a specific order like binary search trees, we typically use any traversal method to search. The most common methods aredepth-first search (DFS)andbreadth-first search (BFS). InDFS, we start from therootand explore the depth nodes first. In BFS, we explore all the nodes at the present depth level before moving on to the nodes at the next level. We continue this process until we either find the node with the desired value or reach the end of the tree. If the tree is empty or the value isn’t found after exploring all possibilities, we conclude that the value does not exist in the tree. Here is the implementation of searching in a binary tree using Depth-First Search (DFS) Deleting a node from a binary tree means removing a specific node while keeping the tree’s structure. First, we need to find the node that want to delete by traversing through the tree using any traversal method. Then replace the node’s value with the value of the last node in the tree (found by traversing to the rightmost leaf), and then delete that last node. This way, the tree structure won’t be effected. And remember to check for special cases, like trying to delete from an empty tree, to avoid any issues. Note:There is no specific rule of deletion but we always make sure that during deletion the binary tree proper should be preserved. Deletion in Binary Tree Here’s the complexity analysis for specific binary tree operations: Note:We can useMorris Traversalto traverse all the nodes of the binary tree in O(n) time complexity but with O(1) auxiliary space. A binary tree is a non-linear data structure consisting of nodes, where each node has at most two children (left"
        ],
        [
         "https://www.geeksforgeeks.org/introduction-to-binary-tree/",
         "nodes of the binary tree in O(n) time complexity but with O(1) auxiliary space. A binary tree is a non-linear data structure consisting of nodes, where each node has at most two children (left child and the right child). Binary trees can be classified into various types, including full binary trees, complete binary trees, perfect binary trees, balanced binary trees (such as AVL trees and Red-Black trees), and degenerate (or pathological) binary trees. The height of a binary tree is the length of the longest path from the root node to a leaf node. It represents the number of edges in the longest path from the root node to a leaf node. The depth of a node in a binary tree is the length of the path from the root node to that particular node. The depth of the root node is 0. Tree traversal in a binary tree can be done in different ways: In-order traversal, Pre-order traversal, Post-order traversal, and Level-order traversal (also known as breadth-first traversal). In Inorder traversal, nodes are recursively visited in this order: left child, root, right child. This traversal results in nodes being visited in non-decreasing order in a binary search tree. In Preorder traversal, nodes are recursively visited in this order: root, left child, right child. This traversal results in root node being the first node to be visited. In Postorder traversal, nodes are recursively visited in this order: left child, right child and root. This traversal results in root node being the last node to be visited. A binary tree is a hierarchical data structure where each node has at most two children, whereas a binary search tree is a type of binary tree in which the left child of a node contains values less than the node’s value, and the right child contains values greater than the node’s value. A balanced binary tree is a binary tree in which the height of the left and right subtrees of every node differ by at most one. Balanced trees help maintain efficient operations such as searching, insertion, and deletion with time complexities close to O(log"
        ],
        [
         "https://www.geeksforgeeks.org/introduction-to-binary-tree/",
         "a binary tree in which the height of the left and right subtrees of every node differ by at most one. Balanced trees help maintain efficient operations such as searching, insertion, and deletion with time complexities close to O(log n). Tree is a hierarchical data structure. Main uses of trees include maintaining hierarchical data, providing moderate access and insert/delete operations. Binary trees are special cases of tree where every node has at most two children."
        ],
        [
         "https://www.geeksforgeeks.org/rabin-karp-algorithm-for-pattern-searching/",
         "Given a text T[0. . .n-1]and a pattern P[0. . .m-1], write a function search(char P[], char T[]) that prints all occurrences of P[] present in T[] using Rabin Karp algorithm. You may assume thatn > m. Examples: Input:T[] = “THIS IS A TEST TEXT”, P[] = “TEST”Output:Pattern found at index 10 Input:T[] =  “AABAACAADAABAABA”, P[] =  “AABA”Output:Pattern found at index 0Pattern found at index 9Pattern found at index 12 In theNaive String Matchingalgorithm, we check whether every substring of the text of the pattern’s size is equal to the pattern or not one by one. Like the Naive Algorithm, the Rabin-Karp algorithm also check every substring. But unlike the Naive algorithm, the Rabin Karp algorithm matches thehash valueof thepatternwith thehash valueof the current substring oftext, and if thehash valuesmatch then only it starts matching individual characters. So Rabin Karp algorithm needs to calculate hash values for the following strings. Hash valueis used to efficiently check for potential matches between apatternand substrings of a largertext. The hash value is calculated using arolling hash function, which allows you to update the hash value for a new substring by efficiently removing the contribution of the old character and adding the contribution of the new character. This makes it possible to slide the pattern over thetextand calculate the hash value for each substring without recalculating the entire hash from scratch. Here’s how the hash value is typically calculated in Rabin-Karp: Step 1:Choose a suitablebaseand amodulus: Step 2:Initialize the hash value: Step 3:Calculate the initial hash value for thepattern: Step 4:Slide the pattern over thetext: Step 5:Update the hash value for each subsequent substring: hash = (hash – (text[i – pattern_length] * (bpattern_length – 1)) % p) * b + text[i] Step 6:Compare hash values: Below is the Illustration of above algorithm: Step-by-step approach: Time Complexity:"
        ],
        [
         "https://www.geeksforgeeks.org/rabin-karp-algorithm-for-pattern-searching/",
         "pattern_length] * (bpattern_length – 1)) % p) * b + text[i] Step 6:Compare hash values: Below is the Illustration of above algorithm: Step-by-step approach: Time Complexity: Auxiliary Space:O(1) Spurious Hit:When the hash value of the pattern matches with the hash value of a window of the text but the window is not the actual pattern then it is called aspurious hit. Spurious hit increases the time complexity of the algorithm. In order to minimize spurious hit, we use goodhash function. It greatly reduces the spurious hit. Related Posts:Searching for Patterns | Set 1 (Naive Pattern Searching)Searching for Patterns | Set 2 (KMP Algorithm)"
        ],
        [
         "https://www.geeksforgeeks.org/implement-stack-using-array/",
         "Stackis alinear data structurewhich followsLIFOprinciple. To implement a stack using an array, initialize an array and treat its end as the stack’s top. Implementpush(add to end),pop(remove from end), andpeek(check end) operations, handling cases for anemptyor full stack. Step-by-step approach: Here are the following operations of implement stack using array: Adds an item to the stack. If the stack is full, then it is said to be anOverflow condition. Removes an item from the stack. The items are popped in the reversed order in which they are pushed. If the stack is empty, then it is said to be anUnderflow condition. Returns the top element of the stack. Returns true if the stack is empty, else false.= Returns true if the stack is full, else false. In this implementation, we use a fixed sized array. We take capacity as argument when we create a stack. We create an array with size equal to given capacity. If number of elements go beyond capacity, we throw an overflow error. In this implementation, we use a dynamic sized array likevector in C++,ArrayList in Java,List in PythonandArray in JavaScript. This is a simpler implementation but less efficient compared to the previous one if we know capacity in advance. C"
        ],
        [
         "https://www.geeksforgeeks.org/building-heap-from-array/",
         "Given an array ofnelements. The task is to build a Max Heap from the given array. Examples: Input:arr[] = {4, 10, 3, 5, 1}Output:Corresponding Max-Heap: 10/   \\5     3/  \\4    1 Input: arr[] = {1, 3, 5, 4, 6, 13, 10, 9, 8, 15, 17}Output: Corresponding Max-Heap: 17/      \\15         13/    \\      /  \\9      6    5   10/ \\    /  \\4   8  3    1 Note: The idea is to heapify the complete binary tree formed from the array from the last node to root (in reverse level order traversal manner). We can optimize it by observing the fact that the leaf nodes need not to beheapifiedas they already follow the heap property. So the idea is to find the position of the last non-leaf node and do heapify of each non-leaf node in reverse level order. How do we find the index of the last non-leaf node?Last non-leaf node = parent of last-node.or, Last non-leaf node = parent of node at (n-1)th index.or, Last non-leaf node = Node at index ((n-1) – 1)/2 = (n/2) – 1. Time Complexity Analysis:Heapify a single node takes O(log n) time complexity where n is the total number of Nodes. Therefore, building the entire Heap will take n heapify operations and the total time complexity will beO(n*logn). Note:In reality, building a heap takes O(n) time depending on the implementation which can be seenhere"
        ],
        [
         "https://www.geeksforgeeks.org/graph-and-its-representations/",
         "AGraphis a non-linear data structure consisting of vertices and edges. The vertices are sometimes also referred to as nodes and the edges are lines or arcs that connect any two nodes in the graph. More formally a Graph is composed of a set of vertices(V) and a set of edges(E). The graph is denoted byG(V, E). Here are the two most common ways to represent a graph : For simplicity, we are going to consider onlyunweighted graphsin this post. An adjacency matrix is a way of representing a graph as a matrix of boolean (0’s and 1’s) Let’s assume there arenvertices in the graph So, create a 2D matrixadjMat[n][n]having dimension n x n. The below figure shows an undirected graph. Initially, the entire Matrix is ​​initialized to0. If there is an edge from source to destination, we insert1to both cases (adjMat[destination]andadjMat[destination])because we can go either way. Undirected Graph to Adjacency Matrix The below figure shows a directed graph. Initially, the entire Matrix is ​​initialized to0. If there is an edge from source to destination, we insert1for that particularadjMat[destination]. Directed Graph to Adjacency Matrix An array of Lists is used to store edges between two vertices. The size of array is equal to the number ofvertices (i.e, n). Each index in this array represents a specific vertex in the graph. The entry at the index i of the array contains a linked list containing the vertices that are adjacent to vertexi. Let’s assume there arenvertices in the graph So, create anarray of listof sizenasadjList[n]. The below undirected graph has 3 vertices. So, an array of list will be created of size 3, where each indices represent the vertices. Now, vertex 0 has two neighbours (i.e, 1 and 2). So, insert vertex 1 and 2 at indices 0 of array. Similarly, For vertex 1, it has two neighbour (i.e, 2 and 0) So, insert vertices 2 and 0 at indices 1 of array. Similarly, for vertex 2, insert its neighbours in"
        ],
        [
         "https://www.geeksforgeeks.org/graph-and-its-representations/",
         "0 of array. Similarly, For vertex 1, it has two neighbour (i.e, 2 and 0) So, insert vertices 2 and 0 at indices 1 of array. Similarly, for vertex 2, insert its neighbours in array of list. Undirected Graph to Adjacency list The below directed graph has 3 vertices. So, an array of list will be created of size 3, where each indices represent the vertices. Now, vertex 0 has no neighbours. For vertex 1, it has two neighbour (i.e, 0 and 2) So, insert vertices 0 and 2 at indices 1 of array. Similarly, for vertex 2, insert its neighbours in array of list. Directed Graph to Adjacency list"
        ],
        [
         "https://www.geeksforgeeks.org/singly-linked-list-tutorial/",
         "Asingly linked listis a fundamental data structure, it consists ofnodeswhere each node contains adatafield and areferenceto the next node in the linked list. The next of the last node isnull, indicating the end of the list. Linked Lists support efficient insertion and deletion operations. In a singly linked list, each node consists of two parts: data and a pointer to the next node. This structure allows nodes to be dynamically linked together, forming a chain-like sequence. In this example, the Node class contains an integer data field (data) to store the information and a pointer to another Node (next) to establish the link to the next node in the list. Traversal in a linked list means visiting each node and performing operations like printing or processing data. Step-by-step approach: To read more about Traversal Operation in linked list Refer,Traversal of Singly Linked List Searching in a Singly Linked List refers to the process of looking for a specific element or value within the elements of the linked list. Step-by-step approach: To read more about Searching Operation in linked list Refer,Search an element in a Linked List Finding the length of aSingly Linked Listmeans counting the total number of nodes. Step-by-step approach: To read more about Finding Length of linked list Refer,Find Length of a Linked List Insertionis a fundamental operation in linked lists that involves adding a new node to the list. There are several scenarios for insertion: a. Insertion at the Beginning of Singly Linked List:Insertion at the beginning involves adding a new node before the current head, making it the new head. Step-by-step approach: To read more about Insertion at the Beginning of linked list Refer,Insert a Node at Front/Beginning of a Linked List b. Insertion at the End of Singly Linked List:To insert a node at the end of the list, traverse the list until the last node is reached, and then link the new node to the current last node Step-by-step approach: To read more about Insertion at the end of linked list Refer,Insert Node at the End of a Linked List c. Insertion at a Specific Position of the Singly Linked List:To insert a node at a specific position, traverse the list to the desired position, link the"
        ],
        [
         "https://www.geeksforgeeks.org/singly-linked-list-tutorial/",
         "end of linked list Refer,Insert Node at the End of a Linked List c. Insertion at a Specific Position of the Singly Linked List:To insert a node at a specific position, traverse the list to the desired position, link the new node to the next node, and update the links accordingly. Step-by-step approach: To read more about Insertion at the specific position of linked list Refer,Insert a node at a specific position in a linked list Deletioninvolves removing a node from the linked list. Similar to insertion, there are different scenarios for deletion: a. Deletion at the Beginning of Singly Linked List:To delete the first node, update the head to point to the second node in the list. Steps-by-step approach: To read more about Deletion at the beginning in linked list Refer,Deletion at beginning (Removal of first node) in a Linked List b. Deletion at the End of Singly Linked List:To delete the last node, traverse the list until the second-to-last node and update its next field to None. Step-by-step approach: To read more about Deletion at the end in linked list Refer,Deletion at end (Removal of last node) in a Linked List c. Deletion at a Specific Position of Singly Linked List:To delete a node at a specific position, traverse the list to the desired position, update the links to bypass the node to be deleted. Step-by-step approach: To read more about Deletion at the specific position in linked list Refer,Delete a Linked List node at a given position Updating in a Singly Linked List means modifying the value of a node at a given position. Step-by-step approach: To read more about Updation Operation in Linked List Refer,Modify contents of Linked List Reversing a singly linked list means changing the direction of pointers so that the last node becomes the new head. Step-by-step approach: To read more about Reversal Operation in Linked List Refer,Reverse a Linked List H"
        ],
        [
         "https://www.geeksforgeeks.org/dfs-traversal-of-a-tree-using-recursion/",
         "Depth-First Search (DFS) is a method used to explore all the nodes in a tree by going as deep as possible along each branch before moving to the next one. It starts at the root node and visits every node in the tree. Depth-First Search (DFS) can be classified into three main types based on the order in which the nodes are visited: Time Complexity:O(N)Auxiliary Space:O(log N) In the case of binary search trees (BST), Inorder traversal gives nodes in non-decreasing order. To get nodes of BST in non-increasing order, a variation of Inorder traversal where Inorder traversal is reversed can be used. Time Complexity:O(N)Auxiliary Space:O(log N) Preorder traversal is used to create a copy of the tree. Preorder traversal is also used to get prefix expressions of an expression tree. Time Complexity:O(N)Auxiliary Space:O(log N) Postorder traversal is used to delete every node of the tree. Postorder traversal is also useful to get thepostfix expressionof an expression tree Related Article :Breadth First Traversal."
        ],
        [
         "https://www.geeksforgeeks.org/breadth-first-search-or-bfs-for-a-graph/",
         "Given aundirected graphrepresented by an adjacency listadj, where eachadj[i]represents the list of vertices connected to vertexi. Perform aBreadth First Search (BFS)traversal starting from vertex0, visiting vertices from left to right according to the adjacency list, and return a list containing the BFS traversal of the graph. Examples: Input:adj = [[1,2], [0,2,3], [0,4], [1,4], [2,3]] Output:[0, 1, 2, 3, 4]Explanation:Starting from 0, the BFS traversal will follow these steps:Visit 0 → Output: [0]Visit 1 (first neighbor of 0) → Output: [0, 1]Visit 2 (next neighbor of 0) → Output: [0, 1, 2]Visit 3 (next neighbor of 1) → Output: [0, 1, 2,3]Visit 4 (neighbor of 2) → Final Output: [0, 1, 2, 3, 4] Input:adj = [[1, 2], [0, 2], [0, 1, 3, 4], [2], [2]]Output:[0, 1, 2, 3, 4]Explanation:Starting from 0, the BFS traversal proceeds as follows:Visit 0 → Output: [0]Visit 1 (the first neighbor of 0) → Output: [0, 1]Visit 2 (the next neighbor of 0) → Output: [0, 1, 2]Visit 3 (the first neighbor of 2 that hasn’t been visited yet) → Output: [0, 1, 2, 3]Visit 4 (the next neighbor of 2) → Final Output: [0, 1, 2, 3, 4] Input:adj = [[2, 4], [3], [0, 4], [1, 4], [0, 2, 3]]Output:[0, 2, 4, 3, 1]Explanation:Starting the BFS from vertex 0:Visit vertex 0 → Output: [0]Visit vertex 2 (neighbor of 0) → Output: [0, 2]Visit vertex 4 (next neighbor of 0) → Output: [0, 2,"
        ],
        [
         "https://www.geeksforgeeks.org/breadth-first-search-or-bfs-for-a-graph/",
         "from vertex 0:Visit vertex 0 → Output: [0]Visit vertex 2 (neighbor of 0) → Output: [0, 2]Visit vertex 4 (next neighbor of 0) → Output: [0, 2, 4]Visit vertex 3 (unvisited neighbor of 4) → Output: [0, 2, 4, 3]Visit vertex 1 (unvisited neighbor of 3) → Final Output: [0, 2, 4, 3, 1] Table of Content Breadth First Search (BFS)is a fundamentalgraph traversal algorithm.It begins with a node, then first traverses all its adjacent nodes. Once all adjacent are visited, then their adjacent are traversed. The algorithm starts from a given source and explores all reachable vertices from the given source. It is similar to theBreadth-First Traversal of a tree. Like tree, we begin with the given source (in tree, we begin with root) and traverse vertices level by level using a queue data structure. The only catch here is that, unliketrees, graphsmay contain cycles, so we may come to the same node again. To avoid processing a node more than once, we use aBooleanvisitedarray. Follow the below given approach: This algorithm ensures that all nodes in the graph are visited in a breadth-first manner, starting from the starting node. The above implementation takes a source as an input and prints only those vertices that are reachable from the source and would not print all vertices in case of disconnected graph. Let us see the algorithm that prints all vertices without any source and the graph maybe disconnected. The algorithm is simple, instead of calling BFS for a single vertex, we call the above implemented BFS for all not yet visited vertices one by one. Time Complexity: O(V + E),BFS explores all the vertices and edges in the graph. In the worst case, it visits every vertex and edge once. Therefore, the time complexity of BFS is O(V + E), where V and E are the number of vertices and edges in the given graph. Auxiliary Space: O(V),BFS uses a queue to keep track of the vertices that need to be visited. In the worst case, the queue can contain all the"
        ],
        [
         "https://www.geeksforgeeks.org/breadth-first-search-or-bfs-for-a-graph/",
         "are the number of vertices and edges in the given graph. Auxiliary Space: O(V),BFS uses a queue to keep track of the vertices that need to be visited. In the worst case, the queue can contain all the vertices in the graph. Therefore, the space complexity of BFS is O(V). BFS has various applications in graph theory and computer science, including: Question 1: What is BFS and how does it work? Answer:BFS is a graph traversal algorithm that systematically explores a graph by visiting all the vertices at a given level before moving on to the next level. It starts from a starting vertex, enqueues it into a queue, and marks it as visited. Then, it dequeues a vertex from the queue, visits it, and enqueues all its unvisited neighbors into the queue. This process continues until the queue is empty. Question 2: What are the applications of BFS? Answer:BFS has various applications, including finding the shortest path in an unweighted graph, detecting cycles in a graph, topologically sorting a directed acyclic graph (DAG), finding connected components in a graph, and solving puzzles like mazes and Sudoku. Question 3: What is the time complexity of BFS? Answer:The time complexity of BFS is O(V + E), where V is the number of vertices and E is the number of edges in the graph. Question 4: What is the space complexity of BFS? Answer:The space complexity of BFS is O(V), as it uses a queue to keep track of the vertices that need to be visited. Question 5: What are the advantages of using BFS? Answer:BFS is simple to implement and efficient for finding the shortest path in an unweighted graph. It also guarantees that all the vertices in the graph are visited. Related Articles:"
        ],
        [
         "https://www.geeksforgeeks.org/circular-linked-list/",
         "Acircular linked list is a data structure where the last node connects back to the first, forming a loop. This structure allows for continuous traversal without any interruptions. Circular linked lists are especially helpful for tasks like scheduling and managing playlists,allowing for smooth navigation. In this tutorial, we’ll cover the basics of circular linked lists, how to work with them, their advantages and disadvantages, and their applications. A circular linked list is a special type of linked list where all the nodes are connected to form a circle. Unlike a regular linked list, which ends with a node pointing to NULL, the last node in a circular linked list points back to the first node. This means that you can keep traversing the list without ever reaching a NULL value. We can create a circular linked list from bothsingly linked listsanddoubly linked lists. So, circular linked lists are basically of two types: In Circular Singly Linked List, each node has just one pointer called the “next” pointer. The next pointer of the last node points back to the first node and this results in forming a circle. In this type of Linked list, we can only move through the list in one direction. Representation of Circular Singly Linked List In circular doubly linked list, each node has two pointers prev and next, similar to doubly linked list. The prev pointer points to the previous node and the next points to the next node. Here, in addition to the last node storing the address of the first node, the first node will also store the address of the last node. Representation of Circular Doubly Linked List Note:In this article, we will use the singly linked list to explain the working of circular linked lists. Let’s take a look on the structure of a circular linked list. Representation of a Circular Singly Linked List Syntax to Declare a Circular Linked List in Different Languages: In the code above, each node hasdataand apointerto the next node. When we create multiple nodes for a circular linked list, we only need to connect the last node back to the first one. Here’s an example of creating a circular linked list with three nodes (2, 3, 4): Created a circular linked list with 3 nodes In the above code, we have created three nodesfirst, second, and last having values 2, 3, and 4"
        ],
        [
         "https://www.geeksforgeeks.org/circular-linked-list/",
         "a circular linked list with three nodes (2, 3, 4): Created a circular linked list with 3 nodes In the above code, we have created three nodesfirst, second, and last having values 2, 3, and 4 respectively. For the insertion of a node at the beginning, we need to traverse the whole list. Also, for insertion at the end, the whole list has to be traversed. If instead of the start pointer, we take a pointer to the last node, then in both cases there won’t be any need to traverse the whole list. So insertion at the beginning or at the end takes constant time, irrespective of the length of the list. We can do some operations on the circular linked list similar to the singly and doubly linked list which are: 1. Insertion 2. Deletion 3. Searching Insertionis a fundamental operation in linked lists that involves adding a new node to the list. The only extra step is connecting the last node to the first one. In the circular linked list mentioned below, we can insert nodes in four ways: To insert a node in empty circular linked list, creates anew node with the given data, sets its next pointer to point to itself, and updates the last pointer to reference this new node. Insertion in an empty List To read more about insertion in an empty list Refer,Insertion in an empty List in the circular linked list To insert a new node at the beginning of a circular linked list, we create a new node and check if the list is empty. If empty, the new node points to itself. If not, we make the new node’snextpointer point to the current head (last->next) and update the last node’snextto the new node, preserving the circular structure. Insertion at the beginning in circular linked list To read more about Insertion at the beginning Refer,Insertion at the beginning in circular linked list To insert a node at the end of a circular linked list, we create the new node and, if the list is empty, make it point to itself. Otherwise, we update the tail’snextpointer to the new node and then set the tail to the new node, preserving the circular linkage. Insertion at the end in circular linked list To read more about Insertion at the end"
        ],
        [
         "https://www.geeksforgeeks.org/circular-linked-list/",
         "we update the tail’snextpointer to the new node and then set the tail to the new node, preserving the circular linkage. Insertion at the end in circular linked list To read more about Insertion at the end Refer,Insertion at the end in circular linked list To insert a node at a specific position in a circular linked list, we handle edge cases for an empty list and invalid positions. For valid positions, we traverse the list and adjust the pointers to insert the new node, updating the tail if it’s inserted at the end. Insertion at specific position in circular linked list Deletioninvolves removing a node from the linked list. The main difference is that we need to ensure the list remains circular after the deletion. We can delete a node in a circular linked list in three ways: To delete the first node of a circular linked list, we check if the list is empty or has only one node. If so, we handle those cases by deleting the node and updating the last pointer. For multiple nodes, we update the last node’snextpointer to skip the head and free the head node, returning the updated last pointer. Delete the first node in circular linked list To delete a specific node from a circular linked list, we handle empty list and single node cases. For other nodes, we use two pointers to find the node, update the previous node’snextpointer to skip the target, and delete it, updating the last pointer if needed. Delete a specific node in circular linked list To delete the last node in a circular linked list, we handle the empty and single node cases. For multiple nodes, we traverse to find the second last node, update itsnextpointer to the head, delete the last node, and return the updated last pointer. Deletion at the end of Circular linked list Searching in a circular linked list is similar to searching in a regular linked list. We start at a given node and traverse the list until you either find the target value or return to the starting node. Since the list is circular, make sure to keep track of where you started to avoid an infinite loop. To read more about searching Refer,Searching in Circular Linked list"
        ],
        [
         "https://www.geeksforgeeks.org/introduction-to-backtracking-2/",
         "Backtracking is like trying different paths, and when you hit a dead end, you backtrack to the last choice and try a different route. In this article, we’ll explore the basics of backtracking, how it works, and how it can help solve all sorts of challenging problems. It’s like a method for finding the right way through a complex choices. Table of Content Backtracking is a problem-solving algorithmic technique that involves finding a solution incrementally by tryingdifferent optionsandundoingthem if they lead to adead end. It is commonly used in situations where you need to explore multiple possibilities to solve a problem, like searching for a path in a maze or solving puzzles like Sudoku. When a dead end is reached, the algorithm backtracks to the previous decision point and explores a different path until a solution is found or all possibilities have been exhausted. Backtracking can be defined as a general algorithmic technique that considers searching every possible combination in order to solve a computational problem. Introduction to Backtracking Problems associated with backtracking can be categorized into 3 categories: As we know backtracking algorithm explores each and every possible path in order to find a valid solution, this exploration of path can be easily understood via given images: As shown in the image, “IS”represents theInitial Statewhere the recursion call starts to find a valid solution.C :it represents differentCheckpointsfor recursive calls TN: it represents theTerminal Nodeswhere no further recursive calls can be made, these nodes act as base case of recursion and we determine whether the current solution is valid or not at this state. At each Checkpoint, our program makes some decisions and move to other checkpoints untill it reaches a terminal Node, after determining whether a solution is valid or not, the program starts to revert back to the checkpoints and try to explore other paths. For example in the above imageTN1…TN5are the terminal node where the solution is not acceptable, whileTN6is the state where we found a valid solution. The back arrows in the images shows backtracking in actions, where we revert the changes made by some checkpoint. Generally every constraint satisfaction problem can be solved using backtracking but, Is it optimal to use backtracking every time? Turns outNO, there are a vast number of problem that can be solved usingGreedyorDynamic"
        ],
        [
         "https://www.geeksforgeeks.org/introduction-to-backtracking-2/",
         "by some checkpoint. Generally every constraint satisfaction problem can be solved using backtracking but, Is it optimal to use backtracking every time? Turns outNO, there are a vast number of problem that can be solved usingGreedyorDynamic programmingin logarithmic or polynomial time complexity which is far better than exponential complexity of Backtracking. However many problems still exists that can only be solved using Backtracking. To understand whether a problem is Backtracking based or not, let us take a simple problem:Problem:Imagine you have 3 closed boxes, among which 2 are empty and 1 has a gold coin. Your task is to get the gold coin. Why dynamic programming fails to solve this question:Does opening or closing one box has any effect on the other box? Turns out NO, each and every box is independent of each other and opening/closing state of one box can not determine the transition for other boxes. Hence DP fails. Why greedy fails to solve this question:Greedy algorithm chooses a local maxima in order to get global maxima, but in this problem each and every box has equal probability of having a gold coin i.e 1/3 hence there is no criteria to make a greedy choice. Why Backtracking works:As discussed already, backtracking algorithm is simply brute forcing each and every choice, hence we can one by one choose every box to find the gold coin, If a box is found empty we can close it back which acts as a Backtracking step. Technically, for backtracking problems: The best way to implement backtracking is through recursion, and all backtracking code can be summarised as per the given Pseudocode: voidFIND_SOLUTIONS( parameters): if (validsolution): store thesolution Return for (allchoice): if (validchoice): APPLY(choice) FIND_SOLUTIONS(parameters) BACKTRACK(removechoice) Return Since backtracking algorithm is purely brute force therefore in terms of time complexity, it performs very poorly. Generally backtracking can be seen having below mentioned time complexities: These complexities are due to the fact that at each state we have multiple choices due to which the number of paths increases and sub-trees expand rapidly. Recursion and Backtracking are related concepts in computer science and programming, but they are not the same thing. Let’s explore the key differences between them: Recursion"
        ],
        [
         "https://www.geeksforgeeks.org/introduction-to-backtracking-2/",
         "choices due to which the number of paths increases and sub-trees expand rapidly. Recursion and Backtracking are related concepts in computer science and programming, but they are not the same thing. Let’s explore the key differences between them: Recursion Backtracking Recursion does not always need backtracking Backtracking always uses recursion to solve problems Solving problems by breaking them into smaller, similar subproblems and solving them recursively. Solving problems with multiple choices and exploring options systematically, backtracking when needed. Controlled by function calls and call stack. Managed explicitly with loops and state. Applications of Recursion:Tree and Graph Traversal, Towers of Hanoi, Divide and Conquer Algorithms, Merge Sort, Quick Sort, and Binary Search. Application of Backtracking:N Queen problem, Rat in a Maze problem, Knight’s Tour Problem, Sudoku solver, and Graph coloring problems. For more practice problems:click here"
        ],
        [
         "https://www.geeksforgeeks.org/depth-first-search-or-dfs-for-a-graph/",
         "In Depth First Search (or DFS) for a graph, we traverse all adjacent vertices one by one. When we traverse an adjacent vertex, we completely finish the traversal of all vertices reachable through that adjacent vertex. This is similar to a tree, where we first completely traverse the left subtree and then move to the right subtree. The key difference is that, unlike trees, graphs may contain cycles (a node may be visited more than once). To avoid processing a node multiple times, we use a boolean visited array. Example: Note :There can be multiple DFS traversals of a graph according to the order in which we pick adjacent vertices. Here we pick vertices as per the insertion order. Input:adj = [[1, 2], [0, 2], [0, 1, 3, 4], [2], [2]] Output: [0 1 2 3 4]Explanation:The source vertex s is 0. We visit it first, then we visit an adjacent.Start at 0: Mark as visited. Output: 0Move to 1: Mark as visited. Output: 1Move to 2: Mark as visited. Output: 2Move to 3: Mark as visited. Output: 3 (backtrack to 2)Move to 4: Mark as visited. Output: 4 (backtrack to 2, then backtrack to 1, then to 0) Not that there can be more than one DFS Traversals of a Graph. For example, after 1, we may pick adjacent 2 instead of 0 and get a different DFS. Here we pick in the insertion order. Input:[[2,3,1], [0], [0,4], [0], [2]] Output:[0 2 4 3 1]Explanation:DFS Steps: Start at 0: Mark as visited. Output: 0Move to 2: Mark as visited. Output: 2Move to 4: Mark as visited. Output: 4 (backtrack to 2, then backtrack to 0)Move to 3: Mark as visited. Output: 3 (backtrack to 0)Move to 1: Mark as visited. Output: 1 (backtrack to 0) Table of Content The algorithm starts from a given source and explores all reachable vertices from the given source. It is similar toPreorder Tree Traversalwhere we visit the"
        ],
        [
         "https://www.geeksforgeeks.org/depth-first-search-or-dfs-for-a-graph/",
         "Mark as visited. Output: 1 (backtrack to 0) Table of Content The algorithm starts from a given source and explores all reachable vertices from the given source. It is similar toPreorder Tree Traversalwhere we visit the root, then recur for its children. In a graph, there might be loops. So we use an extra visited array to make sure that we do not process a vertex again. Let us understand the working ofDepth First Searchwith the help of the followingIllustration:for thesource as 0. Time complexity:O(V + E), where V is the number of vertices and E is the number of edges in the graph.Auxiliary Space:O(V + E), since an extra visited array of size V is required, And stack size for recursive calls to dfsRec function. Please referComplexity Analysis of Depth First Searchfor details. The above implementation takes a source as an input and prints only those vertices that are reachable from the source and would not print all vertices in case of disconnected graph. Let us now talk about the algorithm that prints all vertices without any source and the graph maybe disconnected. The idea is simple, instead of calling DFS for a single vertex, we call the above implemented DFS for all all non-visited vertices one by one. Time complexity:O(V + E). Note that the time complexity is same here because we visit every vertex at most once and every edge is traversed at most once (in directed) and twice in undirected.Auxiliary Space:O(V + E), since an extra visited array of size V is required, And stack size for recursive calls to dfsRec function. Related Articles:"
        ],
        [
         "https://origin.geeksforgeeks.org/introduction-to-stack-data-structure-and-algorithm-tutorials",
         "Stackis a linear data structure that followsLIFO (Last In First Out) Principle, the last element inserted is the first to be popped out. It means both insertion and deletion operations happen at one end only. Here are some real world examples of LIFO Stack follows LIFO (Last In First Out) Principle so the element which is pushed last is popped first. In order to make manipulations in a stack, there are certain operations provided to us. To implement stack, we need to maintain reference to the top item. Adds an item to the stack. If the stack is full, then it is said to be anOverflow condition. Algorithm for Push Operation: Removes an item from the stack. The items are popped in the reversed order in which they are pushed. If the stack is empty, then it is said to be anUnderflow condition. Algorithm for Pop Operation: Returns the top element of the stack. Algorithm for Top Operation: Returns true if the stack is empty, else false. Algorithm for isEmpty Operation: Returns true if the stack is full, else false. Algorithm for isFull Operation: The basic operations that can be performed on a stack include push, pop, and peek. There are two ways to implement a stack – Space Complexity O(1) O(1) top() orpeek() O(1) O(1) O(1) O(1) Next Articles:"
        ],
        [
         "https://www.geeksforgeeks.org/insertion-sort-algorithm/",
         "Insertion sortis a simple sorting algorithm that works by iteratively inserting each element of an unsorted list into its correct position in a sorted portion of the list. It is like sorting playing cards in your hands. You split the cards into two groups: the sorted cards and the unsorted cards. Then, you pick a card from the unsorted group and put it in the right place in the sorted group. arr = {23, 1, 10, 5, 2} Initial: First Pass: Second Pass: Third Pass: Fourth Pass: Final Array: Time Complexity Space Complexity Please referComplexity Analysis of Insertion Sortfor details. Advantages Disadvantages Insertion sort is commonly used in situations where: What are the Boundary Cases of the Insertion Sort algorithm? Insertion sort takes the maximum time to sort if elements are sorted in reverse order. And it takes minimum time (Order of n) when elements are already sorted. What is the Algorithmic Paradigm of the Insertion Sort algorithm? The Insertion Sort algorithm follows an incremental approach. Is Insertion Sort an in-place sorting algorithm? Yes, insertion sort is an in-place sorting algorithm. Is Insertion Sort a stable algorithm? Yes, insertion sort is a stable sorting algorithm. When is the Insertion Sort algorithm used? Insertion sort is used when number of elements is small. It can also be useful when the input array is almost sorted, and only a few elements are misplaced in a complete big array."
        ],
        [
         "https://www.geeksforgeeks.org/binary-search/",
         "Binary SearchAlgorithmis asearching algorithmused in a sorted array byrepeatedly dividing the search interval in half. The idea of binary search is to use the information that the array is sorted and reduce the time complexity to O(log N). Binary Search Algorithm To apply Binary Search algorithm: Below is the step-by-step algorithm for Binary Search: To understand the working of binary search, consider the following illustration: Consider an arrayarr[] = {2, 5, 8, 12, 16, 23, 38, 56, 72, 91}, and thetarget = 23. TheBinary Search Algorithmcan be implemented in the following two ways Given below are the pseudocodes for the approaches. Here we use a while loop to continue the process of comparing the key and splitting the search space in two halves. Time Complexity:O(log N)Auxiliary Space:O(1) Create a recursive function and compare the mid of the search space with the key. And based on the result either return the index where the key is found or call the recursive function for the next search space. Please referTime and Space Complexity Analysis of Binary Searchfor more details. Please referApplications, Advantages and Disadvantages of Binary Searchfor more details. Binary search is an efficient algorithm for finding a target value within a sorted array. It works by repeatedly dividing the search interval in half. Binary Search compares the target value to the middle element of the array. If they are equal, the search is successful. If the target is less than the middle element, the search continues in the lower half of the array. If the target is greater, the search continues in the upper half. This process repeats until the target is found or the search interval is empty. The time complexity of binary search is O(log2n), where n is the number of elements in the array. This is because the size of the search interval is halved in each step. Binary search requires that the array is sorted in ascending or descending order. If the array is not sorted, we cannot use Binary Search to search an element in the array. If the array is not sorted, binary search may return incorrect results. It relies on the sorted nature of the array to make decisions about which half of the array to search. Yes, binary search can be applied to"
        ],
        [
         "https://www.geeksforgeeks.org/binary-search/",
         "in the array. If the array is not sorted, binary search may return incorrect results. It relies on the sorted nature of the array to make decisions about which half of the array to search. Yes, binary search can be applied to non-numeric data as long as there is a defined order for the elements. For example, it can be used to search for strings in alphabetical order. The disadvantage of Binary Search is that the input array needs to be sorted to decide which in which half the target element can lie. Therefore for unsorted arrays, we need to sort the array before applying Binary Search. Binary search should be used when searching for a target value in a sorted array, especially when the size of the array is large. It is particularly efficient for large datasets compared to linear search algorithms. Yes, binary search can be implemented both iteratively and recursively. The recursive implementation often leads to more concise code but may have slightly higher overhead due to recursive stack space or function calls. While binary search is very efficient for searching in sorted arrays, there may be specific cases where other search algorithms are more appropriate, such as when dealing with small datasets or when the array is frequently modified. Related Articles:"
        ],
        [
         "https://www.geeksforgeeks.org/depth-first-traversal-dfs-on-a-2d-array/",
         "Given a2D arraygrid[][]of dimensionN * M, the task is to perform theDepth – First Searchtraversal on the given2D array. Examples: Input:grid[][] = {{-1, 2, 3}, {0, 9, 8}, {1, 0, 1}}Output:-1 2 3 8 1 0 9 0 1Explanation:The sequence of traversal of matrix elements using DFS is-1, 2, 3, 8, 1, 0, 9, 0, 1. Input:grid[][] = {{1, 2, 3}, {5, 6, 7}, {9, 10, 11}}Output:1 2 3 7 11 10 6 5 9 Approach:The idea is to useStack Data Structureto performDFS Traversalon the2D array. Follow the steps below to solve the given problem: Note:Direction vectors are used to traverse the adjacent cells of a given cell in a given order. For example,(x, y)is a cell whose adjacent cells(x – 1, y), (x, y + 1), (x + 1, y), (x, y – 1)need to be traversed, then it can be done using the direction vectors(-1, 0), (0, 1), (1, 0), (0, -1)in the up, left, down and right order. Below is the implementation of the above approach: Time Complexity:O(N * M)Auxiliary Space:O(N * M )"
        ],
        [
         "https://www.geeksforgeeks.org/introduction-to-hashing-2/",
         "Hashingrefers to the process of generating a small sized output (that can be used as index in a table) from an input of typically large and variable size. Hashing uses mathematical formulas known as hash functions to do the transformation. This technique determines an index or location for the storage of an item in a data structure called Hash Table. Introduction to Hashing There are majorly three components of hashing: Suppose we have a set of strings {“ab”, “cd”, “efg”} and we would like to store it in a table. The above technique enables us to calculate the location of a given string by using a simple hash function and rapidly find the value that is stored in that location. Therefore the idea of hashing seems like a great way to store (key, value) pairs of the data in a table. Ahash functioncreates a mapping from an input key to an index in hash table, this is done through the use of mathematical formulas known as hash functions. For example: Consider phone numbers as keys and a hash table of size 100. A simple example hash function can be to consider the last two digits of phone numbers so that we have valid array indexes as output. A good hash function should have the following properties: When two or more keys have the same hash value, acollisionhappens. If we consider the above example, the hash function we used is the sum of the letters, but if we examined the hash function closely then the problem can be easily visualised that for different strings same hash value is being generated by the hash function. For example: {“ab”, “ba”} both have the same hash value, and string {“cd”,”be”} also generate the same hash value, etc. This is known ascollisionand it creates problem in searching, insertion, deletion, and updating of value. Collision in Hashing The probability of a hash collision depends on the size of the algorithm, the distribution of hash values and the efficiency of Hash function. To handle this collision, we useCollision Resolution Techniques. Theload factorof the hash table can be defined as the number of items the hash table contains divided by the size of the hash table. Load factor is the decisive parameter that is used when we want to rehash the previous hash function or want to add more elements to the existing hash table. It helps us in determining the"
        ],
        [
         "https://www.geeksforgeeks.org/introduction-to-hashing-2/",
         "hash table contains divided by the size of the hash table. Load factor is the decisive parameter that is used when we want to rehash the previous hash function or want to add more elements to the existing hash table. It helps us in determining the efficiency of the hash function i.e. it tells whether the hash function which we are using is distributing the keys uniformly or not in the hash table. Load Factor = Total elements in hash table/ Size of hash table As the name suggests,rehashingmeans hashing again. Basically, when the load factor increases to more than its predefined value (the default value of the load factor is 0.75), the complexity increases. So to overcome this, the size of the array is increased (doubled) and all the values are hashed again and stored in the new double-sized array to maintain a low load factor and low complexity. Hash function is a function that takes an input and return a fixed-size string of bytes. The hash function receives the input key and returns the index of an element in an array called a hash table. The index is known as the hash index. Hash collisions occur when two different inputs passed to the hash function produce the same hash value. The lesser the number of hash collisions, the better the hash function is. Hash tables are data structures that use hash functions to map keys to values, allowing for efficient retrieval of data when needed. Hash table maps keys to values using a special function called a hash function. Hash stores the data in an associative manner in an array where each data value has its own unique index. Hashing is used in databases for indexing, disk-based data structures and  data compression algorithms. Hashing is also used to store passwords securely by applying a hash function to the password and storing the hashed result, rather than the plain text password."
        ],
        [
         "https://www.geeksforgeeks.org/merge-sort/",
         "Merge sortis a sorting algorithm that follows thedivide-and-conquerapproach. It works by recursively dividing the input array into smaller subarrays and sorting those subarrays then merging them back together to obtain the sorted array. In simple terms, we can say that the process ofmerge sortis to divide the array into two halves, sort each half, and then merge the sorted halves back together. This process is repeated until the entire array is sorted. Merge Sort Algorithm Table of Content Merge sort is a popular sorting algorithm known for its efficiency and stability. It follows thedivide-and-conquerapproach to sort a given array of elements.Here’s a step-by-step explanation of how merge sort works: Let’s sort the array or list[38, 27, 43, 10]using Merge Sort Let’s look at the working of above example: Divide: Conquer: Merge: Therefore, the sorted list is[10, 27, 38, 43]. The recurrence relation of merge sort is:[Tex]T(n) = \\begin{cases} \\Theta(1) & \\text{if } n = 1 \\\\ 2T\\left(\\frac{n}{2}\\right) + \\Theta(n) & \\text{if } n > 1 \\end{cases}[/Tex] Advantages Disadvantages Quick Links:"
        ],
        [
         "https://www.geeksforgeeks.org/level-order-tree-traversal/",
         "Given a Binary Tree, the task is to find itsLevel Order Traversal. Level Order Traversal technique is a method to traverse a Tree such that all nodes present in the same level are traversed completely before traversing the next level. Example: Input: Output:[[5], [12, 13], [7, 14, 2], [17, 23, 27, 3, 8, 11]]Explanation: Level 0:Start with the root →[5]Level 1:Visit its children →[12, 13]Level 2:Visit children of 3 and 2 →[7, 14, 2]Level 3:Visit children of 4 and 5 →[17, 23, 27, 3, 8, 11] Table of Content Level Order Traversal visits all nodes at a lower level before moving to a higher level. It can be implemented using: The idea is to traverse the treerecursively, passing thecurrent nodeand itslevel, starting with the root at level 0. For each visited node, its value is added to theresultarray, by considering the value of current level as anindexin theresultarray. Looking at the examples, it’s clear that tree nodes need to be traversedlevel by levelfromtop to bottom. Since the tree structure allows us to access nodes starting from the root and moving downward, this process naturally follows aFirst-In-First-Out(FIFO) order. So we can usequeue data structureto perform level order traversal."
        ],
        [
         "https://www.geeksforgeeks.org/detect-cycle-undirected-graph/",
         "Given anundirected connected graph, the task is to check if there is acyclein the given graph. Examples: Input:V = 4, edges[][]= [[0, 1], [0, 2], [1, 2], [2, 3]] Undirected Graph with 4 vertices and 4 edges Output:trueExplanation:The diagram clearly shows a cycle 0 → 2 → 1 → 0 Input:V = 4, edges[][] = [[0, 1], [1, 2], [2, 3]] Undirected graph with 4 vertices and 3 edges Output:falseExplanation:There is no cycle in the given graph. Table of Content BFS is useful for cycle detection in anundirected graphbecause it explores level by level, ensuring that each node is visited in the shortest possible way. It efficiently detects cycles using avisited arrayand aqueuewhile avoiding unnecessary recursive calls, making it more memory-efficient than DFS for large graphs. DuringBFS traversal, we maintain avisited arrayand aqueue. We process nodes by popping them one by one from the queue, marking them asvisited, and pushing theirunvisitedadjacent nodes into the queue. A cycle is detected if we encounter a node that has already beenvisited before being dequeued, meaning it has been reached through a different path. This approach ensures that we efficiently detect cycles while maintaining optimal performance. Please referDetect cycle in an undirected graph using BFSfor complete implementation. Depth First Traversalcan be used to detect a cycle in an undirected Graph. If we encounter a visited vertex again, then we say, there is a cycle. But there is a catch in this algorithm, we need to make sure that we do not consider every edge as a cycle because in an undirected graph, an edge from 1 to 2 also means an edge from 2 to 1. To handle this, we keep track of the parent node (the node from which we came to the current node) in the DFS traversal and ignore the parent node from the visited condition. Follow the below steps to implement the above approach: Illustration: Below is the graph showing how to detect cycle in a graph using DFS: Below is the implementation of the above approach: Time"
        ],
        [
         "https://www.geeksforgeeks.org/detect-cycle-undirected-graph/",
         "and ignore the parent node from the visited condition. Follow the below steps to implement the above approach: Illustration: Below is the graph showing how to detect cycle in a graph using DFS: Below is the implementation of the above approach: Time Complexity:O(V+E) because DFS visits each vertex once (O(V)) and traverses all edges once (O(E))Auxiliary space:O(V) for the visited array and O(V) for the recursive call stack. We do not count the adjacency list in auxiliary space as it is necessary for representing the input graph. Related Articles:"
        ],
        [
         "https://www.geeksforgeeks.org/introduction-to-recursion-2/",
         "The process in which a function calls itself directly or indirectly is called recursion and the corresponding function is called a recursive function. Need of Recursion Step1 – Define a base case: Identify the simplest (or base) case for which the solution is known or trivial. This is the stopping condition for the recursion, as it prevents the function from infinitely calling itself.Step2 – Define a recursive case: Define the problem in terms of smaller subproblems. Break the problem down into smaller versions of itself, and call the function recursively to solve each subproblem.Step3 – Ensure the recursion terminates: Make sure that the recursive function eventually reaches the base case, and does not enter an infinite loop.Step4 – Combine the solutions: Combine the solutions of the subproblems to solve the original problem. Example 1 : Sum of Natural Numbers Let us consider a problem to find the sum of natural numbers, there are several ways of doing that but the simplest approach is simply to add the numbers starting from 0 to n. So the function simply looks like this, approach(1) – Simply adding one by one f(n) = 0 + 1 + 2 + 3 +……..+ n but there is another mathematical approach of representing this, approach(2) – Recursive adding f(n) = 0                n=0 f(n) = n + f(n-1)    n>=1 What is the base condition in recursion?A recursive program stops at a base condition. There can be more than one base conditions in a recursion. In the above program, the base condition is when n = 1.\\ How a particular problem is solved using recursion?The idea is to represent a problem in terms of one or more smaller problems, and add one or more base conditions that stop the recursion. Example 2 : Factorial of a NumberFactorialof a number n (where n >= 0) is defined as multiplication of numbers from 1 to n. To recursive compute, we compute factorial n if we know the factorial of (n-1). The base case for factorial would be n = 0. We return 1 when n = 0. Illustration of the above code: When does Stack Overflow error occur in recursion?If the base case is not reached or not defined, then the stack overflow problem may arise. Let us take an example to understand"
        ],
        [
         "https://www.geeksforgeeks.org/introduction-to-recursion-2/",
         "We return 1 when n = 0. Illustration of the above code: When does Stack Overflow error occur in recursion?If the base case is not reached or not defined, then the stack overflow problem may arise. Let us take an example to understand this. If fact(10) is called, it will call fact(9), fact(8), fact(7), and so on but the number will never reach 100. So, the base case is not reached. If the memory is exhausted by these functions on the stack, it will cause a stack overflow error. What is the difference between direct and indirect recursion?A function fun is called direct recursive if it calls the same function fun. A function fun is called indirect recursive if it calls another function say fun_new and fun_new calls fun directly or indirectly. The difference between direct and indirect recursion has been illustrated in Table 1. What is the difference between tailed and non-tailed recursion?A recursive function is tail recursive when a recursive call is the last thing executed by the function. Please refertail recursion articlefor details. How memory is allocated to different function calls in recursion?Recursion uses more memory to store data of every recursive call in an internal function call stack. When any function is called from main(), the memory is allocated to it on the stack. A recursive function calls itself, the memory for a called function is allocated on top of memory allocated to the calling function and a different copy of local variables is created for each function call. When the base case is reached, the function returns its value to the function by whom it is called and memory is de-allocated and the process continues.Let us take the example of how recursion works by taking a simple function. WhenprintFun(3)is called from main(), memory is allocated toprintFun(3)and a local variable test is initialized to 3 and statement 1 to 4 are pushed on the stack as shown in below diagram. It first prints ‘3’. In statement 2,printFun(2)is called and memory is allocated toprintFun(2)and a local variable test is initialized to 2 and statement 1 to 4 are pushed into the stack."
        ],
        [
         "https://www.geeksforgeeks.org/introduction-to-recursion-2/",
         "It first prints ‘3’. In statement 2,printFun(2)is called and memory is allocated toprintFun(2)and a local variable test is initialized to 2 and statement 1 to 4 are pushed into the stack. Similarly,printFun(2)callsprintFun(1)andprintFun(1)callsprintFun(0).printFun(0)goes to if statement and it return toprintFun(1). The remaining statements ofprintFun(1)are executed and it returns toprintFun(2)and so on. In the output, values from 3 to 1 are printed and then 1 to 3 are printed. The memory stack has been shown in below diagram. Recursion VS Iteration Example 4 : Fibonacci with RecursionWrite a program and recurrence relation to find theFibonacciseries of n where n >= 0.Mathematical Equation: Recurrence Relation: Recursion Tree for the above Code: Recursion is a powerful technique that has many applications in computer science and programming. Here are some of the common applications of recursion: These are just a few examples of the many applications of recursion in computer science and programming. Recursion is a versatile and powerful tool that can be used to solve many different types of problems. What are the disadvantages of recursive programming over iterative programming?Note every recursive program can be written iteratively and vice versa is also true. What are the advantages of recursive programming over iterative programming? Summary of Recursion: Output based practice problems for beginners:Practice Questions for Recursion | Set 1Practice Questions for Recursion | Set 2Practice Questions for Recursion | Set 3Practice Questions for Recursion | Set 4Practice Questions for Recursion | Set 5Practice Questions for Recursion | Set 6Practice Questions for Recursion | Set 7Quiz on RecursionCoding Practice on Recursion:All Articles on RecursionRecursive Practice Problems with Solutions"
        ],
        [
         "https://www.geeksforgeeks.org/detect-cycle-in-a-graph/",
         "Given the root of aDirected graph, The task is to check whether the graph contains a cycle or not. Examples: Input:V = 4, E = 6 Output:YesExplanation:The diagram clearly shows a cycle 0 -> 2 -> 0 Input:V = 4, E = 4 Output:NoExplanation:The diagram clearly shows no cycle. The problem can be solved based on the following idea: To find cycle in a directed graph we can use theDepth First Traversal(DFS) technique. It is based on the idea that there is a cycle in a graphonly if there is a back edge[i.e., a node points to one of its ancestors in a DFS tree] present in the graph. To detect a back edge, we need to keep track of the visited nodes that are in the current recursion stack [i.e., the current path that we are visiting]. Please note that all ancestors of a node are present in recursion call stack during DFS. So if there is an edge to an ancestor in DFS, then this is a back edge. Note:If the graph is disconnected then get the DFS forest and check for a cycle in individual graphs by checking back edges. To keep track of vertices that are in recursion call stack, we use a boolean array where we use vertex number as an index. Whenever we begin recursive call for a vertex, we mark its entry as true and whenever the recursion call is about to end, we mark false. Illustration: Below is the graph showing how to detect cycle in a graph using DFS: Below is the implementation of the above approach: Time Complexity:O(V + E), the Time Complexity of this method is the same as the time complexity ofDFS traversalwhich is O(V+E).Auxiliary Space:O(V). To store the visited and recursion stack O(V) space is needed. In the below article, another O(V + E) method is discussed :Detect Cycle in a direct graph using colors Here we are usingKahn’s algorithmfor topological sorting, if it successfully removes all vertices from the graph, it’s a DAG with no cycles. If there are remaining vertices with in-degrees greater than0, it indicates the presence of at least one cycle in the graph. Hence, if"
        ],
        [
         "https://www.geeksforgeeks.org/detect-cycle-in-a-graph/",
         "if it successfully removes all vertices from the graph, it’s a DAG with no cycles. If there are remaining vertices with in-degrees greater than0, it indicates the presence of at least one cycle in the graph. Hence, if we are not able to get all the vertices in topological sorting then there must be at least one cycle. Below is the implementation of the above approach: Time Complexity:O(V + E), the time complexity of this method is the same as the time complexity of BFS traversal which is O(V+E).Auxiliary Space:O(V)"
        ],
        [
         "https://www.geeksforgeeks.org/quick-sort-algorithm/",
         "QuickSortis a sorting algorithm based on theDivide and Conquerthat picks an element as a pivot and partitions the given array around the picked pivot by placing the pivot in its correct position in the sorted array. Table of Content QuickSort works on the principle ofdivide and conquer, breaking down the problem into smaller sub-problems. There are mainly three steps in the algorithm: Here’s a basic overview of how the QuickSort algorithm works. There are many different choices for picking pivots. The key process inquickSortis apartition().There are three common algorithms to partition. All these algorithms have O(n) time complexity. The logic is simple, we start from the leftmost element and keep track of the index of smaller (or equal) elements asi. While traversing, if we find a smaller element, we swap the current element witharr[i]. Otherwise, we ignore the current element. Let us understand the working of partition algorithm with the help of the following example: In the previous step, we looked at how thepartitioningprocess rearranges the array based on the chosenpivot. Next, we apply the same method recursively to the smaller sub-arrays on theleftandrightof the pivot. Each time, we select new pivots and partition the arrays again. This process continues until only one element is left, which is always sorted. Once every element is in its correct position, the entire array is sorted. Below image illustrates, how the recursive method calls for the smaller sub-arrays on theleftandrightof thepivot: Quick Sortis a crucial algorithm in the industry, but there are other sorting algorithms that may be more optimal in different cases. Time Complexity: Auxiliary Space:O(n),due torecursive call stack Please referTime and Space Complexity Analysis of Quick Sortfor more details. Please referApplication of Quicksortfor more details."
        ],
        [
         "https://www.geeksforgeeks.org/implement-a-stack-using-singly-linked-list/",
         "To implement a stack using a singly linked list, we need to ensure that all operations follow theLIFO(Last In, First Out) principle. This means that the most recently added element is always the first one to be removed. In this approach, we use a singly linked list, where each node contains data and a reference (or link) to the next node. To manage the stack, we maintain atoppointer that always points to the most recent (topmost) node in the stack. The key stack operations—push, pop, and peek can be performed using thistoppointer. In the stack Implementation, a stack contains a top pointer. which is the “head” of the stack where pushing and popping items happens at the head of the list. The first node has a null in the link field and second node-link has the first node address in the link field and so on and the last node address is in the “top” pointer. The main advantage of using a linked list over arrays is that it is possible to implement a stack that can shrink or grow as much as needed. Using an array will put a restriction on the maximum capacity of the array which can lead to stack overflow. Here each new node will be dynamically allocated. so overflow is not possible. Time Complexity:O(1), for all push(), pop(), and peek(), as we are not performing any kind of traversal over the list.Auxiliary Space:O(n), where n is the size of the stack Stacks are used in various real-world scenarios where a last-in, first-out (LIFO) data structure is required. Here are some examples of real-time applications of stacks:"
        ],
        [
         "https://www.geeksforgeeks.org/breadth-first-traversal-bfs-on-a-2d-array/",
         "Given a matrix of sizeM x Nconsisting of integers, the task is to print the matrix elements usingBreadth-First Searchtraversal. Examples: Input:grid[][] = {{1, 2, 3, 4}, {5, 6, 7, 8}, {9, 10, 11, 12}, {13, 14, 15, 16}}Output:1 2 5 3 6 9 4 7 10 13 8 11 14 12 15 16 Input:grid[][] = {{-1, 0, 0, 1}, {-1, -1, -2, -1}, {-1, -1, -1, -1}, {0, 0, 0, 0}}Output:-1 0 -1 0 -1 -1 1 -2 -1 0 -1 -1 0 -1 0 0 Approach:Follow the steps below to solve the problem: Note:Direction vectors are used to traverse the adjacent cells of a given cell in a given order. For example(x, y)is a cell whose adjacent cells(x – 1, y), (x, y + 1), (x + 1, y), (x, y – 1)need to be traversed, then it can be done using the direction vectors(-1, 0), (0, 1), (1, 0), (0, -1)in the up, left, down and right order. Below is the implementation of the above approach: Time Complexity:O(N * M)Auxiliary Space:O(N * M) R"
        ],
        [
         "https://www.geeksforgeeks.org/introduction-to-arrays-data-structure-and-algorithm-tutorials/",
         "Arrayis a collection of items of the same variable type that are stored at contiguous memory locations. It is one of the most popular and simple data structures used in programming. In an array, all the elements are stored in contiguous memory locations. So, if we initialize an array, the elements will be allocated sequentially in memory. This allows for efficient access and manipulation of elements. Arrays can be declared in various ways in different languages. For better illustration, below are some language-specific array declarations: Arrays can be initialized in different ways in different languages. Below are some language-specific array initializations: Assume there is a class of five students and if we have to keep records of their marks in examination then, we can do this by declaring five variables individual and keeping track of records but what if the number of students becomes very large, it would be challenging to manipulate and maintain the data. What it means is that, we can use normal variables (v1, v2, v3, ..) when we have a small number of objects. But if we want to store a large number of instances, it becomes difficult to manage them with normal variables. The idea of an array is to represent many instances in one variable. Arrays can be classified in two ways: 1. Fixed Sized Arrays We cannot alter or update the size of this array. Here only a fixed size (i,e. the size that is mentioned in square brackets[]) of memory will be allocated for storage. In case, we don’t know the size of the array then if we declare a larger size and store a lesser number of elements will result in a wastage of memory or we declare a lesser size than the number of elements then we won’t get enough memory to store all the elements. In such cases, static memory allocation is not preferred. 2. Dynamic Sized Arrays The size of the array changes as per user requirements during execution of code so the coders do not have to worry about sizes. They can add and removed the elements as per the need. The memory is mostly dynamically allocated and de-allocated in these arrays. 1. One-dimensional Array(1-D Array):You can imagine a 1d array as a row, where elements are stored one after another. 2. Multi-dimensional Array:A multi-dimensional array is an"
        ],
        [
         "https://www.geeksforgeeks.org/introduction-to-arrays-data-structure-and-algorithm-tutorials/",
         "these arrays. 1. One-dimensional Array(1-D Array):You can imagine a 1d array as a row, where elements are stored one after another. 2. Multi-dimensional Array:A multi-dimensional array is an array with more than one dimension. We can use multidimensional array to store complex data in the form of tables, etc. We can have 2-D arrays, 3-D arrays, 4-D arrays and so on. To read more about Matrix Refer,Matrix Data Structure To read more about Multidimensional Array Refer,Multidimensional Arrays in C – 2D and 3D Arrays Array traversal refers to the process of accessing and processing each element of an array sequentially. This is one of the most fundamental operations in programming, as arrays are widely used data structures for storing multiple elements in a single variable. How Array Traversal Works? When an array is created, it occupies a contiguous block of memory where elements are stored in an indexed manner. Each element can be accessed using its index, which starts from0in most programming languages. For example, consider an array containing five integers: arr = [10, 20, 30, 40, 50] Here: Array traversal means accessing each element from start to end (or sometimes in reverse order), usually by using a loop. Types of Array Traversal Array traversal can be done in multiple ways based on the requirement: To read more about Array Traversal Refer,Traversal in Array Insertion in an array refers to the process of adding a new element at a specific position while maintaining the order of the existing elements. Since arrays have a fixed size in static implementations, inserting an element often requires shifting existing elements to make space. How Insertion Works in an Array? Arrays are stored in contiguous memory locations, meaning elements are arranged in a sequential block. When inserting a new element, the following happens: For example, if we have the array: arr = [10, 20, 30, 40, 50] and we want to insert25at index2, the new array will be: arr = [10, 20, 25, 30, 40, 50] Here, elements30,40, and50have shifted right to make space. Types of Insertion 1. Insertion at the Beginning (Index 0) 2. Insertion at a"
        ],
        [
         "https://www.geeksforgeeks.org/introduction-to-arrays-data-structure-and-algorithm-tutorials/",
         "20, 25, 30, 40, 50] Here, elements30,40, and50have shifted right to make space. Types of Insertion 1. Insertion at the Beginning (Index 0) 2. Insertion at a Specific Index 3. Insertion at the End To read more about Insertion in Array Refer,Inserting Elements in an Array – Array Operations Deletion in an array refers to the process of removing an element from a specific position while maintaining the order of the remaining elements. Unlike linked lists, where deletion is efficient, removing an element from an array requires shifting elements to fill the gap. How Deletion Works in an Array? Since arrays have contiguous memory allocation, deleting an element does not reduce the allocated memory size. Instead, it involves: For example, consider the array: arr = [10, 20, 30, 40, 50] If we delete the element30(index2), the new array will be: arr = [10, 20, 40, 50] Here, elements40and50shifted left to fill the gap. Types of Deletion 1. Deletion at the Beginning (Index 0) 2. Deletion at a Specific Index 3. Deletion at the End To read more about Deletion in Array Refer,Deleting Elements in an Array – Array Operations 4. Searching in Array Searching in an array refers to the process of finding a specific element in a given list of elements. The goal is to determine whether the element exists in the array and, if so, find its index (position). Searching is a fundamental operation in programming, as it is used in data retrieval, filtering, and processing. There are two main types of searching techniques in an array: 1. Linear Search (Sequential Search) Consider an array: arr = [10, 20, 30, 40, 50] If we search for30, the algorithm will: 2. Binary Search (Efficient Search for Sorted Arrays) Consider a sorted array: arr = [10, 20, 30, 40, 50] If we search for30: To read more about Searching in Array Refer,Searching Elements in Array Next Read:Applications, Advantages and Disadvantages of Array An array is a collection of items of the same data type stored at contiguous memory locations. Ex. int arr[5] = {1,2,3,4,5};"
        ],
        [
         "https://www.geeksforgeeks.org/introduction-to-arrays-data-structure-and-algorithm-tutorials/",
         "Advantages and Disadvantages of Array An array is a collection of items of the same data type stored at contiguous memory locations. Ex. int arr[5] = {1,2,3,4,5}; Arrays store elements of the same type, they are classified as homogeneous data structures. They can store numbers, strings, characters, boolean values (true and false), objects, and so on. An array is alinear data structurethat stores similar elements in contiguous memory locations. There are majorly two types of arrays: An array is a collection of items of the same data type stored at contiguous memory locations or says the elements are stored one after another in memory. An array uses an index system starting at0and going to(n-1), wherenis its size. The structure can contain variables of different types but an array only contains variables of the same type. An array is a collection of items of the same data type. That means, in an integer array only integer values can be stored, while in a float array only floating values and character array can have only characters. Thus, no array can have values of two data types. There are multiple advantages of array data structure and some of them are: An array is used when several variables of the same type need to be used, and it can be defined as a sequence of objects of the same type. A multi-dimensional array can be termed as an array of arrays that stores homogeneous data in tabular form. Data inMultidimensional Arraysare stored in row-major order."
        ],
        [
         "https://www.geeksforgeeks.org/bubble-sort-algorithm/",
         "Bubble Sortis the simplest sorting algorithm that works by repeatedly swapping the adjacent elements if they are in the wrong order. This algorithm is not suitable for large data sets as its average and worst-case time complexity are quite high. Below is the implementation of the bubble sort. It can be optimized by stopping the algorithm if the inner loop didn’t cause any swap. Time Complexity:O(n2)Auxiliary Space:O(1)Please referComplexity Analysis of Bubble Sortfor details. Bubble sort takes minimum time (Order of n) when elements are already sorted. Hence it is best to check if the array is already sorted or not beforehand, to avoid O(n2) time complexity. Yes, Bubble sort performs the swapping of adjacent pairs without the use of any major data structure. Hence Bubble sort algorithm is an in-place algorithm. Yes, the bubble sort algorithm is stable. Related Articles"
        ],
        [
         "https://www.geeksforgeeks.org/bucket-sort-2/",
         "Bucket sortis a sorting technique that involves dividing elements into various groups, or buckets. These buckets are formed by uniformly distributing the elements. Once the elements are divided into buckets, they can be sorted using any other sorting algorithm. Finally, the sorted elements are gathered together in an ordered fashion. Createnempty buckets (Or lists) and do the following for every array element arr[i]. To apply bucket sort on the input array[0.78, 0.17, 0.39, 0.26, 0.72, 0.94, 0.21, 0.12, 0.23, 0.68], we follow these steps: Step 1:Create an array of size 10, where each slot represents a bucket. Creating Buckets for sorting Step 2:Insert elements into the buckets from the input array based on their range. Inserting elements into the buckets: Inserting Array elements into respective buckets Step 3:Sort the elements within each bucket. In this example, we use quicksort (or any stable sorting algorithm) to sort the elements within each bucket. Sorting the elements within each bucket: Sorting individual bucket Step 4:Gather the elements from each bucket and put them back into the original array. Gathering elements from each bucket: Inserting buckets in ascending order into the resultant array Step 5:The original array now contains the sorted elements. The final sorted array using bucket sort for the given input is [0.12, 0.17, 0.21, 0.23, 0.26, 0.39, 0.68, 0.72, 0.78, 0.94]. Return the Sorted Array Below is the implementation for the Bucket Sort: Worst Case Time Complexity:O(n2) The worst case happens when one bucket gets all the elements. In this case, we will be running insertion sort on all items which will make the time complexity as O(n2). We can reduce the worst case time complexity to O(n Log n) by using a O(n Log n) algorithm like Merge Sort or Heap Sort to sort the individual buckets, but that will improve the algorithm time for cases when buckets have small number of items as insertion sort works better for small arrays. Best Case Time Complexity :O(n + k) The best case happens when every bucket gets equal number of elements. In this case every call to insertion sort will take constant time as the"
        ],
        [
         "https://www.geeksforgeeks.org/bucket-sort-2/",
         "as insertion sort works better for small arrays. Best Case Time Complexity :O(n + k) The best case happens when every bucket gets equal number of elements. In this case every call to insertion sort will take constant time as the number of items in every bucket would be constant (Assuming that k is linearly proportional to n). Auxiliary Space:O(n+k)"
        ],
        [
         "https://www.geeksforgeeks.org/adjacency-list-meaning-definition-in-dsa/",
         "Anadjacency listis a data structure used to represent a graph where each node in the graph stores a list of its neighboring vertices. Table of Content Consider an Directed and Unweighted graphGwith 3verticesand3 edges. For the graph G, the adjacency list would look like: Consider an Undirected and Unweighted graphGwith 3verticesand3 edges. For the graph G, the adjacency list would look like: Consider an Directed and Weighted graphGwith 3verticesand3 edges. For the graph G, the adjacency list would look like: Consider an Undirected and Weighted graphGwith 3verticesand3 edges. For the graph G, the adjacency list would look like:"
        ]
       ],
       "datasetInfos": [],
       "dbfsResultPath": null,
       "isJsonSchema": true,
       "metadata": {},
       "overflow": false,
       "plotOptions": {
        "customPlotOptions": {},
        "displayType": "table",
        "pivotAggregation": null,
        "pivotColumns": null,
        "xColumns": null,
        "yColumns": null
       },
       "removedWidgets": [],
       "schema": [
        {
         "metadata": "{}",
         "name": "url",
         "type": "\"string\""
        },
        {
         "metadata": "{}",
         "name": "content",
         "type": "\"string\""
        }
       ],
       "type": "table"
      }
     },
     "output_type": "display_data"
    }
   ],
   "source": [
    "##-- Create user-defined function (UDF) to parse documents w/ Spark \n",
    "@pandas_udf(\"array<string>\")\n",
    "def parse_and_split(docs: pd.Series) -> pd.Series:\n",
    "    return docs.apply(split_html_on_h2)\n",
    "    \n",
    "(spark.table(bronze_data_table_path)\n",
    "      .filter('text is not null')\n",
    "      .withColumn(embedding_text_data, F.explode(parse_and_split('text')))\n",
    "      .drop(\"text\", \"sitemap\")\n",
    "      .write\n",
    "      .option(\"overwriteSchema\", \"true\")\n",
    "      .option(\"delta.enableChangeDataFeed\", \"true\")\n",
    "      .mode('overwrite')\n",
    "      .saveAsTable(silver_data_table_path)\n",
    "      )\n",
    "\n",
    "display(spark.table(silver_data_table_path))"
   ]
  },
  {
   "cell_type": "code",
   "execution_count": 0,
   "metadata": {
    "application/vnd.databricks.v1+cell": {
     "cellMetadata": {
      "byteLimit": 2048000,
      "rowLimit": 10000
     },
     "inputWidgets": {},
     "nuid": "74881c2c-1264-4b40-8d01-30e9ef3f689e",
     "showTitle": false,
     "tableResultSettingsMap": {},
     "title": ""
    }
   },
   "outputs": [],
   "source": [
    "for ep in w.vector_search_endpoints.list_endpoints():\n",
    "  print(ep)"
   ]
  },
  {
   "cell_type": "code",
   "execution_count": 0,
   "metadata": {
    "application/vnd.databricks.v1+cell": {
     "cellMetadata": {
      "byteLimit": 2048000,
      "rowLimit": 10000
     },
     "inputWidgets": {},
     "nuid": "c98f0f2e-6c4f-4770-9838-d619af62d8ad",
     "showTitle": false,
     "tableResultSettingsMap": {},
     "title": ""
    }
   },
   "outputs": [
    {
     "name": "stdout",
     "output_type": "stream",
     "text": [
      "Creating a vector search endpoint. This may take up to 60 minutes...\n"
     ]
    }
   ],
   "source": [
    "from databricks.sdk.service.vectorsearch import EndpointType, PipelineType\n",
    "from datetime import timedelta\n",
    "\n",
    "endpoint_names = [ep.name for ep in w.vector_search_endpoints.list_endpoints()]\n",
    "if endpoint_model_name not in endpoint_names:\n",
    "    ##-- Create Vector Search Endpoint\n",
    "    print(\"Creating a vector search endpoint. This may take up to 60 minutes...\")\n",
    "\n",
    "    w.vector_search_endpoints.create_endpoint_and_wait(\n",
    "        name=endpoint_model_name,\n",
    "        endpoint_type=EndpointType.STANDARD,\n",
    "        timeout=timedelta(minutes=60)\n",
    "    )\n",
    "else:\n",
    "    ##-- If endpoint already exists, skip\n",
    "    print(f\"Vector Search Endpoint \\\"{endpoint_model_name}\\\" already exists. skipping...\")"
   ]
  },
  {
   "cell_type": "code",
   "execution_count": 0,
   "metadata": {
    "application/vnd.databricks.v1+cell": {
     "cellMetadata": {
      "byteLimit": 2048000,
      "rowLimit": 10000
     },
     "inputWidgets": {},
     "nuid": "50c541af-c57a-450f-8baa-d623d2f6d32d",
     "showTitle": false,
     "tableResultSettingsMap": {},
     "title": ""
    }
   },
   "outputs": [
    {
     "name": "stdout",
     "output_type": "stream",
     "text": [
      "Waiting for index to become ready...\n",
      "Waiting for index to become ready...\n",
      "Waiting for index to become ready...\n",
      "Waiting for index to become ready...\n",
      "Waiting for index to become ready...\n",
      "Waiting for index to become ready...\n",
      "Waiting for index to become ready...\n",
      "Waiting for index to become ready...\n",
      "Waiting for index to become ready...\n",
      "Waiting for index to become ready...\n",
      "Waiting for index to become ready...\n",
      "Index dsa_quiz_generator.tomanm_docs_rag_demo.db_v3_docs_silver_data_tomanm_index created.\n"
     ]
    }
   ],
   "source": [
    "from databricks.sdk.service.vectorsearch import DeltaSyncVectorIndexSpecRequest, PipelineType, VectorIndexType, EmbeddingConfig\n",
    "from dataclasses import dataclass\n",
    "import time\n",
    "\n",
    "@dataclass\n",
    "class EmbeddingSourceColumn:\n",
    "  \"\"\"EmbeddingSourceColumn class to fix a bug in databricks-sdk v0.20.0\"\"\"\n",
    "  embedding_model_endpoint_name: str = None\n",
    "  name: str = None\n",
    "\n",
    "  def as_dict(self) -> dict:\n",
    "    body = {\n",
    "      \"embedding_model_endpoint_name\":self.embedding_model_endpoint_name,\n",
    "      \"name\":self.name\n",
    "    }\n",
    "    return body\n",
    "\n",
    "def wait_until_index_ready(index, max_attempts=20, wait_seconds=20):\n",
    "  for _ in range(max_attempts):\n",
    "    status = w.vector_search_indexes.get_index(index_name=index).status\n",
    "    success_message = \"Index creation succeeded\"\n",
    "    if status.ready and status.message.startswith(success_message): break\n",
    "    print(\"Waiting for index to become ready...\")\n",
    "    time.sleep(wait_seconds)\n",
    "\n",
    "\n",
    "indexes = (i.name for i in w.vector_search_indexes.list_indexes(endpoint_model_name))\n",
    "if vs_index_table_path not in indexes:\n",
    "  w.vector_search_indexes.create_index(\n",
    "    name=vs_index_table_path,\n",
    "    endpoint_name=endpoint_model_name,\n",
    "    index_type=VectorIndexType.DELTA_SYNC,\n",
    "    primary_key=\"url\",\n",
    "    delta_sync_index_spec=DeltaSyncVectorIndexSpecRequest(\n",
    "      source_table=silver_data_table_path,\n",
    "      pipeline_type=PipelineType.TRIGGERED,\n",
    "      embedding_source_columns=[EmbeddingSourceColumn(\n",
    "        name=embedding_text_data, \n",
    "        embedding_model_endpoint_name=embedding_model_endpoint\n",
    "      )]\n",
    "    )\n",
    "  )\n",
    "  wait_until_index_ready(vs_index_table_path)\n",
    "  print(f\"Index {vs_index_table_path} created.\")\n",
    "\n",
    "else:\n",
    "  print(\"Index already exists. Syncing index instead.\")\n",
    "  wait_until_index_ready(vs_index_table_path) ##-- wait in case previous sync isn't yet complete\n",
    "  w.vector_search_indexes.sync_index(index_name=vs_index_table_path)\n",
    "  wait_until_index_ready(vs_index_table_path)\n",
    "  print(\"Sync complete.\")"
   ]
  },
  {
   "cell_type": "code",
   "execution_count": 0,
   "metadata": {
    "application/vnd.databricks.v1+cell": {
     "cellMetadata": {
      "byteLimit": 2048000,
      "rowLimit": 10000
     },
     "inputWidgets": {},
     "nuid": "4f29c3e7-a7e5-4535-9043-2e2ef4ae942a",
     "showTitle": false,
     "tableResultSettingsMap": {},
     "title": ""
    }
   },
   "outputs": [
    {
     "name": "stdout",
     "output_type": "stream",
     "text": [
      "Test embeddings: [-0.015472412109375, -0.01314544677734375, -0.0222625732421875, 0.0024280548095703125, 0.00994873046875, -0.0113983154296875, 0.0257720947265625, -0.0082244873046875, 0.013671875, 0.02557373046875, -0.0423583984375, -0.00958251953125, 0.051666259765625, -0.036163330078125, -0.01220703125, -0.01268768310546875, -0.02960205078125, 0.019378662109375, -0.045196533203125, 0.0170135498046875]...\n"
     ]
    }
   ],
   "source": [
    "from databricks.vector_search.client import VectorSearchClient\n",
    "from langchain.vectorstores import DatabricksVectorSearch\n",
    "from langchain.embeddings import DatabricksEmbeddings\n",
    "\n",
    "##-- Setup authentication for model\n",
    "\n",
    "##-- Test embedding Langchain model\n",
    "##-- NB: Question embedding model must match the one used in the chunk in the previous model \n",
    "embedding_model = DatabricksEmbeddings(endpoint=embedding_model_endpoint)\n",
    "print(f\"Test embeddings: {embedding_model.embed_query('What is Databricks?')[:20]}...\")\n",
    "\n",
    "def get_retriever(persist_dir: str = None,\n",
    "                  db_vs_index_table_path=\"\",\n",
    "                  db_endpoint_model_name=\"\",\n",
    "                  db_embedding_model_endpoint=\"\",\n",
    "                  db_embedding_text_data=\"\",\n",
    "                  db_databricks_token=\"\",\n",
    "                  db_host=\"\"):\n",
    "    \n",
    "    ##-- Get the serverless endpoint URL used to send requests to the model \n",
    "    vsc = VectorSearchClient(\n",
    "        workspace_url=db_host, \n",
    "        personal_access_token=db_databricks_token\n",
    "        )\n",
    "    \n",
    "    ##-- Retrieve the index\n",
    "    vs_index = vsc.get_index(\n",
    "        endpoint_name=db_endpoint_model_name,\n",
    "        index_name=db_vs_index_table_path\n",
    "        )\n",
    "\n",
    "    ##-- Create the retriever\n",
    "    vectorstore = DatabricksVectorSearch(\n",
    "        vs_index, \n",
    "        text_column=db_embedding_text_data, \n",
    "        embedding=db_embedding_model_endpoint\n",
    "        )\n",
    "    return vectorstore.as_retriever()"
   ]
  },
  {
   "cell_type": "code",
   "execution_count": 0,
   "metadata": {
    "application/vnd.databricks.v1+cell": {
     "cellMetadata": {
      "byteLimit": 2048000,
      "rowLimit": 10000
     },
     "inputWidgets": {},
     "nuid": "5679d108-f797-4905-89b8-f221c0949598",
     "showTitle": false,
     "tableResultSettingsMap": {},
     "title": ""
    }
   },
   "outputs": [
    {
     "name": "stdout",
     "output_type": "stream",
     "text": [
      "[NOTICE] Using a Personal Authentication Token (PAT). Recommended for development only. For improved performance, please use Service Principal based authentication. To disable this message, pass disable_notice=True to VectorSearchClient().\n"
     ]
    },
    {
     "name": "stderr",
     "output_type": "stream",
     "text": [
      "WARNING:langchain_community.vectorstores.databricks_vector_search:embedding model is not used in delta-sync index with Databricks-managed embeddings.\n",
      "/local_disk0/.ephemeral_nfs/envs/pythonEnv-2b379d70-7987-4d0b-9e53-cffdb7c39cc3/lib/python3.12/site-packages/langchain_core/_api/deprecation.py:119: LangChainDeprecationWarning: The method `BaseRetriever.get_relevant_documents` was deprecated in langchain-core 0.1.46 and will be removed in 0.3.0. Use invoke instead.\n",
      "  warn_deprecated(\n"
     ]
    },
    {
     "name": "stdout",
     "output_type": "stream",
     "text": [
      "Relevant documents: page_content='Given a2D arraygrid[][]of dimensionN * M, the task is to perform theDepth – First Searchtraversal on the given2D array. Examples: Input:grid[][] = {{-1, 2, 3}, {0, 9, 8}, {1, 0, 1}}Output:-1 2 3 8 1 0 9 0 1Explanation:The sequence of traversal of matrix elements using DFS is-1, 2, 3, 8, 1, 0, 9, 0, 1. Input:grid[][] = {{1, 2, 3}, {5, 6, 7}, {9, 10, 11}}Output:1 2 3 7 11 10 6 5 9 Approach:The idea is to useStack Data Structureto performDFS Traversalon the2D array. Follow the steps below to solve the given problem: Note:Direction vectors are used to traverse the adjacent cells of a given cell in a given order. For example,(x, y)is a cell whose adjacent cells(x – 1, y), (x, y + 1), (x + 1, y), (x, y – 1)need to be traversed, then it can be done using the direction vectors(-1, 0), (0, 1), (1, 0), (0, -1)in the up, left, down and right order. Below is the implementation of the above approach: Time Complexity:O(N * M)Auxiliary Space:O(N * M )' metadata={'url': 'https://www.geeksforgeeks.org/depth-first-traversal-dfs-on-a-2d-array/'}\n"
     ]
    }
   ],
   "source": [
    "##-- Test retriever\n",
    "vectorstore = get_retriever(\n",
    "    db_vs_index_table_path=vs_index_table_path,\n",
    "    db_endpoint_model_name=endpoint_model_name,\n",
    "    db_embedding_model_endpoint=embedding_model_endpoint,\n",
    "    db_embedding_text_data=embedding_text_data,\n",
    "    db_databricks_token=token_param,\n",
    "    db_host=host_param\n",
    "    )\n",
    "\n",
    "similar_documents = vectorstore.get_relevant_documents(\"Databricks Jobs\")\n",
    "print(f\"Relevant documents: {similar_documents[0]}\")"
   ]
  },
  {
   "cell_type": "code",
   "execution_count": 0,
   "metadata": {
    "application/vnd.databricks.v1+cell": {
     "cellMetadata": {
      "byteLimit": 2048000,
      "rowLimit": 10000
     },
     "inputWidgets": {},
     "nuid": "5be4a418-da9f-466b-8ac5-e822b6438de9",
     "showTitle": false,
     "tableResultSettingsMap": {},
     "title": ""
    }
   },
   "outputs": [
    {
     "name": "stdout",
     "output_type": "stream",
     "text": [
      "Test chat model:\n",
      " content='¡Fantástico, admiro tu enfoque en la precisión y el respeto! Ahora, permitamos abordar tu pregunta:\\n\\nClean rooms, también conocidas como salas blancas o salas limpias, son entornos controlados especialmente diseñados para minimizar la contaminación y mantener un nivel muy bajo de partículas en el aire. Estas salas se emplean en diversos campos, como la electrónica, la farmacéutica, la biotecnología y la investigación aeroespacial. La clasificación de las salas limpias se basa en la cantidad de partículas permitidas por unidad de volumen de aire.\\n\\nExisten dos estándares principales para categorizar clean rooms: la norma federal de Estados Unidos (FED STD 209E) y la norma internacional ISO 14644-1. La norma FED STD 209E clasifica las salas blancas en Clase 100 a Clase 100,000, según el número de partículas de 0.5 μm por pie cúbico. La norma ISO 14644-1, más reciente y ampliamente aceptada' response_metadata={'prompt_tokens': 87, 'completion_tokens': 300, 'total_tokens': 387} id='run-a76e8f8f-31aa-428c-bd00-3b31d1a8f235-0'\n"
     ]
    }
   ],
   "source": [
    "##-- Test Databricks Foundation LLM model\n",
    "from langchain.chat_models import ChatDatabricks\n",
    "question_chat_model = ChatDatabricks(\n",
    "    endpoint=f\"{foundation_endpoint}\", \n",
    "    max_tokens=200, \n",
    "    temperature=0.7, \n",
    "    # top_p=0.9, \n",
    "    # stop=[\"\\n\", \"###\"], \n",
    "    # presence_penalty=0.6, \n",
    "    # frequency_penalty=0.5\n",
    ")\n",
    "\n",
    "correct_answer_chat_model = ChatDatabricks(\n",
    "    endpoint=f\"{foundation_endpoint}\", \n",
    "    max_tokens=300, \n",
    "    temperature=0.8, \n",
    "    # top_p=0.9, \n",
    "    # stop=[\"\\n\", \"###\"], \n",
    "    # presence_penalty=0.5, \n",
    "    # frequency_penalty=0.5\n",
    ")\n",
    "\n",
    "incorrect_answer_chat_model = ChatDatabricks(\n",
    "    endpoint=f\"{foundation_endpoint}\", \n",
    "    max_tokens=300, \n",
    "    temperature=0.8, \n",
    "    # top_p=0.95, \n",
    "    # stop=[\"\\n\", \"###\"], \n",
    "    # presence_penalty=0.5, \n",
    "    # frequency_penalty=0.6\n",
    ")\n",
    "\n",
    "topic_generator_model = ChatDatabricks(\n",
    "    endpoint=f\"{foundation_endpoint}\", \n",
    "    max_tokens=50, \n",
    "    temperature=0.8, \n",
    "    # top_p=0.85, \n",
    "    # stop=[\"\\n\", \"###\"], \n",
    "    # presence_penalty=0.6, \n",
    "    # frequency_penalty=0.9\n",
    ")\n",
    "print(f\"Test chat model:\\n {correct_answer_chat_model.invoke('What are clean rooms?')}\")"
   ]
  },
  {
   "cell_type": "code",
   "execution_count": 0,
   "metadata": {
    "application/vnd.databricks.v1+cell": {
     "cellMetadata": {
      "byteLimit": 2048000,
      "rowLimit": 10000
     },
     "inputWidgets": {},
     "nuid": "352987c2-842c-427e-8745-c7b681244fc6",
     "showTitle": false,
     "tableResultSettingsMap": {},
     "title": ""
    }
   },
   "outputs": [],
   "source": [
    "topic_template = '''\n",
    "You are an expert Data Structures and Algorithms (DSA) educator. Your task is to return **one high-level, important topic** from the given context. You will be shown a list of previous topics you've already provided. Do **not** repeat any topic from that list. If needed, choose a subtopic instead.\n",
    "\n",
    "Focus on **core DSA concepts** like arrays, linked lists, recursion, sorting, trees, graphs, dynamic programming, etc.\n",
    "\n",
    "Format Instructions: {format_instructions}\n",
    "\n",
    "Context: {context}\n",
    "\n",
    "Previous Topics You Already Returned: {previous_topics}\n",
    "'''\n",
    "\n",
    "\n",
    "question_template = '''\n",
    "Based on the provided context and topic, generate a **clear and relevant DSA quiz question**. The question should challenge the user's understanding of the concept.\n",
    "\n",
    "Instructions:\n",
    "1. **Contextual Relevance:** Ensure the question comes from the context.\n",
    "2. **Focus:** Highlight key DSA concepts (e.g., time complexity, behavior, edge cases).\n",
    "3. **Format:** Use a quiz-friendly format: multiple choice, true/false, or short answer.\n",
    "4. **Clarity:** The question should be clear and concise.\n",
    "\n",
    "Examples:\n",
    "- What is the time complexity of binary search on a sorted array?\n",
    "- Which data structure is best suited for implementing a LRU cache?\n",
    "\n",
    "Format Instructions: {format_instructions}\n",
    "\n",
    "Context: {context}\n",
    "Topic: {topic}\n",
    "\n",
    "Generate a question:\n",
    "'''\n",
    "\n",
    "\n",
    "answer_template = '''\n",
    "Based on the context and question, write a precise, correct answer. It should be directly supported by the context and explain the key DSA idea.\n",
    "\n",
    "Instructions:\n",
    "1. **Accuracy:** Make sure the answer is correct.\n",
    "2. **Clarity:** Keep the answer short, clear, and to the point.\n",
    "3. **Format Match:** Align with the question format (multiple choice, true/false, etc.)\n",
    "\n",
    "Examples:\n",
    "- For \"What is the time complexity of binary search?\", a correct answer is: **O(log n)**\n",
    "- For \"Which data structure is best for LRU cache?\", a correct answer is: **A combination of a hash map and a doubly linked list.**\n",
    "\n",
    "Format Instructions: {format_instructions}\n",
    "\n",
    "Context: {context}\n",
    "Question: {question}\n",
    "\n",
    "Generate the correct answer:\n",
    "'''\n",
    "\n",
    "\n",
    "incorrect_answers_template = '''\n",
    "Based on the context, generate a **plausible but incorrect answer** to the given DSA question. This will be used as a distractor in a multiple choice quiz.\n",
    "\n",
    "Instructions:\n",
    "1. **Incorrect but Believable:** Answer should be wrong, but realistic enough to mislead beginners.\n",
    "2. **Match Format:** Length and tone should match the correct answer.\n",
    "3. **Uniqueness:** Don't repeat earlier incorrect answers.\n",
    "4. **Topic Fit:** Stay within the scope of DSA concepts.\n",
    "\n",
    "Examples:\n",
    "- For \"What is the time complexity of binary search?\", a wrong but realistic answer could be: **O(n)**\n",
    "- For \"Which data structure is best for LRU cache?\", a wrong answer could be: **A queue implemented using a stack.**\n",
    "\n",
    "Correct Answer You Gave Before (Do NOT Repeat): {correct_answer}\n",
    "\n",
    "Incorrect, But Realistic Answers You Already Gave (Do NOT Repeat): {previous_answers}\n",
    "\n",
    "Format Instructions: {format_instructions}\n",
    "\n",
    "Context: {context}\n",
    "\n",
    "Question: {question}\n",
    "\n",
    "Generate a realistically incorrect answer:\n",
    "'''\n"
   ]
  },
  {
   "cell_type": "code",
   "execution_count": 0,
   "metadata": {
    "application/vnd.databricks.v1+cell": {
     "cellMetadata": {
      "byteLimit": 2048000,
      "rowLimit": 10000
     },
     "inputWidgets": {},
     "nuid": "5f4fb421-c4c2-4950-b3a4-6bc30b8a5d78",
     "showTitle": false,
     "tableResultSettingsMap": {},
     "title": ""
    }
   },
   "outputs": [],
   "source": [
    "from langchain.prompts import PromptTemplate\n",
    "from langchain.chat_models import ChatDatabricks\n",
    "from langchain_core.pydantic_v1 import BaseModel, Field, validator, AnyUrl, ValidationError\n",
    "from typing import List\n",
    "\n",
    "class QuestionModel(BaseModel):\n",
    "    question: str = Field(description=\"question to be used for generating correct and incorrect but plausible answers\")\n",
    "    source: List[AnyUrl] = Field(description=\"a list of the top 2 most important links to the source material from the context provided that was used to generate the question\")\n",
    "\n",
    "    @validator('question')\n",
    "    def validate_question(cls, value):\n",
    "        if not value or len(value) < 10:\n",
    "            raise ValueError(\"Question is too short or missing.\")\n",
    "        if len(value) > 500:\n",
    "            raise ValueError(\"Question is too long winded. Should be shorter and more concise.\")\n",
    "        return value\n",
    "    \n",
    "    # @validator('source')\n",
    "    # def validate_source(cls, value):\n",
    "    #     if not value or len(value) > 3:\n",
    "    #         raise ValueError(\"Too many links returned, should be 2 max, 3 is allowed if necessary, 4 will throw an error.\")\n",
    "    #     return value\n",
    "\n",
    "class AnswerModel(BaseModel):\n",
    "    answer: str = Field(description=\"correct answer to the question that is short and concise\")\n",
    "    explanation: str = Field(description=\"an explanation describing why the answer provided is correct\")\n",
    "    source: List[AnyUrl] = Field(description=\"a list of the top 2 most important links to the source material from the context provided that was used to answer the question\")\n",
    "\n",
    "    @validator('answer')\n",
    "    def validate_answer(cls, value):\n",
    "        if not value or len(value) < 1:\n",
    "            raise ValueError(\"Answer is too short or missing.\")\n",
    "        return value\n",
    "    \n",
    "    @validator('explanation')\n",
    "    def validate_explanation(cls, value):\n",
    "        if not value or len(value) > 750:\n",
    "            raise ValueError(\"Explanation is too long winded. Needs to be shorter and more precise.\")\n",
    "        return value\n",
    "    \n",
    "    @validator('source')\n",
    "    def validate_source(cls, value):\n",
    "        if not value or len(value) > 3:\n",
    "            raise ValueError(\"Too many links returned, should be 2 max, 3 is allowed if necessary, 4 will throw an error.\")\n",
    "        return value\n",
    "\n",
    "class IncorrectAnswerModel(BaseModel):\n",
    "    incorrect_answer: str = Field(description=\"incorrect but plausible answer to the question that are short and concise\")\n",
    "    explanation: str = Field(description=\"an explanation describing why the incorrect answer provided is incorrect\")\n",
    "    source: List[AnyUrl] = Field(description=\"a list of the top 2 most important links to the source material from the context provided that was used respond to this ask\")\n",
    "\n",
    "    @validator('incorrect_answer')\n",
    "    def validate_incorrect_answer(cls, value, values):\n",
    "        if not value or len(value) < 3:\n",
    "            raise ValueError(\"Incorrect answer should be longer than 3 characters\")\n",
    "        return value\n",
    "    \n",
    "    @validator('explanation')\n",
    "    def validate_explanation(cls, value):\n",
    "        if not value or len(value) > 750:\n",
    "            raise ValueError(\"Explanation is too long winded.\")\n",
    "        return value\n",
    "    \n",
    "    @validator('source')\n",
    "    def validate_source(cls, value):\n",
    "        if not value or len(value) > 3:\n",
    "            raise ValueError(\"Too many links returned, should be 2 max, 3 is allowed if necessary, 4 will throw an error.\")\n",
    "        return value\n",
    "\n",
    "class TopicModel(BaseModel):\n",
    "    topic: str = Field(description=\"an important topic that can be used to create questions and can be described in 5 words or less\")\n",
    "\n",
    "    @validator('topic')\n",
    "    def validate_topic(cls, value):\n",
    "        if not value or len(value) < 1:\n",
    "            raise ValueError(\"Topic is too short or missing.\")\n",
    "        return value\n",
    "\n",
    "class QuizModel(BaseModel):\n",
    "    topic: TopicModel\n",
    "    question: QuestionModel\n",
    "    correct_answer: AnswerModel\n",
    "    incorrect_answers: List[IncorrectAnswerModel]\n",
    "\n",
    "    # @validator('incorrect_answers')\n",
    "    # def validate_incorrect_answers(cls, value):\n",
    "    #     if len(value) != 3:\n",
    "    #         raise ValueError(\"There must be exactly 3 incorrect answers.\")\n",
    "    #     return value"
   ]
  },
  {
   "cell_type": "code",
   "execution_count": 0,
   "metadata": {
    "application/vnd.databricks.v1+cell": {
     "cellMetadata": {
      "byteLimit": 2048000,
      "rowLimit": 10000
     },
     "inputWidgets": {},
     "nuid": "c8eff77a-8a26-4798-a9c7-afea67bed7ed",
     "showTitle": false,
     "tableResultSettingsMap": {},
     "title": ""
    }
   },
   "outputs": [],
   "source": [
    "from langchain_core.output_parsers import PydanticOutputParser, JsonOutputParser\n",
    "from langchain_core.exceptions import OutputParserException\n",
    "question_parser = JsonOutputParser(pydantic_object=QuestionModel)\n",
    "answer_parser = JsonOutputParser(pydantic_object=AnswerModel)\n",
    "incorrect_answer_parser = JsonOutputParser(pydantic_object=IncorrectAnswerModel)\n",
    "topic_parser = JsonOutputParser(pydantic_object=TopicModel)"
   ]
  },
  {
   "cell_type": "code",
   "execution_count": 0,
   "metadata": {
    "application/vnd.databricks.v1+cell": {
     "cellMetadata": {
      "byteLimit": 2048000,
      "rowLimit": 10000
     },
     "inputWidgets": {},
     "nuid": "a5079540-fe21-42b5-97dc-69cea03d0149",
     "showTitle": false,
     "tableResultSettingsMap": {},
     "title": ""
    }
   },
   "outputs": [
    {
     "data": {
      "text/plain": [
       "DataFrame[]"
      ]
     },
     "execution_count": 47,
     "metadata": {},
     "output_type": "execute_result"
    }
   ],
   "source": [
    "import json\n",
    "import uuid\n",
    "from datetime import datetime\n",
    "from pyspark.sql.types import StructType, StructField, StringType\n",
    "# Define the schema for the quiz table\n",
    "schema = StructType([\n",
    "    StructField(\"topic\", StringType(), True),\n",
    "    StructField(\"run_id\", StringType(), True),\n",
    "    StructField(\"question_model_id\", StringType(), True),\n",
    "    StructField(\"answer_model_id\", StringType(), True),\n",
    "    StructField(\"incorrect_answer_model_id\", StringType(), True),\n",
    "    StructField(\"quiz_data\", StringType(), True)\n",
    "])\n",
    "\n",
    "# Create the Unity Catalog table (if not already created)\n",
    "spark.sql(f\"CREATE TABLE IF NOT EXISTS {quiz_questions_table_path} (topic STRING, run_id STRING, question_model_id STRING, answer_model_id STRING, incorrect_answer_model_id STRING, quiz_data STRING)\")"
   ]
  },
  {
   "cell_type": "code",
   "execution_count": 0,
   "metadata": {
    "application/vnd.databricks.v1+cell": {
     "cellMetadata": {
      "byteLimit": 2048000,
      "rowLimit": 10000
     },
     "inputWidgets": {},
     "nuid": "7262e951-06e5-4fb3-990a-ae93b352650f",
     "showTitle": false,
     "tableResultSettingsMap": {},
     "title": ""
    }
   },
   "outputs": [],
   "source": [
    "from mlflow.models import infer_signature\n",
    "from mlflow.tracking import MlflowClient\n",
    "\n",
    "mlflow.set_registry_uri(\"databricks-uc\")\n",
    "client = MlflowClient()\n",
    "\n",
    "def log_run(run_name, query, response, chain, suffix):\n",
    "    \"\"\"\n",
    "    Log a machine learning run with MLflow, capturing the model signature and information.\n",
    "\n",
    "    :param run_name: Name of the MLflow run.\n",
    "    :param query: Input query data for the model.\n",
    "    :param response: Model response data.\n",
    "    :param chain: Model chain to be logged.\n",
    "    :param suffix: Suffix to append to the run and model name.\n",
    "    :return: Tuple containing the run ID and model URI.\n",
    "    \"\"\"\n",
    "    with mlflow.start_run(run_name=run_name + suffix) as run:\n",
    "        signature = infer_signature(query, response)\n",
    "        model_info = mlflow.langchain.log_model(\n",
    "            chain,\n",
    "            loader_fn=get_retriever,\n",
    "            artifact_path=\"chain\",\n",
    "            registered_model_name=model_name + suffix,\n",
    "            pip_requirements=[\n",
    "                \"mlflow==\" + mlflow.__version__,\n",
    "                \"langchain==\" + langchain.__version__,\n",
    "                \"databricks-vectorsearch==0.22\",\n",
    "            ],\n",
    "            signature=signature,\n",
    "        )\n",
    "    return run.info.run_id, model_info.model_uri\n",
    "\n",
    "\n",
    "def get_latest_model_version_id(model_name):\n",
    "    \"\"\"\n",
    "    Get the latest model version ID for the given model name.\n",
    "    \n",
    "    :param model_name: Name of the model registered in MLflow.\n",
    "    :return: Latest model version ID.\n",
    "    \"\"\"\n",
    "    # Search for model versions\n",
    "    versions = client.search_model_versions(f\"name='{model_name}'\")\n",
    "    # Get the latest version\n",
    "    latest_version = max(versions, key=lambda v: int(v.version))\n",
    "    return latest_version.version"
   ]
  },
  {
   "cell_type": "code",
   "execution_count": 0,
   "metadata": {
    "application/vnd.databricks.v1+cell": {
     "cellMetadata": {
      "byteLimit": 2048000,
      "rowLimit": 10000
     },
     "inputWidgets": {},
     "nuid": "bc6c85d9-736d-4348-a375-0d73e2bfbc65",
     "showTitle": false,
     "tableResultSettingsMap": {},
     "title": ""
    }
   },
   "outputs": [],
   "source": [
    "# Function to format previous incorrect answers\n",
    "def format_previous_answers(previous_answers):\n",
    "    \"\"\"\n",
    "    Format a list of previous incorrect answers into a string.\n",
    "\n",
    "    :param previous_answers: List of previous incorrect answers.\n",
    "    :return: Formatted string of previous incorrect answers.\n",
    "    \"\"\"\n",
    "    if not previous_answers:\n",
    "        return \"None\"\n",
    "    return \"\\n\".join(f\"- {answer.incorrect_answer}\" for answer in previous_answers)\n",
    "\n",
    "\n",
    "# Function to format previous topics\n",
    "def format_previous_topics(previous_topics):\n",
    "    \"\"\"\n",
    "    Format a list of previous topics into a string.\n",
    "\n",
    "    :param previous_topics: List of previous topics.\n",
    "    :return: Formatted string of previous topics.\n",
    "    \"\"\"\n",
    "    if not previous_topics:\n",
    "        return \"None\"\n",
    "    return \"\\n\".join(f\"- {topic.topic}\" for topic in previous_topics)\n",
    "\n",
    "\n",
    "# Function to store generated quiz questions + answers in UC Table\n",
    "def store_quiz_question_in_table(\n",
    "    topic,\n",
    "    run_id,\n",
    "    question_model_id,\n",
    "    answer_model_id,\n",
    "    incorrect_answer_model_id,\n",
    "    quiz_data\n",
    "):\n",
    "    \"\"\"\n",
    "    Store generated quiz questions and answers in a Unity Catalog table.\n",
    "\n",
    "    :param topic: Topic of the quiz question.\n",
    "    :param run_id: MLflow run ID associated with the quiz question.\n",
    "    :param question_model_id: Model ID used for generating the quiz question.\n",
    "    :param answer_model_id: Model ID used for generating the correct answer.\n",
    "    :param incorrect_answer_model_id: Model ID used for generating incorrect answers.\n",
    "    :param quiz_data: Dictionary containing the quiz question and answers.\n",
    "    \"\"\"\n",
    "    # Create a dictionary for the quiz question\n",
    "    quiz_record = {\n",
    "        \"topic\": topic,\n",
    "        \"run_id\": run_id,\n",
    "        \"question_model_id\": question_model_id,\n",
    "        \"answer_model_id\": answer_model_id,\n",
    "        \"incorrect_answer_model_id\": incorrect_answer_model_id,\n",
    "        \"quiz_data\": json.dumps(quiz_data),\n",
    "    }\n",
    "    # Convert the dictionary to a DataFrame\n",
    "    quiz_df = spark.createDataFrame([quiz_record], schema)\n",
    "    # Append the DataFrame to the Unity Catalog table\n",
    "    quiz_df.write.mode(\"append\").saveAsTable(quiz_questions_table_path)"
   ]
  },
  {
   "cell_type": "code",
   "execution_count": 0,
   "metadata": {
    "application/vnd.databricks.v1+cell": {
     "cellMetadata": {
      "byteLimit": 2048000,
      "rowLimit": 10000
     },
     "inputWidgets": {},
     "nuid": "4499d853-c994-412f-b621-37820f43e28f",
     "showTitle": false,
     "tableResultSettingsMap": {},
     "title": ""
    }
   },
   "outputs": [
    {
     "name": "stderr",
     "output_type": "stream",
     "text": [
      "/local_disk0/.ephemeral_nfs/envs/pythonEnv-2b379d70-7987-4d0b-9e53-cffdb7c39cc3/lib/python3.12/site-packages/langchain_core/_api/deprecation.py:119: LangChainDeprecationWarning: The class `LLMChain` was deprecated in LangChain 0.1.17 and will be removed in 0.3.0. Use RunnableSequence, e.g., `prompt | llm` instead.\n",
      "  warn_deprecated(\n"
     ]
    }
   ],
   "source": [
    "from langchain.chains import LLMChain\n",
    "from langchain.prompts import PromptTemplate\n",
    "\n",
    "\n",
    "def create_chain(template, input_variables, chat_model, parser):\n",
    "  \"\"\"\n",
    "  Create a language model chain using the given template, input variables, chat model, and parser.\n",
    "  \n",
    "  :param template: Template string for the prompt.\n",
    "  :param input_variables: List of input variables for the prompt.\n",
    "  :param chat_model: Chat model to be used in the chain.\n",
    "  :param parser: Output parser to be used in the chain.\n",
    "  :return: Configured LLMChain instance.\n",
    "  \"\"\"\n",
    "  prompt = PromptTemplate(\n",
    "    template=template,\n",
    "    input_variables=input_variables,\n",
    "    partial_variables={\"format_instructions\": parser.get_format_instructions()},\n",
    "  )\n",
    "  chain = LLMChain(\n",
    "    llm=chat_model,\n",
    "    prompt=prompt,\n",
    "    output_parser=parser\n",
    "  )\n",
    "  return chain\n",
    "  \n",
    "# Create a question chain\n",
    "question_chain = create_chain(\n",
    "  template=question_template,\n",
    "  input_variables=[\"context\", \"topic\"],\n",
    "  chat_model=question_chat_model,\n",
    "  parser=question_parser\n",
    ")\n",
    "\n",
    "# Create an answer chain\n",
    "answer_chain = create_chain(\n",
    "  template=answer_template,\n",
    "  input_variables=[\"context\", \"question\"],\n",
    "  chat_model=correct_answer_chat_model,\n",
    "  parser=answer_parser\n",
    ")\n",
    "\n",
    "# Create incorrect answers chain\n",
    "incorrect_answers_chain = create_chain(\n",
    "  template=incorrect_answers_template,\n",
    "  input_variables=[\"context\", \"question\", \"previous_answers\", \"correct_answer\"],\n",
    "  chat_model=incorrect_answer_chat_model,\n",
    "  parser=incorrect_answer_parser\n",
    ")\n",
    "\n",
    "# Create that can be used to generate topics to be used for questions\n",
    "topic_generator_chain = create_chain(\n",
    "  template=topic_template,\n",
    "  input_variables=[\"context\", \"previous_topics\"],\n",
    "  chat_model=topic_generator_model,\n",
    "  parser=topic_parser\n",
    ")\n"
   ]
  },
  {
   "cell_type": "code",
   "execution_count": 0,
   "metadata": {
    "application/vnd.databricks.v1+cell": {
     "cellMetadata": {
      "byteLimit": 2048000,
      "rowLimit": 10000
     },
     "inputWidgets": {},
     "nuid": "d2aed61a-1bd4-46e6-9d95-b8f24e7b0f52",
     "showTitle": false,
     "tableResultSettingsMap": {},
     "title": ""
    }
   },
   "outputs": [],
   "source": [
    "def generate_topics(high_level_idea, num_topics, previous_topics=[]):\n",
    "  topics = []\n",
    "  context = vectorstore.get_relevant_documents(high_level_idea)\n",
    "  while len(topics) < num_topics:\n",
    "    topic_response = retry_chain(topic_generator_chain, context=context, previous_topics=format_previous_topics(topics + previous_topics))\n",
    "    topic = TopicModel(**topic_response)\n",
    "    if topic.topic in [tp.topic for tp in topics]:\n",
    "        print(f\"Duplicate topic generated: {topic.topic}. Retrying...\")\n",
    "        continue\n",
    "    topics.append(topic)\n",
    "  return topics\n",
    "\n",
    "# Retry chain used to rerun ask if the JSON is malformed and outputparser cant serialize it\n",
    "def retry_chain(chain, **kwargs):\n",
    "    max_retries = 5\n",
    "    for attempt in range(max_retries):\n",
    "        try:\n",
    "            return chain.run(**kwargs)\n",
    "        except OutputParserException as e:\n",
    "            if attempt < max_retries - 1:\n",
    "                print(f\"Attempt {attempt + 1} failed: {e}. Retrying...\")\n",
    "                continue\n",
    "            else:\n",
    "                return 'stuck_in_loop'\n",
    "\n",
    "\n",
    "def generate_quiz_components(topic, log=False):\n",
    "    context = vectorstore.get_relevant_documents(topic.topic)\n",
    "    \n",
    "    max_question_retries = 5\n",
    "    retries = 0\n",
    "    while retries < max_question_retries:\n",
    "        question_response = retry_chain(question_chain, context=context, topic=topic.topic)\n",
    "        try:\n",
    "            question = QuestionModel(**question_response)\n",
    "            if log:\n",
    "                log_run(run_name, {'topic': topic.topic}, question_response, question_chain, '_question_model')\n",
    "            break\n",
    "        except (ValidationError, TypeError) as e:\n",
    "            print(f\"question validation error: {question_response}\")\n",
    "            print(f\"Retrying {retries} more times\")\n",
    "            retries += 1\n",
    "            if retries == max_question_retries:\n",
    "                return 'stuck_in_loop'\n",
    "\n",
    "    context = vectorstore.get_relevant_documents(question.question)\n",
    "    max_correct_retries = 5\n",
    "    retries = 0\n",
    "    while retries < max_correct_retries:\n",
    "        correct_answer_response = retry_chain(answer_chain, context=context, question=question.question)\n",
    "        try:\n",
    "            correct_answer = AnswerModel(**correct_answer_response)\n",
    "            if log:\n",
    "                log_run(run_name, {'question': question.question}, correct_answer_response, answer_chain, '_answer_model')\n",
    "            break\n",
    "        except ValidationError as e:\n",
    "            print(f\"correct answer validation error: {correct_answer_response}\")\n",
    "            print(f\"Retrying {retries} more times\")\n",
    "            retries += 1\n",
    "        if retries == max_correct_retries:\n",
    "            return 'stuck_in_loop'\n",
    "\n",
    "    incorrect_answers = []\n",
    "    seen_answers = set()\n",
    "    total_attempts = 0\n",
    "    max_total_attempts = 15  # Total tries, not per incorrect answer\n",
    "\n",
    "    while len(incorrect_answers) < 3 and total_attempts < max_total_attempts:\n",
    "        total_attempts += 1\n",
    "        incorrect_answer_response = retry_chain(\n",
    "            incorrect_answers_chain,\n",
    "            context=context,\n",
    "            question=question.question,\n",
    "            correct_answer=correct_answer.answer,\n",
    "            previous_answers=format_previous_answers(incorrect_answers)\n",
    "        )\n",
    "        try:\n",
    "            incorrect_answer = IncorrectAnswerModel(**incorrect_answer_response)\n",
    "        except (ValueError, TypeError) as e:\n",
    "            print(f\"Incorrect answer error: {incorrect_answer_response}\")\n",
    "            continue\n",
    "\n",
    "        answer_text = incorrect_answer.incorrect_answer.strip()\n",
    "        if answer_text in seen_answers:\n",
    "            print(f\"Duplicate incorrect answer generated: {answer_text}. Retrying...\")\n",
    "            continue\n",
    "\n",
    "        seen_answers.add(answer_text)\n",
    "        incorrect_answers.append(incorrect_answer)\n",
    "\n",
    "    # Fallback if not enough unique incorrect answers were found\n",
    "    while len(incorrect_answers) < 3:\n",
    "        filler = IncorrectAnswerModel(incorrect_answer=\"Try brute-force every combination.\")\n",
    "        incorrect_answers.append(filler)\n",
    "\n",
    "    quiz = QuizModel(\n",
    "        topic=topic,\n",
    "        question=question,\n",
    "        correct_answer=correct_answer,\n",
    "        incorrect_answers=incorrect_answers\n",
    "    )\n",
    "    \n",
    "    return quiz.dict()\n"
   ]
  },
  {
   "cell_type": "code",
   "execution_count": 0,
   "metadata": {
    "application/vnd.databricks.v1+cell": {
     "cellMetadata": {
      "byteLimit": 2048000,
      "rowLimit": 10000
     },
     "inputWidgets": {},
     "nuid": "64427536-1fc0-4bcf-b3ba-a49febaf5ec9",
     "showTitle": false,
     "tableResultSettingsMap": {},
     "title": ""
    }
   },
   "outputs": [
    {
     "name": "stdout",
     "output_type": "stream",
     "text": [
      "topic='Array'\n"
     ]
    },
    {
     "name": "stderr",
     "output_type": "stream",
     "text": [
      "2025/04/04 20:33:27 INFO mlflow.types.utils: MLflow 2.9.0 introduces model signature with new data types for lists and dictionaries. For input such as Dict[str, Union[scalars, List, Dict]], we infer dictionary values types as `List -> Array` and `Dict -> Object`. \n"
     ]
    },
    {
     "data": {
      "application/vnd.jupyter.widget-view+json": {
       "model_id": "691eabec98fe4030a8482d501209ac22",
       "version_major": 2,
       "version_minor": 0
      },
      "text/plain": [
       "Uploading artifacts:   0%|          | 0/5 [00:00<?, ?it/s]"
      ]
     },
     "metadata": {},
     "output_type": "display_data"
    },
    {
     "name": "stderr",
     "output_type": "stream",
     "text": [
      "Registered model 'dsa_quiz_generator.tomanm_docs_rag_demo.db_quiz_generator_docs_rag_v3_question_model' already exists. Creating a new version of this model...\n"
     ]
    },
    {
     "data": {
      "application/vnd.jupyter.widget-view+json": {
       "model_id": "9e4e5ccd4da74dc8992229346f244223",
       "version_major": 2,
       "version_minor": 0
      },
      "text/plain": [
       "Uploading artifacts:   0%|          | 0/5 [00:00<?, ?it/s]"
      ]
     },
     "metadata": {},
     "output_type": "display_data"
    },
    {
     "name": "stderr",
     "output_type": "stream",
     "text": [
      "Created version '5' of model 'dsa_quiz_generator.tomanm_docs_rag_demo.db_quiz_generator_docs_rag_v3_question_model'.\n",
      "2025/04/04 20:33:38 INFO mlflow.types.utils: MLflow 2.9.0 introduces model signature with new data types for lists and dictionaries. For input such as Dict[str, Union[scalars, List, Dict]], we infer dictionary values types as `List -> Array` and `Dict -> Object`. \n"
     ]
    },
    {
     "data": {
      "application/vnd.jupyter.widget-view+json": {
       "model_id": "e92032938a534172a8a05634331bb6c3",
       "version_major": 2,
       "version_minor": 0
      },
      "text/plain": [
       "Uploading artifacts:   0%|          | 0/5 [00:00<?, ?it/s]"
      ]
     },
     "metadata": {},
     "output_type": "display_data"
    },
    {
     "name": "stderr",
     "output_type": "stream",
     "text": [
      "Registered model 'dsa_quiz_generator.tomanm_docs_rag_demo.db_quiz_generator_docs_rag_v3_answer_model' already exists. Creating a new version of this model...\n"
     ]
    },
    {
     "data": {
      "application/vnd.jupyter.widget-view+json": {
       "model_id": "dc7aceaa6860477d8db65bd48da2f1cd",
       "version_major": 2,
       "version_minor": 0
      },
      "text/plain": [
       "Uploading artifacts:   0%|          | 0/5 [00:00<?, ?it/s]"
      ]
     },
     "metadata": {},
     "output_type": "display_data"
    },
    {
     "name": "stderr",
     "output_type": "stream",
     "text": [
      "Created version '5' of model 'dsa_quiz_generator.tomanm_docs_rag_demo.db_quiz_generator_docs_rag_v3_answer_model'.\n"
     ]
    },
    {
     "name": "stdout",
     "output_type": "stream",
     "text": [
      "Duplicate incorrect answer generated: Use a queue instead of a stack for DFS traversal on a 2D array.. Retrying...\n",
      "Duplicate incorrect answer generated: Use a queue instead of a stack for DFS traversal on a 2D array.. Retrying...\n",
      "{'topic': {'topic': 'Array'}, 'question': {'question': 'How would you perform aDepth-First Search(DFS) traversal on a 2D array using a stack data structure?', 'source': [AnyUrl('https://www.geeksforgeeks.org/depth-first-traversal-dfs-on-a-2d-array/', scheme='https', host='www.geeksforgeeks.org', tld='org', host_type='domain', path='/depth-first-traversal-dfs-on-a-2d-array/')]}, 'correct_answer': {'answer': \"Use the stack data structure to add the starting point of the 2D array, then enter a loop. In each iteration, check if the stack is empty. If so, exit the loop. If not, pop from the stack, mark it as visited, and print its value. Then, for each direction vector (up, down, left, right), if the current cell's adjacent cell exists and hasn't been visited yet, push it into the stack. Repeat this process until the stack is empty.\", 'explanation': \"The approach involves using a stack data structure to keep track of the cells to visit next in the 2D array. Starting from a given cell, push it into the stack and mark it as visited. In each iteration, pop a cell from the stack, print its value, and for each direction vector, check if the adjacent cell exists and hasn't been visited yet. If it does, push it into the stack for future traversal. Repeat this process until the stack is empty.\", 'source': [AnyUrl('https://www.geeksforgeeks.org/depth-first-traversal-dfs-on-a-2d-array/', scheme='https', host='www.geeksforgeeks.org', tld='org', host_type='domain', path='/depth-first-traversal-dfs-on-a-2d-array/')]}, 'incorrect_answers': [{'incorrect_answer': 'Use a queue instead of a stack forDepth-First Search(DFS) traversal on a 2D array.', 'explanation': 'This is incorrect becauseDepth-First Search(DFS) typically uses a stack data structure to explore as far as possible along each branch before backtracking. A queue, on the other hand, follows a breadth-first approach, which is not suitable forDepth-First Search(DFS).', 'source': [AnyUrl('https://www.geeksforgeeks.org/depth-first-traversal-dfs-on-a-2d-array/', scheme='https', host='www.geeksforgeeks.org', tld='org', host_type='domain', path='/depth-first-traversal-dfs-on-a-2d-array/'), AnyUrl('https://www.geeksforgeeks.org/depth-first-search-or-dfs-for-a-graph/', scheme='https', host='www.geeksforgeeks.org', tld='org', host_type='domain', path='/depth-first-search-or-dfs-for-a-graph/')]}, {'incorrect_answer': 'Use a queue instead of a stack for DFS traversal on a 2D array.', 'explanation': 'Using a queue in DFS traversal would result in breadth-first search, not depth-first search. This is because a queue processes elements in a first-in, first-out manner, while a stack processes elements in a last-in, first-out manner. In DFS, we want to explore as deep as possible along each branch before moving to the next one, which is achieved using a stack.', 'source': [AnyUrl('https://www.geeksforgeeks.org/depth-first-traversal-dfs-on-a-2d-array/', scheme='https', host='www.geeksforgeeks.org', tld='org', host_type='domain', path='/depth-first-traversal-dfs-on-a-2d-array/'), AnyUrl('https://www.geeksforgeeks.org/depth-first-search-or-dfs-for-a-graph/', scheme='https', host='www.geeksforgeeks.org', tld='org', host_type='domain', path='/depth-first-search-or-dfs-for-a-graph/')]}, {'incorrect_answer': 'Use a queue and iterate through each cell in the 2D array, adding unvisited neighbors to the queue. Mark the current cell as visited and print its value. Repeat this process until the queue is empty.', 'explanation': 'The answer is incorrect because it suggests using a queue instead of a stack for DFS traversal. DFS typically uses a stack or a recursive function to go as deep as possible along each branch before backtracking.', 'source': [AnyUrl('https://www.geeksforgeeks.org/depth-first-traversal-dfs-on-a-2d-array/', scheme='https', host='www.geeksforgeeks.org', tld='org', host_type='domain', path='/depth-first-traversal-dfs-on-a-2d-array/'), AnyUrl('https://www.geeksforgeeks.org/depth-first-search-or-dfs-for-a-graph/', scheme='https', host='www.geeksforgeeks.org', tld='org', host_type='domain', path='/depth-first-search-or-dfs-for-a-graph/')]}]}\n",
      "[\n",
      "  {\n",
      "    \"topic\": {\n",
      "      \"topic\": \"Array\"\n",
      "    },\n",
      "    \"question\": {\n",
      "      \"question\": \"How would you perform aDepth-First Search(DFS) traversal on a 2D array using a stack data structure?\",\n",
      "      \"source\": [\n",
      "        \"https://www.geeksforgeeks.org/depth-first-traversal-dfs-on-a-2d-array/\"\n",
      "      ]\n",
      "    },\n",
      "    \"correct_answer\": {\n",
      "      \"answer\": \"Use the stack data structure to add the starting point of the 2D array, then enter a loop. In each iteration, check if the stack is empty. If so, exit the loop. If not, pop from the stack, mark it as visited, and print its value. Then, for each direction vector (up, down, left, right), if the current cell's adjacent cell exists and hasn't been visited yet, push it into the stack. Repeat this process until the stack is empty.\",\n",
      "      \"explanation\": \"The approach involves using a stack data structure to keep track of the cells to visit next in the 2D array. Starting from a given cell, push it into the stack and mark it as visited. In each iteration, pop a cell from the stack, print its value, and for each direction vector, check if the adjacent cell exists and hasn't been visited yet. If it does, push it into the stack for future traversal. Repeat this process until the stack is empty.\",\n",
      "      \"source\": [\n",
      "        \"https://www.geeksforgeeks.org/depth-first-traversal-dfs-on-a-2d-array/\"\n",
      "      ]\n",
      "    },\n",
      "    \"incorrect_answers\": [\n",
      "      {\n",
      "        \"incorrect_answer\": \"Use a queue instead of a stack forDepth-First Search(DFS) traversal on a 2D array.\",\n",
      "        \"explanation\": \"This is incorrect becauseDepth-First Search(DFS) typically uses a stack data structure to explore as far as possible along each branch before backtracking. A queue, on the other hand, follows a breadth-first approach, which is not suitable forDepth-First Search(DFS).\",\n",
      "        \"source\": [\n",
      "          \"https://www.geeksforgeeks.org/depth-first-traversal-dfs-on-a-2d-array/\",\n",
      "          \"https://www.geeksforgeeks.org/depth-first-search-or-dfs-for-a-graph/\"\n",
      "        ]\n",
      "      },\n",
      "      {\n",
      "        \"incorrect_answer\": \"Use a queue instead of a stack for DFS traversal on a 2D array.\",\n",
      "        \"explanation\": \"Using a queue in DFS traversal would result in breadth-first search, not depth-first search. This is because a queue processes elements in a first-in, first-out manner, while a stack processes elements in a last-in, first-out manner. In DFS, we want to explore as deep as possible along each branch before moving to the next one, which is achieved using a stack.\",\n",
      "        \"source\": [\n",
      "          \"https://www.geeksforgeeks.org/depth-first-traversal-dfs-on-a-2d-array/\",\n",
      "          \"https://www.geeksforgeeks.org/depth-first-search-or-dfs-for-a-graph/\"\n",
      "        ]\n",
      "      },\n",
      "      {\n",
      "        \"incorrect_answer\": \"Use a queue and iterate through each cell in the 2D array, adding unvisited neighbors to the queue. Mark the current cell as visited and print its value. Repeat this process until the queue is empty.\",\n",
      "        \"explanation\": \"The answer is incorrect because it suggests using a queue instead of a stack for DFS traversal. DFS typically uses a stack or a recursive function to go as deep as possible along each branch before backtracking.\",\n",
      "        \"source\": [\n",
      "          \"https://www.geeksforgeeks.org/depth-first-traversal-dfs-on-a-2d-array/\",\n",
      "          \"https://www.geeksforgeeks.org/depth-first-search-or-dfs-for-a-graph/\"\n",
      "        ]\n",
      "      }\n",
      "    ]\n",
      "  }\n",
      "]\n"
     ]
    }
   ],
   "source": [
    "import json\n",
    "\n",
    "# Change this to true when you have modified any prompts, parsers or other underlying configuration of any models, and you want to record new versions of them in Unity Catalog\n",
    "model_has_changed = True\n",
    "\n",
    "# Generate a unique run ID\n",
    "run_id = f\"{datetime.now().strftime('%Y%m%d')}-{uuid.uuid4()}\"\n",
    "\n",
    "\n",
    "# topics = generate_topics(high_level_idea='Delta Live Tables', num_topics=10, previous_topics=previous_topics)\n",
    "\n",
    "topics = [\n",
    "  TopicModel(topic='Array'),\n",
    "  TopicModel(topic='String'),\n",
    "  TopicModel(topic='Linked List'),\n",
    "  TopicModel(topic='Stack'),\n",
    "  TopicModel(topic='Queue'),\n",
    "  TopicModel(topic='Tree'),\n",
    "  TopicModel(topic='Binary Search Tree'),\n",
    "  TopicModel(topic='Heap'),\n",
    "  TopicModel(topic='Graph'),\n",
    "  TopicModel(topic='Hashing'),\n",
    "  TopicModel(topic='Recursion'),\n",
    "  TopicModel(topic='Dynamic Programming'),\n",
    "  TopicModel(topic='Greedy Algorithms'),\n",
    "  TopicModel(topic='Divide and Conquer'),\n",
    "  TopicModel(topic='Backtracking'),\n",
    "  TopicModel(topic='Bit Manipulation'),\n",
    "  TopicModel(topic='Searching Algorithms'),\n",
    "  TopicModel(topic='Sorting Algorithms'),\n",
    "  TopicModel(topic='Sliding Window'),\n",
    "  TopicModel(topic='Two Pointers'),\n",
    "  TopicModel(topic='Trie'),\n",
    "  TopicModel(topic='Matrix'),\n",
    "  TopicModel(topic='Topological Sorting'),\n",
    "  TopicModel(topic='Disjoint Set Union (DSU)'),\n",
    "  TopicModel(topic='Segment Tree'),\n",
    "  TopicModel(topic='Binary Indexed Tree (Fenwick Tree)'),\n",
    "  TopicModel(topic='KMP Algorithm'),\n",
    "  TopicModel(topic='Rabin Karp Algorithm'),\n",
    "  TopicModel(topic='Floyd Warshall Algorithm'),\n",
    "  TopicModel(topic='Dijkstra’s Algorithm')\n",
    "]\n",
    "\n",
    "topics = [TopicModel(topic='Array')]\n",
    "\n",
    "quiz = []\n",
    "\n",
    "\n",
    "first_topic = True\n",
    "\n",
    "if not model_has_changed:\n",
    "  # This needs to be commented out for first execution / setup of this notebook, as the model's will not exist yet\n",
    "  question_model_id = get_latest_model_version_id(model_name + '_question_model')\n",
    "  answer_model_id = get_latest_model_version_id(model_name + '_answer_model')\n",
    "  incorrect_answer_model_id = get_latest_model_version_id(model_name + '_incorrect_answer_model')\n",
    "for topic in topics:\n",
    "  print(topic)\n",
    "  if first_topic and model_has_changed:\n",
    "    quiz_question = generate_quiz_components(topic, True)\n",
    "    question_model_id = get_latest_model_version_id(model_name + '_question_model')\n",
    "    answer_model_id = get_latest_model_version_id(model_name + '_answer_model')\n",
    "    incorrect_answer_model_id = get_latest_model_version_id(model_name + '_incorrect_answer_model')\n",
    "    if quiz_question != 'stuck_in_loop':\n",
    "      first_topic = False\n",
    "  else:\n",
    "    quiz_question = generate_quiz_components(topic, False)\n",
    "  print(quiz_question)\n",
    "  if quiz_question != 'stuck_in_loop':\n",
    "    quiz.append(quiz_question)\n",
    "    store_quiz_question_in_table(topic.topic, run_id, question_model_id, answer_model_id, incorrect_answer_model_id, quiz_question)\n",
    "  \n",
    "print(json.dumps(quiz, indent=2))"
   ]
  }
 ],
 "metadata": {
  "application/vnd.databricks.v1+notebook": {
   "computePreferences": null,
   "dashboards": [],
   "environmentMetadata": {
    "base_environment": "",
    "environment_version": "2"
   },
   "inputWidgetPreferences": null,
   "language": "python",
   "notebookMetadata": {
    "mostRecentlyExecutedCommandWithImplicitDF": {
     "commandId": 4695130787982161,
     "dataframes": [
      "_sqldf"
     ]
    },
    "pythonIndentUnit": 4
   },
   "notebookName": "DSA-Quiz_Generator",
   "widgets": {}
  },
  "language_info": {
   "name": "python"
  }
 },
 "nbformat": 4,
 "nbformat_minor": 0
}
