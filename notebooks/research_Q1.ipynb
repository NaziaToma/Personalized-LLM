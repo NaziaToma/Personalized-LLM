{
 "cells": [
  {
   "cell_type": "code",
   "execution_count": 11,
   "id": "365ab701",
   "metadata": {},
   "outputs": [],
   "source": [
    "#RQ1: Step 1 - Setting up a prior belief based on targeted question\n",
    "\n",
    "#targeted questions\n",
    "question1 = \"Do you prefer direct next steps or detailed discussion first?\"\n",
    "question1_options=[\"1. direct steps\", \"2. detailed discussion\"]\n",
    "\n",
    "question2= \"Would you prefer a checklist or conversation?\"\n",
    "question2_options=[\"1. checklist\", \"2. conversation\"]"
   ]
  },
  {
   "cell_type": "code",
   "execution_count": 12,
   "id": "83ef79fc",
   "metadata": {},
   "outputs": [
    {
     "name": "stdout",
     "output_type": "stream",
     "text": [
      "Do you prefer direct next steps or detailed discussion first?\n",
      "1. direct steps\n",
      "2. detailed discussion\n",
      "Would you prefer a checklist or conversation?\n",
      "1. checklist\n",
      "2. conversation\n",
      "['1. direct steps', '1. checklist']\n"
     ]
    }
   ],
   "source": [
    "#Function for asking question\n",
    "\n",
    "def ask_question(question, answer):\n",
    "    #question 1\n",
    "    print(question)\n",
    "    for i in range(len(answer)):\n",
    "        print(answer[i])\n",
    "    choice= input('Enter your preferred answer number') #change it to better UI based button later\n",
    "    return answer[int(choice)-1]\n",
    "\n",
    "\n",
    "choice_result = []\n",
    "\n",
    "choice_result.append(ask_question(question1, question1_options))\n",
    "choice_result.append(ask_question(question2, question2_options))\n",
    "\n",
    "print(choice_result)\n"
   ]
  },
  {
   "cell_type": "code",
   "execution_count": null,
   "id": "817a7e11",
   "metadata": {},
   "outputs": [
    {
     "name": "stdout",
     "output_type": "stream",
     "text": [
      "{'preferred_conversation_style': 'mixed'}\n"
     ]
    }
   ],
   "source": [
    "#creating user profile based on user's answer\n",
    "\n",
    "user_profile = {\"preferred_conversation_style\": None}\n",
    "\n",
    "#take 2 answers and based on that assign key-value pair for user profile--think\n",
    "\n",
    "\n",
    "if choice_result[0]==\"1. direct steps\" and choice_result[1] == \"1. checklist\":\n",
    "    user_profile[\"preferred_conversation_style\"] = \"action_based\"\n",
    "elif choice_result[0]==\"2. detailed discussion\" and choice_result[1] == \"2. conversation\":\n",
    "    user_profile[\"preferred_conversation_style\"] = \"relationship_based\"\n",
    "else:\n",
    "    user_profile[\"preferred_conversation_style\"] = \"mixed\"\n",
    "        \n",
    "print(user_profile)\n"
   ]
  }
 ],
 "metadata": {
  "kernelspec": {
   "display_name": ".venv",
   "language": "python",
   "name": "python3"
  },
  "language_info": {
   "codemirror_mode": {
    "name": "ipython",
    "version": 3
   },
   "file_extension": ".py",
   "mimetype": "text/x-python",
   "name": "python",
   "nbconvert_exporter": "python",
   "pygments_lexer": "ipython3",
   "version": "3.12.2"
  }
 },
 "nbformat": 4,
 "nbformat_minor": 5
}
